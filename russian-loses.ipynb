{
 "cells": [
  {
   "cell_type": "code",
   "execution_count": 2,
   "id": "b75749a7",
   "metadata": {},
   "outputs": [],
   "source": [
    "import requests\n",
    "import pandas as pd\n",
    "import plotly.express as px\n",
    "import plotly.graph_objects as go\n",
    "from plotly.subplots import make_subplots\n",
    "import plotly.colors as clrs"
   ]
  },
  {
   "cell_type": "code",
   "execution_count": 44,
   "id": "6f2c7b85",
   "metadata": {},
   "outputs": [],
   "source": [
    "url_equipment = 'https://raw.githubusercontent.com/PetroIvaniuk/2022-Ukraine-Russia-War-Dataset/main/data/russia_losses_equipment.json'\n",
    "url_personnel = 'https://raw.githubusercontent.com/PetroIvaniuk/2022-Ukraine-Russia-War-Dataset/main/data/russia_losses_personnel.json'"
   ]
  },
  {
   "cell_type": "code",
   "execution_count": 45,
   "id": "44fb8615",
   "metadata": {
    "scrolled": true
   },
   "outputs": [],
   "source": [
    "response_equipment = requests.get(url_equipment)\n",
    "response_personnel = requests.get(url_personnel)"
   ]
  },
  {
   "cell_type": "code",
   "execution_count": 68,
   "id": "5ad2ab3e",
   "metadata": {},
   "outputs": [],
   "source": [
    "df_equipment = pd.DataFrame(response_equipment.json())\n",
    "df_personnel = pd.DataFrame(response_personnel.json())"
   ]
  },
  {
   "cell_type": "code",
   "execution_count": 47,
   "id": "7aa58c50",
   "metadata": {
    "scrolled": true
   },
   "outputs": [
    {
     "data": {
      "text/html": [
       "<div>\n",
       "<style scoped>\n",
       "    .dataframe tbody tr th:only-of-type {\n",
       "        vertical-align: middle;\n",
       "    }\n",
       "\n",
       "    .dataframe tbody tr th {\n",
       "        vertical-align: top;\n",
       "    }\n",
       "\n",
       "    .dataframe thead th {\n",
       "        text-align: right;\n",
       "    }\n",
       "</style>\n",
       "<table border=\"1\" class=\"dataframe\">\n",
       "  <thead>\n",
       "    <tr style=\"text-align: right;\">\n",
       "      <th></th>\n",
       "      <th>date</th>\n",
       "      <th>day</th>\n",
       "      <th>aircraft</th>\n",
       "      <th>helicopter</th>\n",
       "      <th>tank</th>\n",
       "      <th>APC</th>\n",
       "      <th>field artillery</th>\n",
       "      <th>MRL</th>\n",
       "      <th>military auto</th>\n",
       "      <th>fuel tank</th>\n",
       "      <th>drone</th>\n",
       "      <th>naval ship</th>\n",
       "      <th>anti-aircraft warfare</th>\n",
       "      <th>special equipment</th>\n",
       "      <th>mobile SRBM system</th>\n",
       "      <th>vehicles and fuel tanks</th>\n",
       "      <th>cruise missiles</th>\n",
       "      <th>greatest losses direction</th>\n",
       "    </tr>\n",
       "  </thead>\n",
       "  <tbody>\n",
       "    <tr>\n",
       "      <th>0</th>\n",
       "      <td>2022-02-25</td>\n",
       "      <td>2</td>\n",
       "      <td>10</td>\n",
       "      <td>7</td>\n",
       "      <td>80</td>\n",
       "      <td>516</td>\n",
       "      <td>49</td>\n",
       "      <td>4</td>\n",
       "      <td>100.0</td>\n",
       "      <td>60.0</td>\n",
       "      <td>0</td>\n",
       "      <td>2</td>\n",
       "      <td>0</td>\n",
       "      <td>NaN</td>\n",
       "      <td>NaN</td>\n",
       "      <td>NaN</td>\n",
       "      <td>NaN</td>\n",
       "      <td>NaN</td>\n",
       "    </tr>\n",
       "    <tr>\n",
       "      <th>1</th>\n",
       "      <td>2022-02-26</td>\n",
       "      <td>3</td>\n",
       "      <td>27</td>\n",
       "      <td>26</td>\n",
       "      <td>146</td>\n",
       "      <td>706</td>\n",
       "      <td>49</td>\n",
       "      <td>4</td>\n",
       "      <td>130.0</td>\n",
       "      <td>60.0</td>\n",
       "      <td>2</td>\n",
       "      <td>2</td>\n",
       "      <td>0</td>\n",
       "      <td>NaN</td>\n",
       "      <td>NaN</td>\n",
       "      <td>NaN</td>\n",
       "      <td>NaN</td>\n",
       "      <td>NaN</td>\n",
       "    </tr>\n",
       "    <tr>\n",
       "      <th>2</th>\n",
       "      <td>2022-02-27</td>\n",
       "      <td>4</td>\n",
       "      <td>27</td>\n",
       "      <td>26</td>\n",
       "      <td>150</td>\n",
       "      <td>706</td>\n",
       "      <td>50</td>\n",
       "      <td>4</td>\n",
       "      <td>130.0</td>\n",
       "      <td>60.0</td>\n",
       "      <td>2</td>\n",
       "      <td>2</td>\n",
       "      <td>0</td>\n",
       "      <td>NaN</td>\n",
       "      <td>NaN</td>\n",
       "      <td>NaN</td>\n",
       "      <td>NaN</td>\n",
       "      <td>NaN</td>\n",
       "    </tr>\n",
       "    <tr>\n",
       "      <th>3</th>\n",
       "      <td>2022-02-28</td>\n",
       "      <td>5</td>\n",
       "      <td>29</td>\n",
       "      <td>29</td>\n",
       "      <td>150</td>\n",
       "      <td>816</td>\n",
       "      <td>74</td>\n",
       "      <td>21</td>\n",
       "      <td>291.0</td>\n",
       "      <td>60.0</td>\n",
       "      <td>3</td>\n",
       "      <td>2</td>\n",
       "      <td>5</td>\n",
       "      <td>NaN</td>\n",
       "      <td>NaN</td>\n",
       "      <td>NaN</td>\n",
       "      <td>NaN</td>\n",
       "      <td>NaN</td>\n",
       "    </tr>\n",
       "    <tr>\n",
       "      <th>4</th>\n",
       "      <td>2022-03-01</td>\n",
       "      <td>6</td>\n",
       "      <td>29</td>\n",
       "      <td>29</td>\n",
       "      <td>198</td>\n",
       "      <td>846</td>\n",
       "      <td>77</td>\n",
       "      <td>24</td>\n",
       "      <td>305.0</td>\n",
       "      <td>60.0</td>\n",
       "      <td>3</td>\n",
       "      <td>2</td>\n",
       "      <td>7</td>\n",
       "      <td>NaN</td>\n",
       "      <td>NaN</td>\n",
       "      <td>NaN</td>\n",
       "      <td>NaN</td>\n",
       "      <td>NaN</td>\n",
       "    </tr>\n",
       "    <tr>\n",
       "      <th>...</th>\n",
       "      <td>...</td>\n",
       "      <td>...</td>\n",
       "      <td>...</td>\n",
       "      <td>...</td>\n",
       "      <td>...</td>\n",
       "      <td>...</td>\n",
       "      <td>...</td>\n",
       "      <td>...</td>\n",
       "      <td>...</td>\n",
       "      <td>...</td>\n",
       "      <td>...</td>\n",
       "      <td>...</td>\n",
       "      <td>...</td>\n",
       "      <td>...</td>\n",
       "      <td>...</td>\n",
       "      <td>...</td>\n",
       "      <td>...</td>\n",
       "      <td>...</td>\n",
       "    </tr>\n",
       "    <tr>\n",
       "      <th>111</th>\n",
       "      <td>2022-06-16</td>\n",
       "      <td>113</td>\n",
       "      <td>213</td>\n",
       "      <td>179</td>\n",
       "      <td>1449</td>\n",
       "      <td>3545</td>\n",
       "      <td>729</td>\n",
       "      <td>233</td>\n",
       "      <td>NaN</td>\n",
       "      <td>NaN</td>\n",
       "      <td>591</td>\n",
       "      <td>13</td>\n",
       "      <td>97</td>\n",
       "      <td>55.0</td>\n",
       "      <td>NaN</td>\n",
       "      <td>2494.0</td>\n",
       "      <td>129.0</td>\n",
       "      <td>Bahmut</td>\n",
       "    </tr>\n",
       "    <tr>\n",
       "      <th>112</th>\n",
       "      <td>2022-06-17</td>\n",
       "      <td>114</td>\n",
       "      <td>215</td>\n",
       "      <td>180</td>\n",
       "      <td>1456</td>\n",
       "      <td>3563</td>\n",
       "      <td>734</td>\n",
       "      <td>233</td>\n",
       "      <td>NaN</td>\n",
       "      <td>NaN</td>\n",
       "      <td>593</td>\n",
       "      <td>13</td>\n",
       "      <td>97</td>\n",
       "      <td>55.0</td>\n",
       "      <td>NaN</td>\n",
       "      <td>2496.0</td>\n",
       "      <td>129.0</td>\n",
       "      <td>Bahmut</td>\n",
       "    </tr>\n",
       "    <tr>\n",
       "      <th>113</th>\n",
       "      <td>2022-06-18</td>\n",
       "      <td>115</td>\n",
       "      <td>216</td>\n",
       "      <td>180</td>\n",
       "      <td>1465</td>\n",
       "      <td>3573</td>\n",
       "      <td>739</td>\n",
       "      <td>233</td>\n",
       "      <td>NaN</td>\n",
       "      <td>NaN</td>\n",
       "      <td>594</td>\n",
       "      <td>14</td>\n",
       "      <td>98</td>\n",
       "      <td>55.0</td>\n",
       "      <td>NaN</td>\n",
       "      <td>2513.0</td>\n",
       "      <td>129.0</td>\n",
       "      <td>Sloviansk, Bahmut and Kryvyi Rih</td>\n",
       "    </tr>\n",
       "    <tr>\n",
       "      <th>114</th>\n",
       "      <td>2022-06-19</td>\n",
       "      <td>116</td>\n",
       "      <td>216</td>\n",
       "      <td>181</td>\n",
       "      <td>1468</td>\n",
       "      <td>3577</td>\n",
       "      <td>745</td>\n",
       "      <td>235</td>\n",
       "      <td>NaN</td>\n",
       "      <td>NaN</td>\n",
       "      <td>598</td>\n",
       "      <td>14</td>\n",
       "      <td>98</td>\n",
       "      <td>55.0</td>\n",
       "      <td>NaN</td>\n",
       "      <td>2523.0</td>\n",
       "      <td>131.0</td>\n",
       "      <td>Bahmut and Zaporizhzhia</td>\n",
       "    </tr>\n",
       "    <tr>\n",
       "      <th>115</th>\n",
       "      <td>2022-06-20</td>\n",
       "      <td>117</td>\n",
       "      <td>216</td>\n",
       "      <td>181</td>\n",
       "      <td>1477</td>\n",
       "      <td>3588</td>\n",
       "      <td>749</td>\n",
       "      <td>238</td>\n",
       "      <td>NaN</td>\n",
       "      <td>NaN</td>\n",
       "      <td>601</td>\n",
       "      <td>14</td>\n",
       "      <td>98</td>\n",
       "      <td>55.0</td>\n",
       "      <td>NaN</td>\n",
       "      <td>2527.0</td>\n",
       "      <td>131.0</td>\n",
       "      <td>Bahmut and Zaporizhzhia</td>\n",
       "    </tr>\n",
       "  </tbody>\n",
       "</table>\n",
       "<p>116 rows × 18 columns</p>\n",
       "</div>"
      ],
      "text/plain": [
       "           date  day  aircraft  helicopter  tank   APC  field artillery  MRL  \\\n",
       "0    2022-02-25    2        10           7    80   516               49    4   \n",
       "1    2022-02-26    3        27          26   146   706               49    4   \n",
       "2    2022-02-27    4        27          26   150   706               50    4   \n",
       "3    2022-02-28    5        29          29   150   816               74   21   \n",
       "4    2022-03-01    6        29          29   198   846               77   24   \n",
       "..          ...  ...       ...         ...   ...   ...              ...  ...   \n",
       "111  2022-06-16  113       213         179  1449  3545              729  233   \n",
       "112  2022-06-17  114       215         180  1456  3563              734  233   \n",
       "113  2022-06-18  115       216         180  1465  3573              739  233   \n",
       "114  2022-06-19  116       216         181  1468  3577              745  235   \n",
       "115  2022-06-20  117       216         181  1477  3588              749  238   \n",
       "\n",
       "     military auto  fuel tank  drone  naval ship  anti-aircraft warfare  \\\n",
       "0            100.0       60.0      0           2                      0   \n",
       "1            130.0       60.0      2           2                      0   \n",
       "2            130.0       60.0      2           2                      0   \n",
       "3            291.0       60.0      3           2                      5   \n",
       "4            305.0       60.0      3           2                      7   \n",
       "..             ...        ...    ...         ...                    ...   \n",
       "111            NaN        NaN    591          13                     97   \n",
       "112            NaN        NaN    593          13                     97   \n",
       "113            NaN        NaN    594          14                     98   \n",
       "114            NaN        NaN    598          14                     98   \n",
       "115            NaN        NaN    601          14                     98   \n",
       "\n",
       "     special equipment  mobile SRBM system  vehicles and fuel tanks  \\\n",
       "0                  NaN                 NaN                      NaN   \n",
       "1                  NaN                 NaN                      NaN   \n",
       "2                  NaN                 NaN                      NaN   \n",
       "3                  NaN                 NaN                      NaN   \n",
       "4                  NaN                 NaN                      NaN   \n",
       "..                 ...                 ...                      ...   \n",
       "111               55.0                 NaN                   2494.0   \n",
       "112               55.0                 NaN                   2496.0   \n",
       "113               55.0                 NaN                   2513.0   \n",
       "114               55.0                 NaN                   2523.0   \n",
       "115               55.0                 NaN                   2527.0   \n",
       "\n",
       "     cruise missiles         greatest losses direction  \n",
       "0                NaN                               NaN  \n",
       "1                NaN                               NaN  \n",
       "2                NaN                               NaN  \n",
       "3                NaN                               NaN  \n",
       "4                NaN                               NaN  \n",
       "..               ...                               ...  \n",
       "111            129.0                            Bahmut  \n",
       "112            129.0                            Bahmut  \n",
       "113            129.0  Sloviansk, Bahmut and Kryvyi Rih  \n",
       "114            131.0           Bahmut and Zaporizhzhia  \n",
       "115            131.0           Bahmut and Zaporizhzhia  \n",
       "\n",
       "[116 rows x 18 columns]"
      ]
     },
     "execution_count": 47,
     "metadata": {},
     "output_type": "execute_result"
    }
   ],
   "source": [
    "df_equipment"
   ]
  },
  {
   "cell_type": "code",
   "execution_count": 48,
   "id": "6f858de7",
   "metadata": {
    "scrolled": true
   },
   "outputs": [
    {
     "data": {
      "text/html": [
       "<div>\n",
       "<style scoped>\n",
       "    .dataframe tbody tr th:only-of-type {\n",
       "        vertical-align: middle;\n",
       "    }\n",
       "\n",
       "    .dataframe tbody tr th {\n",
       "        vertical-align: top;\n",
       "    }\n",
       "\n",
       "    .dataframe thead th {\n",
       "        text-align: right;\n",
       "    }\n",
       "</style>\n",
       "<table border=\"1\" class=\"dataframe\">\n",
       "  <thead>\n",
       "    <tr style=\"text-align: right;\">\n",
       "      <th></th>\n",
       "      <th>date</th>\n",
       "      <th>day</th>\n",
       "      <th>personnel</th>\n",
       "      <th>personnel*</th>\n",
       "      <th>POW</th>\n",
       "    </tr>\n",
       "  </thead>\n",
       "  <tbody>\n",
       "    <tr>\n",
       "      <th>0</th>\n",
       "      <td>2022-02-25</td>\n",
       "      <td>2</td>\n",
       "      <td>2800</td>\n",
       "      <td>about</td>\n",
       "      <td>0</td>\n",
       "    </tr>\n",
       "    <tr>\n",
       "      <th>1</th>\n",
       "      <td>2022-02-26</td>\n",
       "      <td>3</td>\n",
       "      <td>4300</td>\n",
       "      <td>about</td>\n",
       "      <td>0</td>\n",
       "    </tr>\n",
       "    <tr>\n",
       "      <th>2</th>\n",
       "      <td>2022-02-27</td>\n",
       "      <td>4</td>\n",
       "      <td>4500</td>\n",
       "      <td>about</td>\n",
       "      <td>0</td>\n",
       "    </tr>\n",
       "    <tr>\n",
       "      <th>3</th>\n",
       "      <td>2022-02-28</td>\n",
       "      <td>5</td>\n",
       "      <td>5300</td>\n",
       "      <td>about</td>\n",
       "      <td>0</td>\n",
       "    </tr>\n",
       "    <tr>\n",
       "      <th>4</th>\n",
       "      <td>2022-03-01</td>\n",
       "      <td>6</td>\n",
       "      <td>5710</td>\n",
       "      <td>about</td>\n",
       "      <td>200</td>\n",
       "    </tr>\n",
       "    <tr>\n",
       "      <th>...</th>\n",
       "      <td>...</td>\n",
       "      <td>...</td>\n",
       "      <td>...</td>\n",
       "      <td>...</td>\n",
       "      <td>...</td>\n",
       "    </tr>\n",
       "    <tr>\n",
       "      <th>111</th>\n",
       "      <td>2022-06-16</td>\n",
       "      <td>113</td>\n",
       "      <td>32950</td>\n",
       "      <td>about</td>\n",
       "      <td>498</td>\n",
       "    </tr>\n",
       "    <tr>\n",
       "      <th>112</th>\n",
       "      <td>2022-06-17</td>\n",
       "      <td>114</td>\n",
       "      <td>33150</td>\n",
       "      <td>about</td>\n",
       "      <td>498</td>\n",
       "    </tr>\n",
       "    <tr>\n",
       "      <th>113</th>\n",
       "      <td>2022-06-18</td>\n",
       "      <td>115</td>\n",
       "      <td>33350</td>\n",
       "      <td>about</td>\n",
       "      <td>498</td>\n",
       "    </tr>\n",
       "    <tr>\n",
       "      <th>114</th>\n",
       "      <td>2022-06-19</td>\n",
       "      <td>116</td>\n",
       "      <td>33600</td>\n",
       "      <td>about</td>\n",
       "      <td>498</td>\n",
       "    </tr>\n",
       "    <tr>\n",
       "      <th>115</th>\n",
       "      <td>2022-06-20</td>\n",
       "      <td>117</td>\n",
       "      <td>33800</td>\n",
       "      <td>about</td>\n",
       "      <td>498</td>\n",
       "    </tr>\n",
       "  </tbody>\n",
       "</table>\n",
       "<p>116 rows × 5 columns</p>\n",
       "</div>"
      ],
      "text/plain": [
       "           date  day  personnel personnel*  POW\n",
       "0    2022-02-25    2       2800      about    0\n",
       "1    2022-02-26    3       4300      about    0\n",
       "2    2022-02-27    4       4500      about    0\n",
       "3    2022-02-28    5       5300      about    0\n",
       "4    2022-03-01    6       5710      about  200\n",
       "..          ...  ...        ...        ...  ...\n",
       "111  2022-06-16  113      32950      about  498\n",
       "112  2022-06-17  114      33150      about  498\n",
       "113  2022-06-18  115      33350      about  498\n",
       "114  2022-06-19  116      33600      about  498\n",
       "115  2022-06-20  117      33800      about  498\n",
       "\n",
       "[116 rows x 5 columns]"
      ]
     },
     "execution_count": 48,
     "metadata": {},
     "output_type": "execute_result"
    }
   ],
   "source": [
    "df_personnel"
   ]
  },
  {
   "cell_type": "code",
   "execution_count": 49,
   "id": "6d6d175f",
   "metadata": {
    "scrolled": true
   },
   "outputs": [
    {
     "data": {
      "text/plain": [
       "date                          object\n",
       "day                           object\n",
       "aircraft                       int64\n",
       "helicopter                     int64\n",
       "tank                           int64\n",
       "APC                            int64\n",
       "field artillery                int64\n",
       "MRL                            int64\n",
       "military auto                float64\n",
       "fuel tank                    float64\n",
       "drone                          int64\n",
       "naval ship                     int64\n",
       "anti-aircraft warfare          int64\n",
       "special equipment            float64\n",
       "mobile SRBM system           float64\n",
       "vehicles and fuel tanks      float64\n",
       "cruise missiles              float64\n",
       "greatest losses direction     object\n",
       "dtype: object"
      ]
     },
     "execution_count": 49,
     "metadata": {},
     "output_type": "execute_result"
    }
   ],
   "source": [
    "df_equipment.dtypes"
   ]
  },
  {
   "cell_type": "markdown",
   "id": "eb8459f6",
   "metadata": {},
   "source": [
    "#### fixing data types"
   ]
  },
  {
   "cell_type": "code",
   "execution_count": 50,
   "id": "e9f0077d",
   "metadata": {},
   "outputs": [],
   "source": [
    "df_equipment.date = pd.to_datetime(df_equipment.date)\n",
    "df_equipment.day = df_equipment.day.astype(int)"
   ]
  },
  {
   "cell_type": "code",
   "execution_count": 51,
   "id": "ef0a8ae8",
   "metadata": {
    "scrolled": true
   },
   "outputs": [
    {
     "name": "stdout",
     "output_type": "stream",
     "text": [
      "date                         datetime64[ns]\n",
      "day                                   int32\n",
      "aircraft                              int64\n",
      "helicopter                            int64\n",
      "tank                                  int64\n",
      "APC                                   int64\n",
      "field artillery                       int64\n",
      "MRL                                   int64\n",
      "military auto                       float64\n",
      "fuel tank                           float64\n",
      "drone                                 int64\n",
      "naval ship                            int64\n",
      "anti-aircraft warfare                 int64\n",
      "special equipment                   float64\n",
      "mobile SRBM system                  float64\n",
      "vehicles and fuel tanks             float64\n",
      "cruise missiles                     float64\n",
      "greatest losses direction            object\n",
      "dtype: object\n"
     ]
    },
    {
     "data": {
      "text/html": [
       "<div>\n",
       "<style scoped>\n",
       "    .dataframe tbody tr th:only-of-type {\n",
       "        vertical-align: middle;\n",
       "    }\n",
       "\n",
       "    .dataframe tbody tr th {\n",
       "        vertical-align: top;\n",
       "    }\n",
       "\n",
       "    .dataframe thead th {\n",
       "        text-align: right;\n",
       "    }\n",
       "</style>\n",
       "<table border=\"1\" class=\"dataframe\">\n",
       "  <thead>\n",
       "    <tr style=\"text-align: right;\">\n",
       "      <th></th>\n",
       "      <th>date</th>\n",
       "      <th>day</th>\n",
       "      <th>aircraft</th>\n",
       "      <th>helicopter</th>\n",
       "      <th>tank</th>\n",
       "      <th>APC</th>\n",
       "      <th>field artillery</th>\n",
       "      <th>MRL</th>\n",
       "      <th>military auto</th>\n",
       "      <th>fuel tank</th>\n",
       "      <th>drone</th>\n",
       "      <th>naval ship</th>\n",
       "      <th>anti-aircraft warfare</th>\n",
       "      <th>special equipment</th>\n",
       "      <th>mobile SRBM system</th>\n",
       "      <th>vehicles and fuel tanks</th>\n",
       "      <th>cruise missiles</th>\n",
       "      <th>greatest losses direction</th>\n",
       "    </tr>\n",
       "  </thead>\n",
       "  <tbody>\n",
       "    <tr>\n",
       "      <th>0</th>\n",
       "      <td>2022-02-25</td>\n",
       "      <td>2</td>\n",
       "      <td>10</td>\n",
       "      <td>7</td>\n",
       "      <td>80</td>\n",
       "      <td>516</td>\n",
       "      <td>49</td>\n",
       "      <td>4</td>\n",
       "      <td>100.0</td>\n",
       "      <td>60.0</td>\n",
       "      <td>0</td>\n",
       "      <td>2</td>\n",
       "      <td>0</td>\n",
       "      <td>NaN</td>\n",
       "      <td>NaN</td>\n",
       "      <td>NaN</td>\n",
       "      <td>NaN</td>\n",
       "      <td>NaN</td>\n",
       "    </tr>\n",
       "    <tr>\n",
       "      <th>1</th>\n",
       "      <td>2022-02-26</td>\n",
       "      <td>3</td>\n",
       "      <td>27</td>\n",
       "      <td>26</td>\n",
       "      <td>146</td>\n",
       "      <td>706</td>\n",
       "      <td>49</td>\n",
       "      <td>4</td>\n",
       "      <td>130.0</td>\n",
       "      <td>60.0</td>\n",
       "      <td>2</td>\n",
       "      <td>2</td>\n",
       "      <td>0</td>\n",
       "      <td>NaN</td>\n",
       "      <td>NaN</td>\n",
       "      <td>NaN</td>\n",
       "      <td>NaN</td>\n",
       "      <td>NaN</td>\n",
       "    </tr>\n",
       "    <tr>\n",
       "      <th>2</th>\n",
       "      <td>2022-02-27</td>\n",
       "      <td>4</td>\n",
       "      <td>27</td>\n",
       "      <td>26</td>\n",
       "      <td>150</td>\n",
       "      <td>706</td>\n",
       "      <td>50</td>\n",
       "      <td>4</td>\n",
       "      <td>130.0</td>\n",
       "      <td>60.0</td>\n",
       "      <td>2</td>\n",
       "      <td>2</td>\n",
       "      <td>0</td>\n",
       "      <td>NaN</td>\n",
       "      <td>NaN</td>\n",
       "      <td>NaN</td>\n",
       "      <td>NaN</td>\n",
       "      <td>NaN</td>\n",
       "    </tr>\n",
       "    <tr>\n",
       "      <th>3</th>\n",
       "      <td>2022-02-28</td>\n",
       "      <td>5</td>\n",
       "      <td>29</td>\n",
       "      <td>29</td>\n",
       "      <td>150</td>\n",
       "      <td>816</td>\n",
       "      <td>74</td>\n",
       "      <td>21</td>\n",
       "      <td>291.0</td>\n",
       "      <td>60.0</td>\n",
       "      <td>3</td>\n",
       "      <td>2</td>\n",
       "      <td>5</td>\n",
       "      <td>NaN</td>\n",
       "      <td>NaN</td>\n",
       "      <td>NaN</td>\n",
       "      <td>NaN</td>\n",
       "      <td>NaN</td>\n",
       "    </tr>\n",
       "    <tr>\n",
       "      <th>4</th>\n",
       "      <td>2022-03-01</td>\n",
       "      <td>6</td>\n",
       "      <td>29</td>\n",
       "      <td>29</td>\n",
       "      <td>198</td>\n",
       "      <td>846</td>\n",
       "      <td>77</td>\n",
       "      <td>24</td>\n",
       "      <td>305.0</td>\n",
       "      <td>60.0</td>\n",
       "      <td>3</td>\n",
       "      <td>2</td>\n",
       "      <td>7</td>\n",
       "      <td>NaN</td>\n",
       "      <td>NaN</td>\n",
       "      <td>NaN</td>\n",
       "      <td>NaN</td>\n",
       "      <td>NaN</td>\n",
       "    </tr>\n",
       "    <tr>\n",
       "      <th>...</th>\n",
       "      <td>...</td>\n",
       "      <td>...</td>\n",
       "      <td>...</td>\n",
       "      <td>...</td>\n",
       "      <td>...</td>\n",
       "      <td>...</td>\n",
       "      <td>...</td>\n",
       "      <td>...</td>\n",
       "      <td>...</td>\n",
       "      <td>...</td>\n",
       "      <td>...</td>\n",
       "      <td>...</td>\n",
       "      <td>...</td>\n",
       "      <td>...</td>\n",
       "      <td>...</td>\n",
       "      <td>...</td>\n",
       "      <td>...</td>\n",
       "      <td>...</td>\n",
       "    </tr>\n",
       "    <tr>\n",
       "      <th>111</th>\n",
       "      <td>2022-06-16</td>\n",
       "      <td>113</td>\n",
       "      <td>213</td>\n",
       "      <td>179</td>\n",
       "      <td>1449</td>\n",
       "      <td>3545</td>\n",
       "      <td>729</td>\n",
       "      <td>233</td>\n",
       "      <td>NaN</td>\n",
       "      <td>NaN</td>\n",
       "      <td>591</td>\n",
       "      <td>13</td>\n",
       "      <td>97</td>\n",
       "      <td>55.0</td>\n",
       "      <td>NaN</td>\n",
       "      <td>2494.0</td>\n",
       "      <td>129.0</td>\n",
       "      <td>Bahmut</td>\n",
       "    </tr>\n",
       "    <tr>\n",
       "      <th>112</th>\n",
       "      <td>2022-06-17</td>\n",
       "      <td>114</td>\n",
       "      <td>215</td>\n",
       "      <td>180</td>\n",
       "      <td>1456</td>\n",
       "      <td>3563</td>\n",
       "      <td>734</td>\n",
       "      <td>233</td>\n",
       "      <td>NaN</td>\n",
       "      <td>NaN</td>\n",
       "      <td>593</td>\n",
       "      <td>13</td>\n",
       "      <td>97</td>\n",
       "      <td>55.0</td>\n",
       "      <td>NaN</td>\n",
       "      <td>2496.0</td>\n",
       "      <td>129.0</td>\n",
       "      <td>Bahmut</td>\n",
       "    </tr>\n",
       "    <tr>\n",
       "      <th>113</th>\n",
       "      <td>2022-06-18</td>\n",
       "      <td>115</td>\n",
       "      <td>216</td>\n",
       "      <td>180</td>\n",
       "      <td>1465</td>\n",
       "      <td>3573</td>\n",
       "      <td>739</td>\n",
       "      <td>233</td>\n",
       "      <td>NaN</td>\n",
       "      <td>NaN</td>\n",
       "      <td>594</td>\n",
       "      <td>14</td>\n",
       "      <td>98</td>\n",
       "      <td>55.0</td>\n",
       "      <td>NaN</td>\n",
       "      <td>2513.0</td>\n",
       "      <td>129.0</td>\n",
       "      <td>Sloviansk, Bahmut and Kryvyi Rih</td>\n",
       "    </tr>\n",
       "    <tr>\n",
       "      <th>114</th>\n",
       "      <td>2022-06-19</td>\n",
       "      <td>116</td>\n",
       "      <td>216</td>\n",
       "      <td>181</td>\n",
       "      <td>1468</td>\n",
       "      <td>3577</td>\n",
       "      <td>745</td>\n",
       "      <td>235</td>\n",
       "      <td>NaN</td>\n",
       "      <td>NaN</td>\n",
       "      <td>598</td>\n",
       "      <td>14</td>\n",
       "      <td>98</td>\n",
       "      <td>55.0</td>\n",
       "      <td>NaN</td>\n",
       "      <td>2523.0</td>\n",
       "      <td>131.0</td>\n",
       "      <td>Bahmut and Zaporizhzhia</td>\n",
       "    </tr>\n",
       "    <tr>\n",
       "      <th>115</th>\n",
       "      <td>2022-06-20</td>\n",
       "      <td>117</td>\n",
       "      <td>216</td>\n",
       "      <td>181</td>\n",
       "      <td>1477</td>\n",
       "      <td>3588</td>\n",
       "      <td>749</td>\n",
       "      <td>238</td>\n",
       "      <td>NaN</td>\n",
       "      <td>NaN</td>\n",
       "      <td>601</td>\n",
       "      <td>14</td>\n",
       "      <td>98</td>\n",
       "      <td>55.0</td>\n",
       "      <td>NaN</td>\n",
       "      <td>2527.0</td>\n",
       "      <td>131.0</td>\n",
       "      <td>Bahmut and Zaporizhzhia</td>\n",
       "    </tr>\n",
       "  </tbody>\n",
       "</table>\n",
       "<p>116 rows × 18 columns</p>\n",
       "</div>"
      ],
      "text/plain": [
       "          date  day  aircraft  helicopter  tank   APC  field artillery  MRL  \\\n",
       "0   2022-02-25    2        10           7    80   516               49    4   \n",
       "1   2022-02-26    3        27          26   146   706               49    4   \n",
       "2   2022-02-27    4        27          26   150   706               50    4   \n",
       "3   2022-02-28    5        29          29   150   816               74   21   \n",
       "4   2022-03-01    6        29          29   198   846               77   24   \n",
       "..         ...  ...       ...         ...   ...   ...              ...  ...   \n",
       "111 2022-06-16  113       213         179  1449  3545              729  233   \n",
       "112 2022-06-17  114       215         180  1456  3563              734  233   \n",
       "113 2022-06-18  115       216         180  1465  3573              739  233   \n",
       "114 2022-06-19  116       216         181  1468  3577              745  235   \n",
       "115 2022-06-20  117       216         181  1477  3588              749  238   \n",
       "\n",
       "     military auto  fuel tank  drone  naval ship  anti-aircraft warfare  \\\n",
       "0            100.0       60.0      0           2                      0   \n",
       "1            130.0       60.0      2           2                      0   \n",
       "2            130.0       60.0      2           2                      0   \n",
       "3            291.0       60.0      3           2                      5   \n",
       "4            305.0       60.0      3           2                      7   \n",
       "..             ...        ...    ...         ...                    ...   \n",
       "111            NaN        NaN    591          13                     97   \n",
       "112            NaN        NaN    593          13                     97   \n",
       "113            NaN        NaN    594          14                     98   \n",
       "114            NaN        NaN    598          14                     98   \n",
       "115            NaN        NaN    601          14                     98   \n",
       "\n",
       "     special equipment  mobile SRBM system  vehicles and fuel tanks  \\\n",
       "0                  NaN                 NaN                      NaN   \n",
       "1                  NaN                 NaN                      NaN   \n",
       "2                  NaN                 NaN                      NaN   \n",
       "3                  NaN                 NaN                      NaN   \n",
       "4                  NaN                 NaN                      NaN   \n",
       "..                 ...                 ...                      ...   \n",
       "111               55.0                 NaN                   2494.0   \n",
       "112               55.0                 NaN                   2496.0   \n",
       "113               55.0                 NaN                   2513.0   \n",
       "114               55.0                 NaN                   2523.0   \n",
       "115               55.0                 NaN                   2527.0   \n",
       "\n",
       "     cruise missiles         greatest losses direction  \n",
       "0                NaN                               NaN  \n",
       "1                NaN                               NaN  \n",
       "2                NaN                               NaN  \n",
       "3                NaN                               NaN  \n",
       "4                NaN                               NaN  \n",
       "..               ...                               ...  \n",
       "111            129.0                            Bahmut  \n",
       "112            129.0                            Bahmut  \n",
       "113            129.0  Sloviansk, Bahmut and Kryvyi Rih  \n",
       "114            131.0           Bahmut and Zaporizhzhia  \n",
       "115            131.0           Bahmut and Zaporizhzhia  \n",
       "\n",
       "[116 rows x 18 columns]"
      ]
     },
     "execution_count": 51,
     "metadata": {},
     "output_type": "execute_result"
    }
   ],
   "source": [
    "print(df_equipment.dtypes)\n",
    "df_equipment"
   ]
  },
  {
   "cell_type": "code",
   "execution_count": 52,
   "id": "7f6b3269",
   "metadata": {
    "scrolled": true
   },
   "outputs": [
    {
     "data": {
      "text/html": [
       "<div>\n",
       "<style scoped>\n",
       "    .dataframe tbody tr th:only-of-type {\n",
       "        vertical-align: middle;\n",
       "    }\n",
       "\n",
       "    .dataframe tbody tr th {\n",
       "        vertical-align: top;\n",
       "    }\n",
       "\n",
       "    .dataframe thead th {\n",
       "        text-align: right;\n",
       "    }\n",
       "</style>\n",
       "<table border=\"1\" class=\"dataframe\">\n",
       "  <thead>\n",
       "    <tr style=\"text-align: right;\">\n",
       "      <th></th>\n",
       "      <th>date</th>\n",
       "      <th>day</th>\n",
       "      <th>aircraft</th>\n",
       "      <th>helicopter</th>\n",
       "      <th>tank</th>\n",
       "      <th>APC</th>\n",
       "      <th>field artillery</th>\n",
       "      <th>MRL</th>\n",
       "      <th>military auto</th>\n",
       "      <th>fuel tank</th>\n",
       "      <th>drone</th>\n",
       "      <th>naval ship</th>\n",
       "      <th>anti-aircraft warfare</th>\n",
       "      <th>special equipment</th>\n",
       "      <th>mobile SRBM system</th>\n",
       "      <th>vehicles and fuel tanks</th>\n",
       "      <th>cruise missiles</th>\n",
       "      <th>greatest losses direction</th>\n",
       "    </tr>\n",
       "  </thead>\n",
       "  <tbody>\n",
       "    <tr>\n",
       "      <th>29</th>\n",
       "      <td>2022-03-26</td>\n",
       "      <td>31</td>\n",
       "      <td>117</td>\n",
       "      <td>127</td>\n",
       "      <td>575</td>\n",
       "      <td>1640</td>\n",
       "      <td>293</td>\n",
       "      <td>91</td>\n",
       "      <td>1131.0</td>\n",
       "      <td>73.0</td>\n",
       "      <td>56</td>\n",
       "      <td>7</td>\n",
       "      <td>51</td>\n",
       "      <td>19.0</td>\n",
       "      <td>2.0</td>\n",
       "      <td>NaN</td>\n",
       "      <td>NaN</td>\n",
       "      <td>NaN</td>\n",
       "    </tr>\n",
       "    <tr>\n",
       "      <th>30</th>\n",
       "      <td>2022-03-27</td>\n",
       "      <td>32</td>\n",
       "      <td>121</td>\n",
       "      <td>127</td>\n",
       "      <td>582</td>\n",
       "      <td>1664</td>\n",
       "      <td>294</td>\n",
       "      <td>93</td>\n",
       "      <td>1144.0</td>\n",
       "      <td>73.0</td>\n",
       "      <td>56</td>\n",
       "      <td>7</td>\n",
       "      <td>52</td>\n",
       "      <td>21.0</td>\n",
       "      <td>4.0</td>\n",
       "      <td>NaN</td>\n",
       "      <td>NaN</td>\n",
       "      <td>NaN</td>\n",
       "    </tr>\n",
       "    <tr>\n",
       "      <th>31</th>\n",
       "      <td>2022-03-28</td>\n",
       "      <td>33</td>\n",
       "      <td>123</td>\n",
       "      <td>127</td>\n",
       "      <td>586</td>\n",
       "      <td>1694</td>\n",
       "      <td>302</td>\n",
       "      <td>95</td>\n",
       "      <td>1150.0</td>\n",
       "      <td>73.0</td>\n",
       "      <td>66</td>\n",
       "      <td>7</td>\n",
       "      <td>54</td>\n",
       "      <td>21.0</td>\n",
       "      <td>4.0</td>\n",
       "      <td>NaN</td>\n",
       "      <td>NaN</td>\n",
       "      <td>NaN</td>\n",
       "    </tr>\n",
       "    <tr>\n",
       "      <th>32</th>\n",
       "      <td>2022-03-29</td>\n",
       "      <td>34</td>\n",
       "      <td>127</td>\n",
       "      <td>129</td>\n",
       "      <td>597</td>\n",
       "      <td>1710</td>\n",
       "      <td>303</td>\n",
       "      <td>96</td>\n",
       "      <td>1178.0</td>\n",
       "      <td>73.0</td>\n",
       "      <td>71</td>\n",
       "      <td>7</td>\n",
       "      <td>54</td>\n",
       "      <td>21.0</td>\n",
       "      <td>4.0</td>\n",
       "      <td>NaN</td>\n",
       "      <td>NaN</td>\n",
       "      <td>NaN</td>\n",
       "    </tr>\n",
       "    <tr>\n",
       "      <th>33</th>\n",
       "      <td>2022-03-30</td>\n",
       "      <td>35</td>\n",
       "      <td>131</td>\n",
       "      <td>131</td>\n",
       "      <td>605</td>\n",
       "      <td>1723</td>\n",
       "      <td>305</td>\n",
       "      <td>96</td>\n",
       "      <td>1184.0</td>\n",
       "      <td>75.0</td>\n",
       "      <td>81</td>\n",
       "      <td>7</td>\n",
       "      <td>54</td>\n",
       "      <td>21.0</td>\n",
       "      <td>4.0</td>\n",
       "      <td>NaN</td>\n",
       "      <td>NaN</td>\n",
       "      <td>NaN</td>\n",
       "    </tr>\n",
       "    <tr>\n",
       "      <th>34</th>\n",
       "      <td>2022-03-31</td>\n",
       "      <td>36</td>\n",
       "      <td>135</td>\n",
       "      <td>131</td>\n",
       "      <td>614</td>\n",
       "      <td>1735</td>\n",
       "      <td>311</td>\n",
       "      <td>96</td>\n",
       "      <td>1201.0</td>\n",
       "      <td>75.0</td>\n",
       "      <td>83</td>\n",
       "      <td>7</td>\n",
       "      <td>54</td>\n",
       "      <td>22.0</td>\n",
       "      <td>4.0</td>\n",
       "      <td>NaN</td>\n",
       "      <td>NaN</td>\n",
       "      <td>NaN</td>\n",
       "    </tr>\n",
       "    <tr>\n",
       "      <th>35</th>\n",
       "      <td>2022-04-01</td>\n",
       "      <td>37</td>\n",
       "      <td>143</td>\n",
       "      <td>131</td>\n",
       "      <td>625</td>\n",
       "      <td>1751</td>\n",
       "      <td>316</td>\n",
       "      <td>96</td>\n",
       "      <td>1220.0</td>\n",
       "      <td>76.0</td>\n",
       "      <td>85</td>\n",
       "      <td>7</td>\n",
       "      <td>54</td>\n",
       "      <td>24.0</td>\n",
       "      <td>4.0</td>\n",
       "      <td>NaN</td>\n",
       "      <td>NaN</td>\n",
       "      <td>NaN</td>\n",
       "    </tr>\n",
       "    <tr>\n",
       "      <th>36</th>\n",
       "      <td>2022-04-02</td>\n",
       "      <td>38</td>\n",
       "      <td>143</td>\n",
       "      <td>134</td>\n",
       "      <td>631</td>\n",
       "      <td>1776</td>\n",
       "      <td>317</td>\n",
       "      <td>100</td>\n",
       "      <td>1236.0</td>\n",
       "      <td>76.0</td>\n",
       "      <td>87</td>\n",
       "      <td>7</td>\n",
       "      <td>54</td>\n",
       "      <td>24.0</td>\n",
       "      <td>4.0</td>\n",
       "      <td>NaN</td>\n",
       "      <td>NaN</td>\n",
       "      <td>NaN</td>\n",
       "    </tr>\n",
       "    <tr>\n",
       "      <th>37</th>\n",
       "      <td>2022-04-03</td>\n",
       "      <td>39</td>\n",
       "      <td>143</td>\n",
       "      <td>134</td>\n",
       "      <td>644</td>\n",
       "      <td>1830</td>\n",
       "      <td>325</td>\n",
       "      <td>105</td>\n",
       "      <td>1249.0</td>\n",
       "      <td>76.0</td>\n",
       "      <td>89</td>\n",
       "      <td>7</td>\n",
       "      <td>54</td>\n",
       "      <td>24.0</td>\n",
       "      <td>4.0</td>\n",
       "      <td>NaN</td>\n",
       "      <td>NaN</td>\n",
       "      <td>NaN</td>\n",
       "    </tr>\n",
       "    <tr>\n",
       "      <th>38</th>\n",
       "      <td>2022-04-04</td>\n",
       "      <td>40</td>\n",
       "      <td>147</td>\n",
       "      <td>134</td>\n",
       "      <td>647</td>\n",
       "      <td>1844</td>\n",
       "      <td>330</td>\n",
       "      <td>107</td>\n",
       "      <td>1273.0</td>\n",
       "      <td>76.0</td>\n",
       "      <td>91</td>\n",
       "      <td>7</td>\n",
       "      <td>54</td>\n",
       "      <td>25.0</td>\n",
       "      <td>4.0</td>\n",
       "      <td>NaN</td>\n",
       "      <td>NaN</td>\n",
       "      <td>NaN</td>\n",
       "    </tr>\n",
       "    <tr>\n",
       "      <th>39</th>\n",
       "      <td>2022-04-05</td>\n",
       "      <td>41</td>\n",
       "      <td>150</td>\n",
       "      <td>134</td>\n",
       "      <td>676</td>\n",
       "      <td>1858</td>\n",
       "      <td>332</td>\n",
       "      <td>107</td>\n",
       "      <td>1322.0</td>\n",
       "      <td>76.0</td>\n",
       "      <td>94</td>\n",
       "      <td>7</td>\n",
       "      <td>55</td>\n",
       "      <td>25.0</td>\n",
       "      <td>4.0</td>\n",
       "      <td>NaN</td>\n",
       "      <td>NaN</td>\n",
       "      <td>NaN</td>\n",
       "    </tr>\n",
       "    <tr>\n",
       "      <th>40</th>\n",
       "      <td>2022-04-06</td>\n",
       "      <td>42</td>\n",
       "      <td>150</td>\n",
       "      <td>135</td>\n",
       "      <td>684</td>\n",
       "      <td>1861</td>\n",
       "      <td>332</td>\n",
       "      <td>107</td>\n",
       "      <td>1324.0</td>\n",
       "      <td>76.0</td>\n",
       "      <td>96</td>\n",
       "      <td>7</td>\n",
       "      <td>55</td>\n",
       "      <td>25.0</td>\n",
       "      <td>4.0</td>\n",
       "      <td>NaN</td>\n",
       "      <td>NaN</td>\n",
       "      <td>NaN</td>\n",
       "    </tr>\n",
       "    <tr>\n",
       "      <th>41</th>\n",
       "      <td>2022-04-07</td>\n",
       "      <td>43</td>\n",
       "      <td>150</td>\n",
       "      <td>135</td>\n",
       "      <td>698</td>\n",
       "      <td>1891</td>\n",
       "      <td>332</td>\n",
       "      <td>108</td>\n",
       "      <td>1358.0</td>\n",
       "      <td>76.0</td>\n",
       "      <td>111</td>\n",
       "      <td>7</td>\n",
       "      <td>55</td>\n",
       "      <td>25.0</td>\n",
       "      <td>4.0</td>\n",
       "      <td>NaN</td>\n",
       "      <td>NaN</td>\n",
       "      <td>NaN</td>\n",
       "    </tr>\n",
       "    <tr>\n",
       "      <th>42</th>\n",
       "      <td>2022-04-08</td>\n",
       "      <td>44</td>\n",
       "      <td>150</td>\n",
       "      <td>135</td>\n",
       "      <td>700</td>\n",
       "      <td>1891</td>\n",
       "      <td>333</td>\n",
       "      <td>108</td>\n",
       "      <td>1361.0</td>\n",
       "      <td>76.0</td>\n",
       "      <td>112</td>\n",
       "      <td>7</td>\n",
       "      <td>55</td>\n",
       "      <td>25.0</td>\n",
       "      <td>4.0</td>\n",
       "      <td>NaN</td>\n",
       "      <td>NaN</td>\n",
       "      <td>NaN</td>\n",
       "    </tr>\n",
       "    <tr>\n",
       "      <th>43</th>\n",
       "      <td>2022-04-09</td>\n",
       "      <td>45</td>\n",
       "      <td>151</td>\n",
       "      <td>136</td>\n",
       "      <td>705</td>\n",
       "      <td>1895</td>\n",
       "      <td>335</td>\n",
       "      <td>108</td>\n",
       "      <td>1363.0</td>\n",
       "      <td>76.0</td>\n",
       "      <td>112</td>\n",
       "      <td>7</td>\n",
       "      <td>55</td>\n",
       "      <td>25.0</td>\n",
       "      <td>4.0</td>\n",
       "      <td>NaN</td>\n",
       "      <td>NaN</td>\n",
       "      <td>NaN</td>\n",
       "    </tr>\n",
       "    <tr>\n",
       "      <th>44</th>\n",
       "      <td>2022-04-10</td>\n",
       "      <td>46</td>\n",
       "      <td>152</td>\n",
       "      <td>137</td>\n",
       "      <td>722</td>\n",
       "      <td>1911</td>\n",
       "      <td>342</td>\n",
       "      <td>108</td>\n",
       "      <td>1384.0</td>\n",
       "      <td>76.0</td>\n",
       "      <td>112</td>\n",
       "      <td>7</td>\n",
       "      <td>55</td>\n",
       "      <td>25.0</td>\n",
       "      <td>4.0</td>\n",
       "      <td>NaN</td>\n",
       "      <td>NaN</td>\n",
       "      <td>NaN</td>\n",
       "    </tr>\n",
       "    <tr>\n",
       "      <th>45</th>\n",
       "      <td>2022-04-11</td>\n",
       "      <td>47</td>\n",
       "      <td>154</td>\n",
       "      <td>137</td>\n",
       "      <td>725</td>\n",
       "      <td>1923</td>\n",
       "      <td>347</td>\n",
       "      <td>111</td>\n",
       "      <td>1387.0</td>\n",
       "      <td>76.0</td>\n",
       "      <td>119</td>\n",
       "      <td>7</td>\n",
       "      <td>55</td>\n",
       "      <td>25.0</td>\n",
       "      <td>4.0</td>\n",
       "      <td>NaN</td>\n",
       "      <td>NaN</td>\n",
       "      <td>NaN</td>\n",
       "    </tr>\n",
       "    <tr>\n",
       "      <th>46</th>\n",
       "      <td>2022-04-12</td>\n",
       "      <td>48</td>\n",
       "      <td>157</td>\n",
       "      <td>140</td>\n",
       "      <td>732</td>\n",
       "      <td>1946</td>\n",
       "      <td>349</td>\n",
       "      <td>111</td>\n",
       "      <td>1406.0</td>\n",
       "      <td>76.0</td>\n",
       "      <td>124</td>\n",
       "      <td>7</td>\n",
       "      <td>63</td>\n",
       "      <td>25.0</td>\n",
       "      <td>4.0</td>\n",
       "      <td>NaN</td>\n",
       "      <td>NaN</td>\n",
       "      <td>NaN</td>\n",
       "    </tr>\n",
       "    <tr>\n",
       "      <th>47</th>\n",
       "      <td>2022-04-13</td>\n",
       "      <td>49</td>\n",
       "      <td>158</td>\n",
       "      <td>143</td>\n",
       "      <td>739</td>\n",
       "      <td>1964</td>\n",
       "      <td>358</td>\n",
       "      <td>115</td>\n",
       "      <td>1429.0</td>\n",
       "      <td>76.0</td>\n",
       "      <td>132</td>\n",
       "      <td>7</td>\n",
       "      <td>64</td>\n",
       "      <td>25.0</td>\n",
       "      <td>4.0</td>\n",
       "      <td>NaN</td>\n",
       "      <td>NaN</td>\n",
       "      <td>NaN</td>\n",
       "    </tr>\n",
       "    <tr>\n",
       "      <th>48</th>\n",
       "      <td>2022-04-14</td>\n",
       "      <td>50</td>\n",
       "      <td>160</td>\n",
       "      <td>144</td>\n",
       "      <td>753</td>\n",
       "      <td>1968</td>\n",
       "      <td>366</td>\n",
       "      <td>122</td>\n",
       "      <td>1437.0</td>\n",
       "      <td>76.0</td>\n",
       "      <td>134</td>\n",
       "      <td>7</td>\n",
       "      <td>64</td>\n",
       "      <td>25.0</td>\n",
       "      <td>4.0</td>\n",
       "      <td>NaN</td>\n",
       "      <td>NaN</td>\n",
       "      <td>NaN</td>\n",
       "    </tr>\n",
       "    <tr>\n",
       "      <th>49</th>\n",
       "      <td>2022-04-15</td>\n",
       "      <td>51</td>\n",
       "      <td>163</td>\n",
       "      <td>144</td>\n",
       "      <td>756</td>\n",
       "      <td>1976</td>\n",
       "      <td>366</td>\n",
       "      <td>122</td>\n",
       "      <td>1443.0</td>\n",
       "      <td>76.0</td>\n",
       "      <td>135</td>\n",
       "      <td>8</td>\n",
       "      <td>66</td>\n",
       "      <td>25.0</td>\n",
       "      <td>4.0</td>\n",
       "      <td>NaN</td>\n",
       "      <td>NaN</td>\n",
       "      <td>NaN</td>\n",
       "    </tr>\n",
       "    <tr>\n",
       "      <th>50</th>\n",
       "      <td>2022-04-16</td>\n",
       "      <td>52</td>\n",
       "      <td>163</td>\n",
       "      <td>145</td>\n",
       "      <td>762</td>\n",
       "      <td>1982</td>\n",
       "      <td>371</td>\n",
       "      <td>125</td>\n",
       "      <td>1458.0</td>\n",
       "      <td>76.0</td>\n",
       "      <td>138</td>\n",
       "      <td>8</td>\n",
       "      <td>66</td>\n",
       "      <td>26.0</td>\n",
       "      <td>4.0</td>\n",
       "      <td>NaN</td>\n",
       "      <td>NaN</td>\n",
       "      <td>NaN</td>\n",
       "    </tr>\n",
       "    <tr>\n",
       "      <th>51</th>\n",
       "      <td>2022-04-17</td>\n",
       "      <td>53</td>\n",
       "      <td>165</td>\n",
       "      <td>146</td>\n",
       "      <td>773</td>\n",
       "      <td>2002</td>\n",
       "      <td>376</td>\n",
       "      <td>127</td>\n",
       "      <td>1471.0</td>\n",
       "      <td>76.0</td>\n",
       "      <td>148</td>\n",
       "      <td>8</td>\n",
       "      <td>66</td>\n",
       "      <td>27.0</td>\n",
       "      <td>4.0</td>\n",
       "      <td>NaN</td>\n",
       "      <td>NaN</td>\n",
       "      <td>NaN</td>\n",
       "    </tr>\n",
       "    <tr>\n",
       "      <th>52</th>\n",
       "      <td>2022-04-18</td>\n",
       "      <td>54</td>\n",
       "      <td>167</td>\n",
       "      <td>147</td>\n",
       "      <td>790</td>\n",
       "      <td>2041</td>\n",
       "      <td>381</td>\n",
       "      <td>130</td>\n",
       "      <td>1487.0</td>\n",
       "      <td>76.0</td>\n",
       "      <td>155</td>\n",
       "      <td>8</td>\n",
       "      <td>67</td>\n",
       "      <td>27.0</td>\n",
       "      <td>4.0</td>\n",
       "      <td>NaN</td>\n",
       "      <td>NaN</td>\n",
       "      <td>NaN</td>\n",
       "    </tr>\n",
       "    <tr>\n",
       "      <th>53</th>\n",
       "      <td>2022-04-19</td>\n",
       "      <td>55</td>\n",
       "      <td>169</td>\n",
       "      <td>150</td>\n",
       "      <td>802</td>\n",
       "      <td>2063</td>\n",
       "      <td>386</td>\n",
       "      <td>132</td>\n",
       "      <td>1495.0</td>\n",
       "      <td>76.0</td>\n",
       "      <td>158</td>\n",
       "      <td>8</td>\n",
       "      <td>67</td>\n",
       "      <td>27.0</td>\n",
       "      <td>4.0</td>\n",
       "      <td>NaN</td>\n",
       "      <td>NaN</td>\n",
       "      <td>NaN</td>\n",
       "    </tr>\n",
       "    <tr>\n",
       "      <th>54</th>\n",
       "      <td>2022-04-20</td>\n",
       "      <td>56</td>\n",
       "      <td>171</td>\n",
       "      <td>150</td>\n",
       "      <td>815</td>\n",
       "      <td>2087</td>\n",
       "      <td>391</td>\n",
       "      <td>136</td>\n",
       "      <td>1504.0</td>\n",
       "      <td>76.0</td>\n",
       "      <td>165</td>\n",
       "      <td>8</td>\n",
       "      <td>67</td>\n",
       "      <td>27.0</td>\n",
       "      <td>4.0</td>\n",
       "      <td>NaN</td>\n",
       "      <td>NaN</td>\n",
       "      <td>NaN</td>\n",
       "    </tr>\n",
       "    <tr>\n",
       "      <th>55</th>\n",
       "      <td>2022-04-21</td>\n",
       "      <td>57</td>\n",
       "      <td>172</td>\n",
       "      <td>151</td>\n",
       "      <td>829</td>\n",
       "      <td>2118</td>\n",
       "      <td>393</td>\n",
       "      <td>136</td>\n",
       "      <td>1508.0</td>\n",
       "      <td>76.0</td>\n",
       "      <td>166</td>\n",
       "      <td>8</td>\n",
       "      <td>67</td>\n",
       "      <td>27.0</td>\n",
       "      <td>4.0</td>\n",
       "      <td>NaN</td>\n",
       "      <td>NaN</td>\n",
       "      <td>NaN</td>\n",
       "    </tr>\n",
       "    <tr>\n",
       "      <th>56</th>\n",
       "      <td>2022-04-22</td>\n",
       "      <td>58</td>\n",
       "      <td>176</td>\n",
       "      <td>153</td>\n",
       "      <td>838</td>\n",
       "      <td>2162</td>\n",
       "      <td>397</td>\n",
       "      <td>138</td>\n",
       "      <td>1523.0</td>\n",
       "      <td>76.0</td>\n",
       "      <td>172</td>\n",
       "      <td>8</td>\n",
       "      <td>69</td>\n",
       "      <td>27.0</td>\n",
       "      <td>4.0</td>\n",
       "      <td>NaN</td>\n",
       "      <td>NaN</td>\n",
       "      <td>NaN</td>\n",
       "    </tr>\n",
       "    <tr>\n",
       "      <th>57</th>\n",
       "      <td>2022-04-23</td>\n",
       "      <td>59</td>\n",
       "      <td>177</td>\n",
       "      <td>154</td>\n",
       "      <td>854</td>\n",
       "      <td>2205</td>\n",
       "      <td>403</td>\n",
       "      <td>143</td>\n",
       "      <td>1543.0</td>\n",
       "      <td>76.0</td>\n",
       "      <td>182</td>\n",
       "      <td>8</td>\n",
       "      <td>69</td>\n",
       "      <td>27.0</td>\n",
       "      <td>4.0</td>\n",
       "      <td>NaN</td>\n",
       "      <td>NaN</td>\n",
       "      <td>NaN</td>\n",
       "    </tr>\n",
       "    <tr>\n",
       "      <th>58</th>\n",
       "      <td>2022-04-24</td>\n",
       "      <td>60</td>\n",
       "      <td>179</td>\n",
       "      <td>154</td>\n",
       "      <td>873</td>\n",
       "      <td>2238</td>\n",
       "      <td>408</td>\n",
       "      <td>147</td>\n",
       "      <td>1557.0</td>\n",
       "      <td>76.0</td>\n",
       "      <td>191</td>\n",
       "      <td>8</td>\n",
       "      <td>69</td>\n",
       "      <td>28.0</td>\n",
       "      <td>4.0</td>\n",
       "      <td>NaN</td>\n",
       "      <td>NaN</td>\n",
       "      <td>NaN</td>\n",
       "    </tr>\n",
       "    <tr>\n",
       "      <th>59</th>\n",
       "      <td>2022-04-25</td>\n",
       "      <td>61</td>\n",
       "      <td>181</td>\n",
       "      <td>154</td>\n",
       "      <td>884</td>\n",
       "      <td>2258</td>\n",
       "      <td>411</td>\n",
       "      <td>149</td>\n",
       "      <td>1566.0</td>\n",
       "      <td>76.0</td>\n",
       "      <td>201</td>\n",
       "      <td>8</td>\n",
       "      <td>69</td>\n",
       "      <td>28.0</td>\n",
       "      <td>4.0</td>\n",
       "      <td>NaN</td>\n",
       "      <td>NaN</td>\n",
       "      <td>NaN</td>\n",
       "    </tr>\n",
       "    <tr>\n",
       "      <th>60</th>\n",
       "      <td>2022-04-26</td>\n",
       "      <td>62</td>\n",
       "      <td>184</td>\n",
       "      <td>154</td>\n",
       "      <td>918</td>\n",
       "      <td>2308</td>\n",
       "      <td>416</td>\n",
       "      <td>149</td>\n",
       "      <td>1643.0</td>\n",
       "      <td>76.0</td>\n",
       "      <td>205</td>\n",
       "      <td>8</td>\n",
       "      <td>69</td>\n",
       "      <td>31.0</td>\n",
       "      <td>4.0</td>\n",
       "      <td>NaN</td>\n",
       "      <td>NaN</td>\n",
       "      <td>NaN</td>\n",
       "    </tr>\n",
       "    <tr>\n",
       "      <th>61</th>\n",
       "      <td>2022-04-27</td>\n",
       "      <td>63</td>\n",
       "      <td>185</td>\n",
       "      <td>155</td>\n",
       "      <td>939</td>\n",
       "      <td>2342</td>\n",
       "      <td>421</td>\n",
       "      <td>149</td>\n",
       "      <td>1666.0</td>\n",
       "      <td>76.0</td>\n",
       "      <td>207</td>\n",
       "      <td>8</td>\n",
       "      <td>71</td>\n",
       "      <td>31.0</td>\n",
       "      <td>4.0</td>\n",
       "      <td>NaN</td>\n",
       "      <td>NaN</td>\n",
       "      <td>NaN</td>\n",
       "    </tr>\n",
       "    <tr>\n",
       "      <th>62</th>\n",
       "      <td>2022-04-28</td>\n",
       "      <td>64</td>\n",
       "      <td>187</td>\n",
       "      <td>155</td>\n",
       "      <td>970</td>\n",
       "      <td>2389</td>\n",
       "      <td>431</td>\n",
       "      <td>151</td>\n",
       "      <td>1688.0</td>\n",
       "      <td>76.0</td>\n",
       "      <td>215</td>\n",
       "      <td>8</td>\n",
       "      <td>72</td>\n",
       "      <td>31.0</td>\n",
       "      <td>4.0</td>\n",
       "      <td>NaN</td>\n",
       "      <td>NaN</td>\n",
       "      <td>NaN</td>\n",
       "    </tr>\n",
       "    <tr>\n",
       "      <th>63</th>\n",
       "      <td>2022-04-29</td>\n",
       "      <td>65</td>\n",
       "      <td>189</td>\n",
       "      <td>155</td>\n",
       "      <td>986</td>\n",
       "      <td>2418</td>\n",
       "      <td>435</td>\n",
       "      <td>151</td>\n",
       "      <td>1695.0</td>\n",
       "      <td>76.0</td>\n",
       "      <td>229</td>\n",
       "      <td>8</td>\n",
       "      <td>73</td>\n",
       "      <td>31.0</td>\n",
       "      <td>4.0</td>\n",
       "      <td>NaN</td>\n",
       "      <td>NaN</td>\n",
       "      <td>NaN</td>\n",
       "    </tr>\n",
       "    <tr>\n",
       "      <th>64</th>\n",
       "      <td>2022-04-30</td>\n",
       "      <td>66</td>\n",
       "      <td>190</td>\n",
       "      <td>155</td>\n",
       "      <td>1008</td>\n",
       "      <td>2445</td>\n",
       "      <td>436</td>\n",
       "      <td>151</td>\n",
       "      <td>1701.0</td>\n",
       "      <td>76.0</td>\n",
       "      <td>232</td>\n",
       "      <td>8</td>\n",
       "      <td>77</td>\n",
       "      <td>32.0</td>\n",
       "      <td>4.0</td>\n",
       "      <td>NaN</td>\n",
       "      <td>NaN</td>\n",
       "      <td>NaN</td>\n",
       "    </tr>\n",
       "  </tbody>\n",
       "</table>\n",
       "</div>"
      ],
      "text/plain": [
       "         date  day  aircraft  helicopter  tank   APC  field artillery  MRL  \\\n",
       "29 2022-03-26   31       117         127   575  1640              293   91   \n",
       "30 2022-03-27   32       121         127   582  1664              294   93   \n",
       "31 2022-03-28   33       123         127   586  1694              302   95   \n",
       "32 2022-03-29   34       127         129   597  1710              303   96   \n",
       "33 2022-03-30   35       131         131   605  1723              305   96   \n",
       "34 2022-03-31   36       135         131   614  1735              311   96   \n",
       "35 2022-04-01   37       143         131   625  1751              316   96   \n",
       "36 2022-04-02   38       143         134   631  1776              317  100   \n",
       "37 2022-04-03   39       143         134   644  1830              325  105   \n",
       "38 2022-04-04   40       147         134   647  1844              330  107   \n",
       "39 2022-04-05   41       150         134   676  1858              332  107   \n",
       "40 2022-04-06   42       150         135   684  1861              332  107   \n",
       "41 2022-04-07   43       150         135   698  1891              332  108   \n",
       "42 2022-04-08   44       150         135   700  1891              333  108   \n",
       "43 2022-04-09   45       151         136   705  1895              335  108   \n",
       "44 2022-04-10   46       152         137   722  1911              342  108   \n",
       "45 2022-04-11   47       154         137   725  1923              347  111   \n",
       "46 2022-04-12   48       157         140   732  1946              349  111   \n",
       "47 2022-04-13   49       158         143   739  1964              358  115   \n",
       "48 2022-04-14   50       160         144   753  1968              366  122   \n",
       "49 2022-04-15   51       163         144   756  1976              366  122   \n",
       "50 2022-04-16   52       163         145   762  1982              371  125   \n",
       "51 2022-04-17   53       165         146   773  2002              376  127   \n",
       "52 2022-04-18   54       167         147   790  2041              381  130   \n",
       "53 2022-04-19   55       169         150   802  2063              386  132   \n",
       "54 2022-04-20   56       171         150   815  2087              391  136   \n",
       "55 2022-04-21   57       172         151   829  2118              393  136   \n",
       "56 2022-04-22   58       176         153   838  2162              397  138   \n",
       "57 2022-04-23   59       177         154   854  2205              403  143   \n",
       "58 2022-04-24   60       179         154   873  2238              408  147   \n",
       "59 2022-04-25   61       181         154   884  2258              411  149   \n",
       "60 2022-04-26   62       184         154   918  2308              416  149   \n",
       "61 2022-04-27   63       185         155   939  2342              421  149   \n",
       "62 2022-04-28   64       187         155   970  2389              431  151   \n",
       "63 2022-04-29   65       189         155   986  2418              435  151   \n",
       "64 2022-04-30   66       190         155  1008  2445              436  151   \n",
       "\n",
       "    military auto  fuel tank  drone  naval ship  anti-aircraft warfare  \\\n",
       "29         1131.0       73.0     56           7                     51   \n",
       "30         1144.0       73.0     56           7                     52   \n",
       "31         1150.0       73.0     66           7                     54   \n",
       "32         1178.0       73.0     71           7                     54   \n",
       "33         1184.0       75.0     81           7                     54   \n",
       "34         1201.0       75.0     83           7                     54   \n",
       "35         1220.0       76.0     85           7                     54   \n",
       "36         1236.0       76.0     87           7                     54   \n",
       "37         1249.0       76.0     89           7                     54   \n",
       "38         1273.0       76.0     91           7                     54   \n",
       "39         1322.0       76.0     94           7                     55   \n",
       "40         1324.0       76.0     96           7                     55   \n",
       "41         1358.0       76.0    111           7                     55   \n",
       "42         1361.0       76.0    112           7                     55   \n",
       "43         1363.0       76.0    112           7                     55   \n",
       "44         1384.0       76.0    112           7                     55   \n",
       "45         1387.0       76.0    119           7                     55   \n",
       "46         1406.0       76.0    124           7                     63   \n",
       "47         1429.0       76.0    132           7                     64   \n",
       "48         1437.0       76.0    134           7                     64   \n",
       "49         1443.0       76.0    135           8                     66   \n",
       "50         1458.0       76.0    138           8                     66   \n",
       "51         1471.0       76.0    148           8                     66   \n",
       "52         1487.0       76.0    155           8                     67   \n",
       "53         1495.0       76.0    158           8                     67   \n",
       "54         1504.0       76.0    165           8                     67   \n",
       "55         1508.0       76.0    166           8                     67   \n",
       "56         1523.0       76.0    172           8                     69   \n",
       "57         1543.0       76.0    182           8                     69   \n",
       "58         1557.0       76.0    191           8                     69   \n",
       "59         1566.0       76.0    201           8                     69   \n",
       "60         1643.0       76.0    205           8                     69   \n",
       "61         1666.0       76.0    207           8                     71   \n",
       "62         1688.0       76.0    215           8                     72   \n",
       "63         1695.0       76.0    229           8                     73   \n",
       "64         1701.0       76.0    232           8                     77   \n",
       "\n",
       "    special equipment  mobile SRBM system  vehicles and fuel tanks  \\\n",
       "29               19.0                 2.0                      NaN   \n",
       "30               21.0                 4.0                      NaN   \n",
       "31               21.0                 4.0                      NaN   \n",
       "32               21.0                 4.0                      NaN   \n",
       "33               21.0                 4.0                      NaN   \n",
       "34               22.0                 4.0                      NaN   \n",
       "35               24.0                 4.0                      NaN   \n",
       "36               24.0                 4.0                      NaN   \n",
       "37               24.0                 4.0                      NaN   \n",
       "38               25.0                 4.0                      NaN   \n",
       "39               25.0                 4.0                      NaN   \n",
       "40               25.0                 4.0                      NaN   \n",
       "41               25.0                 4.0                      NaN   \n",
       "42               25.0                 4.0                      NaN   \n",
       "43               25.0                 4.0                      NaN   \n",
       "44               25.0                 4.0                      NaN   \n",
       "45               25.0                 4.0                      NaN   \n",
       "46               25.0                 4.0                      NaN   \n",
       "47               25.0                 4.0                      NaN   \n",
       "48               25.0                 4.0                      NaN   \n",
       "49               25.0                 4.0                      NaN   \n",
       "50               26.0                 4.0                      NaN   \n",
       "51               27.0                 4.0                      NaN   \n",
       "52               27.0                 4.0                      NaN   \n",
       "53               27.0                 4.0                      NaN   \n",
       "54               27.0                 4.0                      NaN   \n",
       "55               27.0                 4.0                      NaN   \n",
       "56               27.0                 4.0                      NaN   \n",
       "57               27.0                 4.0                      NaN   \n",
       "58               28.0                 4.0                      NaN   \n",
       "59               28.0                 4.0                      NaN   \n",
       "60               31.0                 4.0                      NaN   \n",
       "61               31.0                 4.0                      NaN   \n",
       "62               31.0                 4.0                      NaN   \n",
       "63               31.0                 4.0                      NaN   \n",
       "64               32.0                 4.0                      NaN   \n",
       "\n",
       "    cruise missiles greatest losses direction  \n",
       "29              NaN                       NaN  \n",
       "30              NaN                       NaN  \n",
       "31              NaN                       NaN  \n",
       "32              NaN                       NaN  \n",
       "33              NaN                       NaN  \n",
       "34              NaN                       NaN  \n",
       "35              NaN                       NaN  \n",
       "36              NaN                       NaN  \n",
       "37              NaN                       NaN  \n",
       "38              NaN                       NaN  \n",
       "39              NaN                       NaN  \n",
       "40              NaN                       NaN  \n",
       "41              NaN                       NaN  \n",
       "42              NaN                       NaN  \n",
       "43              NaN                       NaN  \n",
       "44              NaN                       NaN  \n",
       "45              NaN                       NaN  \n",
       "46              NaN                       NaN  \n",
       "47              NaN                       NaN  \n",
       "48              NaN                       NaN  \n",
       "49              NaN                       NaN  \n",
       "50              NaN                       NaN  \n",
       "51              NaN                       NaN  \n",
       "52              NaN                       NaN  \n",
       "53              NaN                       NaN  \n",
       "54              NaN                       NaN  \n",
       "55              NaN                       NaN  \n",
       "56              NaN                       NaN  \n",
       "57              NaN                       NaN  \n",
       "58              NaN                       NaN  \n",
       "59              NaN                       NaN  \n",
       "60              NaN                       NaN  \n",
       "61              NaN                       NaN  \n",
       "62              NaN                       NaN  \n",
       "63              NaN                       NaN  \n",
       "64              NaN                       NaN  "
      ]
     },
     "execution_count": 52,
     "metadata": {},
     "output_type": "execute_result"
    }
   ],
   "source": [
    "df_equipment[df_equipment['mobile SRBM system'].notnull()]"
   ]
  },
  {
   "cell_type": "code",
   "execution_count": 53,
   "id": "5330bdc9",
   "metadata": {
    "scrolled": true
   },
   "outputs": [
    {
     "data": {
      "text/html": [
       "<div>\n",
       "<style scoped>\n",
       "    .dataframe tbody tr th:only-of-type {\n",
       "        vertical-align: middle;\n",
       "    }\n",
       "\n",
       "    .dataframe tbody tr th {\n",
       "        vertical-align: top;\n",
       "    }\n",
       "\n",
       "    .dataframe thead th {\n",
       "        text-align: right;\n",
       "    }\n",
       "</style>\n",
       "<table border=\"1\" class=\"dataframe\">\n",
       "  <thead>\n",
       "    <tr style=\"text-align: right;\">\n",
       "      <th></th>\n",
       "      <th>date</th>\n",
       "      <th>day</th>\n",
       "      <th>aircraft</th>\n",
       "      <th>helicopter</th>\n",
       "      <th>tank</th>\n",
       "      <th>APC</th>\n",
       "      <th>field artillery</th>\n",
       "      <th>MRL</th>\n",
       "      <th>military auto</th>\n",
       "      <th>fuel tank</th>\n",
       "      <th>drone</th>\n",
       "      <th>naval ship</th>\n",
       "      <th>anti-aircraft warfare</th>\n",
       "      <th>special equipment</th>\n",
       "      <th>mobile SRBM system</th>\n",
       "      <th>vehicles and fuel tanks</th>\n",
       "      <th>cruise missiles</th>\n",
       "      <th>greatest losses direction</th>\n",
       "    </tr>\n",
       "  </thead>\n",
       "  <tbody>\n",
       "    <tr>\n",
       "      <th>65</th>\n",
       "      <td>2022-05-01</td>\n",
       "      <td>67</td>\n",
       "      <td>192</td>\n",
       "      <td>155</td>\n",
       "      <td>1026</td>\n",
       "      <td>2471</td>\n",
       "      <td>451</td>\n",
       "      <td>151</td>\n",
       "      <td>NaN</td>\n",
       "      <td>NaN</td>\n",
       "      <td>245</td>\n",
       "      <td>8</td>\n",
       "      <td>80</td>\n",
       "      <td>32.0</td>\n",
       "      <td>NaN</td>\n",
       "      <td>1796.0</td>\n",
       "      <td>84.0</td>\n",
       "      <td>NaN</td>\n",
       "    </tr>\n",
       "    <tr>\n",
       "      <th>66</th>\n",
       "      <td>2022-05-02</td>\n",
       "      <td>68</td>\n",
       "      <td>194</td>\n",
       "      <td>155</td>\n",
       "      <td>1048</td>\n",
       "      <td>2519</td>\n",
       "      <td>459</td>\n",
       "      <td>152</td>\n",
       "      <td>NaN</td>\n",
       "      <td>NaN</td>\n",
       "      <td>271</td>\n",
       "      <td>8</td>\n",
       "      <td>80</td>\n",
       "      <td>38.0</td>\n",
       "      <td>NaN</td>\n",
       "      <td>1824.0</td>\n",
       "      <td>84.0</td>\n",
       "      <td>NaN</td>\n",
       "    </tr>\n",
       "    <tr>\n",
       "      <th>67</th>\n",
       "      <td>2022-05-03</td>\n",
       "      <td>69</td>\n",
       "      <td>194</td>\n",
       "      <td>155</td>\n",
       "      <td>1062</td>\n",
       "      <td>2567</td>\n",
       "      <td>475</td>\n",
       "      <td>162</td>\n",
       "      <td>NaN</td>\n",
       "      <td>NaN</td>\n",
       "      <td>291</td>\n",
       "      <td>10</td>\n",
       "      <td>80</td>\n",
       "      <td>38.0</td>\n",
       "      <td>NaN</td>\n",
       "      <td>1843.0</td>\n",
       "      <td>84.0</td>\n",
       "      <td>NaN</td>\n",
       "    </tr>\n",
       "    <tr>\n",
       "      <th>68</th>\n",
       "      <td>2022-05-04</td>\n",
       "      <td>70</td>\n",
       "      <td>194</td>\n",
       "      <td>155</td>\n",
       "      <td>1077</td>\n",
       "      <td>2610</td>\n",
       "      <td>491</td>\n",
       "      <td>163</td>\n",
       "      <td>NaN</td>\n",
       "      <td>NaN</td>\n",
       "      <td>303</td>\n",
       "      <td>10</td>\n",
       "      <td>81</td>\n",
       "      <td>38.0</td>\n",
       "      <td>NaN</td>\n",
       "      <td>1867.0</td>\n",
       "      <td>87.0</td>\n",
       "      <td>NaN</td>\n",
       "    </tr>\n",
       "    <tr>\n",
       "      <th>69</th>\n",
       "      <td>2022-05-05</td>\n",
       "      <td>71</td>\n",
       "      <td>196</td>\n",
       "      <td>155</td>\n",
       "      <td>1092</td>\n",
       "      <td>2651</td>\n",
       "      <td>499</td>\n",
       "      <td>169</td>\n",
       "      <td>NaN</td>\n",
       "      <td>NaN</td>\n",
       "      <td>312</td>\n",
       "      <td>10</td>\n",
       "      <td>83</td>\n",
       "      <td>38.0</td>\n",
       "      <td>NaN</td>\n",
       "      <td>1907.0</td>\n",
       "      <td>89.0</td>\n",
       "      <td>NaN</td>\n",
       "    </tr>\n",
       "    <tr>\n",
       "      <th>70</th>\n",
       "      <td>2022-05-06</td>\n",
       "      <td>72</td>\n",
       "      <td>199</td>\n",
       "      <td>155</td>\n",
       "      <td>1110</td>\n",
       "      <td>2686</td>\n",
       "      <td>502</td>\n",
       "      <td>171</td>\n",
       "      <td>NaN</td>\n",
       "      <td>NaN</td>\n",
       "      <td>324</td>\n",
       "      <td>11</td>\n",
       "      <td>83</td>\n",
       "      <td>38.0</td>\n",
       "      <td>NaN</td>\n",
       "      <td>1926.0</td>\n",
       "      <td>90.0</td>\n",
       "      <td>NaN</td>\n",
       "    </tr>\n",
       "    <tr>\n",
       "      <th>71</th>\n",
       "      <td>2022-05-07</td>\n",
       "      <td>73</td>\n",
       "      <td>199</td>\n",
       "      <td>155</td>\n",
       "      <td>1122</td>\n",
       "      <td>2713</td>\n",
       "      <td>509</td>\n",
       "      <td>172</td>\n",
       "      <td>NaN</td>\n",
       "      <td>NaN</td>\n",
       "      <td>341</td>\n",
       "      <td>11</td>\n",
       "      <td>84</td>\n",
       "      <td>38.0</td>\n",
       "      <td>NaN</td>\n",
       "      <td>1934.0</td>\n",
       "      <td>90.0</td>\n",
       "      <td>NaN</td>\n",
       "    </tr>\n",
       "    <tr>\n",
       "      <th>72</th>\n",
       "      <td>2022-05-08</td>\n",
       "      <td>74</td>\n",
       "      <td>199</td>\n",
       "      <td>156</td>\n",
       "      <td>1130</td>\n",
       "      <td>2741</td>\n",
       "      <td>509</td>\n",
       "      <td>179</td>\n",
       "      <td>NaN</td>\n",
       "      <td>NaN</td>\n",
       "      <td>360</td>\n",
       "      <td>12</td>\n",
       "      <td>86</td>\n",
       "      <td>39.0</td>\n",
       "      <td>NaN</td>\n",
       "      <td>1961.0</td>\n",
       "      <td>92.0</td>\n",
       "      <td>NaN</td>\n",
       "    </tr>\n",
       "    <tr>\n",
       "      <th>73</th>\n",
       "      <td>2022-05-09</td>\n",
       "      <td>75</td>\n",
       "      <td>199</td>\n",
       "      <td>158</td>\n",
       "      <td>1145</td>\n",
       "      <td>2764</td>\n",
       "      <td>513</td>\n",
       "      <td>185</td>\n",
       "      <td>NaN</td>\n",
       "      <td>NaN</td>\n",
       "      <td>377</td>\n",
       "      <td>12</td>\n",
       "      <td>87</td>\n",
       "      <td>41.0</td>\n",
       "      <td>NaN</td>\n",
       "      <td>1970.0</td>\n",
       "      <td>94.0</td>\n",
       "      <td>NaN</td>\n",
       "    </tr>\n",
       "    <tr>\n",
       "      <th>74</th>\n",
       "      <td>2022-05-10</td>\n",
       "      <td>76</td>\n",
       "      <td>199</td>\n",
       "      <td>158</td>\n",
       "      <td>1170</td>\n",
       "      <td>2808</td>\n",
       "      <td>519</td>\n",
       "      <td>185</td>\n",
       "      <td>NaN</td>\n",
       "      <td>NaN</td>\n",
       "      <td>380</td>\n",
       "      <td>12</td>\n",
       "      <td>87</td>\n",
       "      <td>41.0</td>\n",
       "      <td>NaN</td>\n",
       "      <td>1980.0</td>\n",
       "      <td>94.0</td>\n",
       "      <td>NaN</td>\n",
       "    </tr>\n",
       "    <tr>\n",
       "      <th>75</th>\n",
       "      <td>2022-05-11</td>\n",
       "      <td>77</td>\n",
       "      <td>199</td>\n",
       "      <td>160</td>\n",
       "      <td>1187</td>\n",
       "      <td>2856</td>\n",
       "      <td>528</td>\n",
       "      <td>185</td>\n",
       "      <td>NaN</td>\n",
       "      <td>NaN</td>\n",
       "      <td>390</td>\n",
       "      <td>12</td>\n",
       "      <td>87</td>\n",
       "      <td>41.0</td>\n",
       "      <td>NaN</td>\n",
       "      <td>1997.0</td>\n",
       "      <td>94.0</td>\n",
       "      <td>NaN</td>\n",
       "    </tr>\n",
       "    <tr>\n",
       "      <th>76</th>\n",
       "      <td>2022-05-12</td>\n",
       "      <td>78</td>\n",
       "      <td>199</td>\n",
       "      <td>161</td>\n",
       "      <td>1195</td>\n",
       "      <td>2873</td>\n",
       "      <td>534</td>\n",
       "      <td>191</td>\n",
       "      <td>NaN</td>\n",
       "      <td>NaN</td>\n",
       "      <td>398</td>\n",
       "      <td>13</td>\n",
       "      <td>87</td>\n",
       "      <td>41.0</td>\n",
       "      <td>NaN</td>\n",
       "      <td>2019.0</td>\n",
       "      <td>94.0</td>\n",
       "      <td>NaN</td>\n",
       "    </tr>\n",
       "    <tr>\n",
       "      <th>77</th>\n",
       "      <td>2022-05-13</td>\n",
       "      <td>79</td>\n",
       "      <td>200</td>\n",
       "      <td>162</td>\n",
       "      <td>1205</td>\n",
       "      <td>2900</td>\n",
       "      <td>542</td>\n",
       "      <td>193</td>\n",
       "      <td>NaN</td>\n",
       "      <td>NaN</td>\n",
       "      <td>405</td>\n",
       "      <td>13</td>\n",
       "      <td>88</td>\n",
       "      <td>41.0</td>\n",
       "      <td>NaN</td>\n",
       "      <td>2042.0</td>\n",
       "      <td>95.0</td>\n",
       "      <td>NaN</td>\n",
       "    </tr>\n",
       "    <tr>\n",
       "      <th>78</th>\n",
       "      <td>2022-05-14</td>\n",
       "      <td>80</td>\n",
       "      <td>200</td>\n",
       "      <td>163</td>\n",
       "      <td>1218</td>\n",
       "      <td>2934</td>\n",
       "      <td>551</td>\n",
       "      <td>195</td>\n",
       "      <td>NaN</td>\n",
       "      <td>NaN</td>\n",
       "      <td>411</td>\n",
       "      <td>13</td>\n",
       "      <td>88</td>\n",
       "      <td>42.0</td>\n",
       "      <td>NaN</td>\n",
       "      <td>2059.0</td>\n",
       "      <td>95.0</td>\n",
       "      <td>NaN</td>\n",
       "    </tr>\n",
       "    <tr>\n",
       "      <th>79</th>\n",
       "      <td>2022-05-15</td>\n",
       "      <td>81</td>\n",
       "      <td>200</td>\n",
       "      <td>164</td>\n",
       "      <td>1220</td>\n",
       "      <td>2958</td>\n",
       "      <td>555</td>\n",
       "      <td>195</td>\n",
       "      <td>NaN</td>\n",
       "      <td>NaN</td>\n",
       "      <td>416</td>\n",
       "      <td>13</td>\n",
       "      <td>89</td>\n",
       "      <td>42.0</td>\n",
       "      <td>NaN</td>\n",
       "      <td>2087.0</td>\n",
       "      <td>95.0</td>\n",
       "      <td>NaN</td>\n",
       "    </tr>\n",
       "    <tr>\n",
       "      <th>80</th>\n",
       "      <td>2022-05-16</td>\n",
       "      <td>82</td>\n",
       "      <td>200</td>\n",
       "      <td>165</td>\n",
       "      <td>1228</td>\n",
       "      <td>2974</td>\n",
       "      <td>577</td>\n",
       "      <td>195</td>\n",
       "      <td>NaN</td>\n",
       "      <td>NaN</td>\n",
       "      <td>427</td>\n",
       "      <td>13</td>\n",
       "      <td>89</td>\n",
       "      <td>42.0</td>\n",
       "      <td>NaN</td>\n",
       "      <td>2101.0</td>\n",
       "      <td>97.0</td>\n",
       "      <td>NaN</td>\n",
       "    </tr>\n",
       "    <tr>\n",
       "      <th>81</th>\n",
       "      <td>2022-05-17</td>\n",
       "      <td>83</td>\n",
       "      <td>201</td>\n",
       "      <td>167</td>\n",
       "      <td>1235</td>\n",
       "      <td>3009</td>\n",
       "      <td>578</td>\n",
       "      <td>198</td>\n",
       "      <td>NaN</td>\n",
       "      <td>NaN</td>\n",
       "      <td>436</td>\n",
       "      <td>13</td>\n",
       "      <td>90</td>\n",
       "      <td>43.0</td>\n",
       "      <td>NaN</td>\n",
       "      <td>2109.0</td>\n",
       "      <td>97.0</td>\n",
       "      <td>NaN</td>\n",
       "    </tr>\n",
       "    <tr>\n",
       "      <th>82</th>\n",
       "      <td>2022-05-18</td>\n",
       "      <td>84</td>\n",
       "      <td>202</td>\n",
       "      <td>167</td>\n",
       "      <td>1251</td>\n",
       "      <td>3043</td>\n",
       "      <td>586</td>\n",
       "      <td>199</td>\n",
       "      <td>NaN</td>\n",
       "      <td>NaN</td>\n",
       "      <td>441</td>\n",
       "      <td>13</td>\n",
       "      <td>91</td>\n",
       "      <td>43.0</td>\n",
       "      <td>NaN</td>\n",
       "      <td>2137.0</td>\n",
       "      <td>102.0</td>\n",
       "      <td>NaN</td>\n",
       "    </tr>\n",
       "    <tr>\n",
       "      <th>83</th>\n",
       "      <td>2022-05-19</td>\n",
       "      <td>85</td>\n",
       "      <td>203</td>\n",
       "      <td>167</td>\n",
       "      <td>1254</td>\n",
       "      <td>3063</td>\n",
       "      <td>595</td>\n",
       "      <td>199</td>\n",
       "      <td>NaN</td>\n",
       "      <td>NaN</td>\n",
       "      <td>455</td>\n",
       "      <td>13</td>\n",
       "      <td>93</td>\n",
       "      <td>43.0</td>\n",
       "      <td>NaN</td>\n",
       "      <td>2157.0</td>\n",
       "      <td>103.0</td>\n",
       "      <td>NaN</td>\n",
       "    </tr>\n",
       "    <tr>\n",
       "      <th>84</th>\n",
       "      <td>2022-05-20</td>\n",
       "      <td>86</td>\n",
       "      <td>204</td>\n",
       "      <td>168</td>\n",
       "      <td>1263</td>\n",
       "      <td>3090</td>\n",
       "      <td>596</td>\n",
       "      <td>200</td>\n",
       "      <td>NaN</td>\n",
       "      <td>NaN</td>\n",
       "      <td>460</td>\n",
       "      <td>13</td>\n",
       "      <td>93</td>\n",
       "      <td>43.0</td>\n",
       "      <td>NaN</td>\n",
       "      <td>2162.0</td>\n",
       "      <td>103.0</td>\n",
       "      <td>NaN</td>\n",
       "    </tr>\n",
       "    <tr>\n",
       "      <th>85</th>\n",
       "      <td>2022-05-21</td>\n",
       "      <td>87</td>\n",
       "      <td>204</td>\n",
       "      <td>169</td>\n",
       "      <td>1278</td>\n",
       "      <td>3116</td>\n",
       "      <td>596</td>\n",
       "      <td>201</td>\n",
       "      <td>NaN</td>\n",
       "      <td>NaN</td>\n",
       "      <td>462</td>\n",
       "      <td>13</td>\n",
       "      <td>93</td>\n",
       "      <td>43.0</td>\n",
       "      <td>NaN</td>\n",
       "      <td>2178.0</td>\n",
       "      <td>104.0</td>\n",
       "      <td>NaN</td>\n",
       "    </tr>\n",
       "    <tr>\n",
       "      <th>86</th>\n",
       "      <td>2022-05-22</td>\n",
       "      <td>88</td>\n",
       "      <td>204</td>\n",
       "      <td>170</td>\n",
       "      <td>1285</td>\n",
       "      <td>3141</td>\n",
       "      <td>599</td>\n",
       "      <td>201</td>\n",
       "      <td>NaN</td>\n",
       "      <td>NaN</td>\n",
       "      <td>470</td>\n",
       "      <td>13</td>\n",
       "      <td>93</td>\n",
       "      <td>43.0</td>\n",
       "      <td>NaN</td>\n",
       "      <td>2194.0</td>\n",
       "      <td>107.0</td>\n",
       "      <td>NaN</td>\n",
       "    </tr>\n",
       "    <tr>\n",
       "      <th>87</th>\n",
       "      <td>2022-05-23</td>\n",
       "      <td>89</td>\n",
       "      <td>204</td>\n",
       "      <td>170</td>\n",
       "      <td>1293</td>\n",
       "      <td>3166</td>\n",
       "      <td>604</td>\n",
       "      <td>201</td>\n",
       "      <td>NaN</td>\n",
       "      <td>NaN</td>\n",
       "      <td>476</td>\n",
       "      <td>13</td>\n",
       "      <td>93</td>\n",
       "      <td>43.0</td>\n",
       "      <td>NaN</td>\n",
       "      <td>2206.0</td>\n",
       "      <td>110.0</td>\n",
       "      <td>NaN</td>\n",
       "    </tr>\n",
       "    <tr>\n",
       "      <th>88</th>\n",
       "      <td>2022-05-24</td>\n",
       "      <td>90</td>\n",
       "      <td>205</td>\n",
       "      <td>170</td>\n",
       "      <td>1302</td>\n",
       "      <td>3194</td>\n",
       "      <td>606</td>\n",
       "      <td>201</td>\n",
       "      <td>NaN</td>\n",
       "      <td>NaN</td>\n",
       "      <td>480</td>\n",
       "      <td>13</td>\n",
       "      <td>93</td>\n",
       "      <td>43.0</td>\n",
       "      <td>NaN</td>\n",
       "      <td>2213.0</td>\n",
       "      <td>112.0</td>\n",
       "      <td>NaN</td>\n",
       "    </tr>\n",
       "    <tr>\n",
       "      <th>89</th>\n",
       "      <td>2022-05-25</td>\n",
       "      <td>91</td>\n",
       "      <td>206</td>\n",
       "      <td>170</td>\n",
       "      <td>1305</td>\n",
       "      <td>3213</td>\n",
       "      <td>606</td>\n",
       "      <td>201</td>\n",
       "      <td>NaN</td>\n",
       "      <td>NaN</td>\n",
       "      <td>491</td>\n",
       "      <td>13</td>\n",
       "      <td>93</td>\n",
       "      <td>44.0</td>\n",
       "      <td>NaN</td>\n",
       "      <td>2217.0</td>\n",
       "      <td>112.0</td>\n",
       "      <td>Lyman</td>\n",
       "    </tr>\n",
       "    <tr>\n",
       "      <th>90</th>\n",
       "      <td>2022-05-26</td>\n",
       "      <td>92</td>\n",
       "      <td>206</td>\n",
       "      <td>170</td>\n",
       "      <td>1315</td>\n",
       "      <td>3235</td>\n",
       "      <td>617</td>\n",
       "      <td>201</td>\n",
       "      <td>NaN</td>\n",
       "      <td>NaN</td>\n",
       "      <td>502</td>\n",
       "      <td>13</td>\n",
       "      <td>93</td>\n",
       "      <td>47.0</td>\n",
       "      <td>NaN</td>\n",
       "      <td>2225.0</td>\n",
       "      <td>114.0</td>\n",
       "      <td>Avdiivka</td>\n",
       "    </tr>\n",
       "    <tr>\n",
       "      <th>91</th>\n",
       "      <td>2022-05-27</td>\n",
       "      <td>93</td>\n",
       "      <td>206</td>\n",
       "      <td>170</td>\n",
       "      <td>1322</td>\n",
       "      <td>3246</td>\n",
       "      <td>623</td>\n",
       "      <td>201</td>\n",
       "      <td>NaN</td>\n",
       "      <td>NaN</td>\n",
       "      <td>503</td>\n",
       "      <td>13</td>\n",
       "      <td>93</td>\n",
       "      <td>48.0</td>\n",
       "      <td>NaN</td>\n",
       "      <td>2226.0</td>\n",
       "      <td>115.0</td>\n",
       "      <td>Avdiivka</td>\n",
       "    </tr>\n",
       "    <tr>\n",
       "      <th>92</th>\n",
       "      <td>2022-05-28</td>\n",
       "      <td>94</td>\n",
       "      <td>207</td>\n",
       "      <td>174</td>\n",
       "      <td>1330</td>\n",
       "      <td>3258</td>\n",
       "      <td>628</td>\n",
       "      <td>203</td>\n",
       "      <td>NaN</td>\n",
       "      <td>NaN</td>\n",
       "      <td>503</td>\n",
       "      <td>13</td>\n",
       "      <td>93</td>\n",
       "      <td>48.0</td>\n",
       "      <td>NaN</td>\n",
       "      <td>2226.0</td>\n",
       "      <td>116.0</td>\n",
       "      <td>Avdiivka and Kryvyi Rih</td>\n",
       "    </tr>\n",
       "    <tr>\n",
       "      <th>93</th>\n",
       "      <td>2022-05-29</td>\n",
       "      <td>95</td>\n",
       "      <td>207</td>\n",
       "      <td>174</td>\n",
       "      <td>1338</td>\n",
       "      <td>3270</td>\n",
       "      <td>631</td>\n",
       "      <td>203</td>\n",
       "      <td>NaN</td>\n",
       "      <td>NaN</td>\n",
       "      <td>504</td>\n",
       "      <td>13</td>\n",
       "      <td>93</td>\n",
       "      <td>48.0</td>\n",
       "      <td>NaN</td>\n",
       "      <td>2240.0</td>\n",
       "      <td>116.0</td>\n",
       "      <td>Bahmut</td>\n",
       "    </tr>\n",
       "    <tr>\n",
       "      <th>94</th>\n",
       "      <td>2022-05-30</td>\n",
       "      <td>96</td>\n",
       "      <td>207</td>\n",
       "      <td>174</td>\n",
       "      <td>1349</td>\n",
       "      <td>3282</td>\n",
       "      <td>643</td>\n",
       "      <td>205</td>\n",
       "      <td>NaN</td>\n",
       "      <td>NaN</td>\n",
       "      <td>507</td>\n",
       "      <td>13</td>\n",
       "      <td>93</td>\n",
       "      <td>48.0</td>\n",
       "      <td>NaN</td>\n",
       "      <td>2258.0</td>\n",
       "      <td>118.0</td>\n",
       "      <td>Zaporizhzhia</td>\n",
       "    </tr>\n",
       "    <tr>\n",
       "      <th>95</th>\n",
       "      <td>2022-05-31</td>\n",
       "      <td>97</td>\n",
       "      <td>208</td>\n",
       "      <td>174</td>\n",
       "      <td>1358</td>\n",
       "      <td>3302</td>\n",
       "      <td>649</td>\n",
       "      <td>207</td>\n",
       "      <td>NaN</td>\n",
       "      <td>NaN</td>\n",
       "      <td>515</td>\n",
       "      <td>13</td>\n",
       "      <td>93</td>\n",
       "      <td>48.0</td>\n",
       "      <td>NaN</td>\n",
       "      <td>2275.0</td>\n",
       "      <td>120.0</td>\n",
       "      <td>Kryvyi Rih and Zaporizhzhya</td>\n",
       "    </tr>\n",
       "    <tr>\n",
       "      <th>96</th>\n",
       "      <td>2022-06-01</td>\n",
       "      <td>98</td>\n",
       "      <td>208</td>\n",
       "      <td>175</td>\n",
       "      <td>1361</td>\n",
       "      <td>3343</td>\n",
       "      <td>659</td>\n",
       "      <td>207</td>\n",
       "      <td>NaN</td>\n",
       "      <td>NaN</td>\n",
       "      <td>519</td>\n",
       "      <td>13</td>\n",
       "      <td>94</td>\n",
       "      <td>49.0</td>\n",
       "      <td>NaN</td>\n",
       "      <td>2290.0</td>\n",
       "      <td>120.0</td>\n",
       "      <td>Kryvyi Rih and Bakhmut</td>\n",
       "    </tr>\n",
       "    <tr>\n",
       "      <th>97</th>\n",
       "      <td>2022-06-02</td>\n",
       "      <td>99</td>\n",
       "      <td>210</td>\n",
       "      <td>175</td>\n",
       "      <td>1363</td>\n",
       "      <td>3354</td>\n",
       "      <td>661</td>\n",
       "      <td>207</td>\n",
       "      <td>NaN</td>\n",
       "      <td>NaN</td>\n",
       "      <td>521</td>\n",
       "      <td>13</td>\n",
       "      <td>95</td>\n",
       "      <td>51.0</td>\n",
       "      <td>NaN</td>\n",
       "      <td>2325.0</td>\n",
       "      <td>120.0</td>\n",
       "      <td>Bakhmut</td>\n",
       "    </tr>\n",
       "    <tr>\n",
       "      <th>98</th>\n",
       "      <td>2022-06-03</td>\n",
       "      <td>100</td>\n",
       "      <td>210</td>\n",
       "      <td>175</td>\n",
       "      <td>1367</td>\n",
       "      <td>3366</td>\n",
       "      <td>675</td>\n",
       "      <td>207</td>\n",
       "      <td>NaN</td>\n",
       "      <td>NaN</td>\n",
       "      <td>535</td>\n",
       "      <td>13</td>\n",
       "      <td>95</td>\n",
       "      <td>51.0</td>\n",
       "      <td>NaN</td>\n",
       "      <td>2329.0</td>\n",
       "      <td>121.0</td>\n",
       "      <td>Bakhmut</td>\n",
       "    </tr>\n",
       "    <tr>\n",
       "      <th>99</th>\n",
       "      <td>2022-06-04</td>\n",
       "      <td>101</td>\n",
       "      <td>210</td>\n",
       "      <td>175</td>\n",
       "      <td>1376</td>\n",
       "      <td>3379</td>\n",
       "      <td>680</td>\n",
       "      <td>207</td>\n",
       "      <td>NaN</td>\n",
       "      <td>NaN</td>\n",
       "      <td>540</td>\n",
       "      <td>13</td>\n",
       "      <td>95</td>\n",
       "      <td>52.0</td>\n",
       "      <td>NaN</td>\n",
       "      <td>2337.0</td>\n",
       "      <td>122.0</td>\n",
       "      <td>Zaporizhzhia</td>\n",
       "    </tr>\n",
       "    <tr>\n",
       "      <th>100</th>\n",
       "      <td>2022-06-05</td>\n",
       "      <td>102</td>\n",
       "      <td>210</td>\n",
       "      <td>175</td>\n",
       "      <td>1381</td>\n",
       "      <td>3392</td>\n",
       "      <td>686</td>\n",
       "      <td>207</td>\n",
       "      <td>NaN</td>\n",
       "      <td>NaN</td>\n",
       "      <td>548</td>\n",
       "      <td>13</td>\n",
       "      <td>95</td>\n",
       "      <td>53.0</td>\n",
       "      <td>NaN</td>\n",
       "      <td>2360.0</td>\n",
       "      <td>122.0</td>\n",
       "      <td>Bakhmut</td>\n",
       "    </tr>\n",
       "    <tr>\n",
       "      <th>101</th>\n",
       "      <td>2022-06-06</td>\n",
       "      <td>103</td>\n",
       "      <td>211</td>\n",
       "      <td>176</td>\n",
       "      <td>1386</td>\n",
       "      <td>3400</td>\n",
       "      <td>690</td>\n",
       "      <td>207</td>\n",
       "      <td>NaN</td>\n",
       "      <td>NaN</td>\n",
       "      <td>551</td>\n",
       "      <td>13</td>\n",
       "      <td>96</td>\n",
       "      <td>53.0</td>\n",
       "      <td>NaN</td>\n",
       "      <td>2395.0</td>\n",
       "      <td>125.0</td>\n",
       "      <td>Slov'yansʹk</td>\n",
       "    </tr>\n",
       "    <tr>\n",
       "      <th>102</th>\n",
       "      <td>2022-06-07</td>\n",
       "      <td>104</td>\n",
       "      <td>212</td>\n",
       "      <td>177</td>\n",
       "      <td>1390</td>\n",
       "      <td>3416</td>\n",
       "      <td>694</td>\n",
       "      <td>207</td>\n",
       "      <td>NaN</td>\n",
       "      <td>NaN</td>\n",
       "      <td>553</td>\n",
       "      <td>13</td>\n",
       "      <td>96</td>\n",
       "      <td>53.0</td>\n",
       "      <td>NaN</td>\n",
       "      <td>2405.0</td>\n",
       "      <td>125.0</td>\n",
       "      <td>Slov'yansʹk</td>\n",
       "    </tr>\n",
       "    <tr>\n",
       "      <th>103</th>\n",
       "      <td>2022-06-08</td>\n",
       "      <td>105</td>\n",
       "      <td>212</td>\n",
       "      <td>178</td>\n",
       "      <td>1393</td>\n",
       "      <td>3429</td>\n",
       "      <td>703</td>\n",
       "      <td>213</td>\n",
       "      <td>NaN</td>\n",
       "      <td>NaN</td>\n",
       "      <td>559</td>\n",
       "      <td>13</td>\n",
       "      <td>96</td>\n",
       "      <td>53.0</td>\n",
       "      <td>NaN</td>\n",
       "      <td>2406.0</td>\n",
       "      <td>125.0</td>\n",
       "      <td>Slov'yansʹk</td>\n",
       "    </tr>\n",
       "    <tr>\n",
       "      <th>104</th>\n",
       "      <td>2022-06-09</td>\n",
       "      <td>106</td>\n",
       "      <td>212</td>\n",
       "      <td>178</td>\n",
       "      <td>1398</td>\n",
       "      <td>3438</td>\n",
       "      <td>711</td>\n",
       "      <td>213</td>\n",
       "      <td>NaN</td>\n",
       "      <td>NaN</td>\n",
       "      <td>562</td>\n",
       "      <td>13</td>\n",
       "      <td>96</td>\n",
       "      <td>53.0</td>\n",
       "      <td>NaN</td>\n",
       "      <td>2421.0</td>\n",
       "      <td>125.0</td>\n",
       "      <td>Bahmut</td>\n",
       "    </tr>\n",
       "    <tr>\n",
       "      <th>105</th>\n",
       "      <td>2022-06-10</td>\n",
       "      <td>107</td>\n",
       "      <td>212</td>\n",
       "      <td>178</td>\n",
       "      <td>1409</td>\n",
       "      <td>3450</td>\n",
       "      <td>712</td>\n",
       "      <td>222</td>\n",
       "      <td>NaN</td>\n",
       "      <td>NaN</td>\n",
       "      <td>572</td>\n",
       "      <td>13</td>\n",
       "      <td>97</td>\n",
       "      <td>54.0</td>\n",
       "      <td>NaN</td>\n",
       "      <td>2438.0</td>\n",
       "      <td>125.0</td>\n",
       "      <td>Kharkiv and Bahmut</td>\n",
       "    </tr>\n",
       "    <tr>\n",
       "      <th>106</th>\n",
       "      <td>2022-06-11</td>\n",
       "      <td>108</td>\n",
       "      <td>212</td>\n",
       "      <td>178</td>\n",
       "      <td>1419</td>\n",
       "      <td>3466</td>\n",
       "      <td>712</td>\n",
       "      <td>222</td>\n",
       "      <td>NaN</td>\n",
       "      <td>NaN</td>\n",
       "      <td>579</td>\n",
       "      <td>13</td>\n",
       "      <td>97</td>\n",
       "      <td>54.0</td>\n",
       "      <td>NaN</td>\n",
       "      <td>2448.0</td>\n",
       "      <td>125.0</td>\n",
       "      <td>Sievierodonetsk and Bahmut</td>\n",
       "    </tr>\n",
       "    <tr>\n",
       "      <th>107</th>\n",
       "      <td>2022-06-12</td>\n",
       "      <td>109</td>\n",
       "      <td>212</td>\n",
       "      <td>178</td>\n",
       "      <td>1430</td>\n",
       "      <td>3484</td>\n",
       "      <td>715</td>\n",
       "      <td>226</td>\n",
       "      <td>NaN</td>\n",
       "      <td>NaN</td>\n",
       "      <td>582</td>\n",
       "      <td>13</td>\n",
       "      <td>97</td>\n",
       "      <td>54.0</td>\n",
       "      <td>NaN</td>\n",
       "      <td>2455.0</td>\n",
       "      <td>125.0</td>\n",
       "      <td>Sievierodonetsk and Bahmut</td>\n",
       "    </tr>\n",
       "    <tr>\n",
       "      <th>108</th>\n",
       "      <td>2022-06-13</td>\n",
       "      <td>110</td>\n",
       "      <td>213</td>\n",
       "      <td>178</td>\n",
       "      <td>1432</td>\n",
       "      <td>3492</td>\n",
       "      <td>718</td>\n",
       "      <td>226</td>\n",
       "      <td>NaN</td>\n",
       "      <td>NaN</td>\n",
       "      <td>585</td>\n",
       "      <td>13</td>\n",
       "      <td>97</td>\n",
       "      <td>54.0</td>\n",
       "      <td>NaN</td>\n",
       "      <td>2460.0</td>\n",
       "      <td>125.0</td>\n",
       "      <td>Bahmut</td>\n",
       "    </tr>\n",
       "    <tr>\n",
       "      <th>109</th>\n",
       "      <td>2022-06-14</td>\n",
       "      <td>111</td>\n",
       "      <td>213</td>\n",
       "      <td>179</td>\n",
       "      <td>1434</td>\n",
       "      <td>3503</td>\n",
       "      <td>721</td>\n",
       "      <td>229</td>\n",
       "      <td>NaN</td>\n",
       "      <td>NaN</td>\n",
       "      <td>588</td>\n",
       "      <td>13</td>\n",
       "      <td>97</td>\n",
       "      <td>54.0</td>\n",
       "      <td>NaN</td>\n",
       "      <td>2473.0</td>\n",
       "      <td>125.0</td>\n",
       "      <td>Bahmut</td>\n",
       "    </tr>\n",
       "    <tr>\n",
       "      <th>110</th>\n",
       "      <td>2022-06-15</td>\n",
       "      <td>112</td>\n",
       "      <td>213</td>\n",
       "      <td>179</td>\n",
       "      <td>1440</td>\n",
       "      <td>3528</td>\n",
       "      <td>722</td>\n",
       "      <td>230</td>\n",
       "      <td>NaN</td>\n",
       "      <td>NaN</td>\n",
       "      <td>591</td>\n",
       "      <td>13</td>\n",
       "      <td>97</td>\n",
       "      <td>55.0</td>\n",
       "      <td>NaN</td>\n",
       "      <td>2485.0</td>\n",
       "      <td>129.0</td>\n",
       "      <td>Bahmut and Sievierodonetsk</td>\n",
       "    </tr>\n",
       "    <tr>\n",
       "      <th>111</th>\n",
       "      <td>2022-06-16</td>\n",
       "      <td>113</td>\n",
       "      <td>213</td>\n",
       "      <td>179</td>\n",
       "      <td>1449</td>\n",
       "      <td>3545</td>\n",
       "      <td>729</td>\n",
       "      <td>233</td>\n",
       "      <td>NaN</td>\n",
       "      <td>NaN</td>\n",
       "      <td>591</td>\n",
       "      <td>13</td>\n",
       "      <td>97</td>\n",
       "      <td>55.0</td>\n",
       "      <td>NaN</td>\n",
       "      <td>2494.0</td>\n",
       "      <td>129.0</td>\n",
       "      <td>Bahmut</td>\n",
       "    </tr>\n",
       "    <tr>\n",
       "      <th>112</th>\n",
       "      <td>2022-06-17</td>\n",
       "      <td>114</td>\n",
       "      <td>215</td>\n",
       "      <td>180</td>\n",
       "      <td>1456</td>\n",
       "      <td>3563</td>\n",
       "      <td>734</td>\n",
       "      <td>233</td>\n",
       "      <td>NaN</td>\n",
       "      <td>NaN</td>\n",
       "      <td>593</td>\n",
       "      <td>13</td>\n",
       "      <td>97</td>\n",
       "      <td>55.0</td>\n",
       "      <td>NaN</td>\n",
       "      <td>2496.0</td>\n",
       "      <td>129.0</td>\n",
       "      <td>Bahmut</td>\n",
       "    </tr>\n",
       "    <tr>\n",
       "      <th>113</th>\n",
       "      <td>2022-06-18</td>\n",
       "      <td>115</td>\n",
       "      <td>216</td>\n",
       "      <td>180</td>\n",
       "      <td>1465</td>\n",
       "      <td>3573</td>\n",
       "      <td>739</td>\n",
       "      <td>233</td>\n",
       "      <td>NaN</td>\n",
       "      <td>NaN</td>\n",
       "      <td>594</td>\n",
       "      <td>14</td>\n",
       "      <td>98</td>\n",
       "      <td>55.0</td>\n",
       "      <td>NaN</td>\n",
       "      <td>2513.0</td>\n",
       "      <td>129.0</td>\n",
       "      <td>Sloviansk, Bahmut and Kryvyi Rih</td>\n",
       "    </tr>\n",
       "    <tr>\n",
       "      <th>114</th>\n",
       "      <td>2022-06-19</td>\n",
       "      <td>116</td>\n",
       "      <td>216</td>\n",
       "      <td>181</td>\n",
       "      <td>1468</td>\n",
       "      <td>3577</td>\n",
       "      <td>745</td>\n",
       "      <td>235</td>\n",
       "      <td>NaN</td>\n",
       "      <td>NaN</td>\n",
       "      <td>598</td>\n",
       "      <td>14</td>\n",
       "      <td>98</td>\n",
       "      <td>55.0</td>\n",
       "      <td>NaN</td>\n",
       "      <td>2523.0</td>\n",
       "      <td>131.0</td>\n",
       "      <td>Bahmut and Zaporizhzhia</td>\n",
       "    </tr>\n",
       "    <tr>\n",
       "      <th>115</th>\n",
       "      <td>2022-06-20</td>\n",
       "      <td>117</td>\n",
       "      <td>216</td>\n",
       "      <td>181</td>\n",
       "      <td>1477</td>\n",
       "      <td>3588</td>\n",
       "      <td>749</td>\n",
       "      <td>238</td>\n",
       "      <td>NaN</td>\n",
       "      <td>NaN</td>\n",
       "      <td>601</td>\n",
       "      <td>14</td>\n",
       "      <td>98</td>\n",
       "      <td>55.0</td>\n",
       "      <td>NaN</td>\n",
       "      <td>2527.0</td>\n",
       "      <td>131.0</td>\n",
       "      <td>Bahmut and Zaporizhzhia</td>\n",
       "    </tr>\n",
       "  </tbody>\n",
       "</table>\n",
       "</div>"
      ],
      "text/plain": [
       "          date  day  aircraft  helicopter  tank   APC  field artillery  MRL  \\\n",
       "65  2022-05-01   67       192         155  1026  2471              451  151   \n",
       "66  2022-05-02   68       194         155  1048  2519              459  152   \n",
       "67  2022-05-03   69       194         155  1062  2567              475  162   \n",
       "68  2022-05-04   70       194         155  1077  2610              491  163   \n",
       "69  2022-05-05   71       196         155  1092  2651              499  169   \n",
       "70  2022-05-06   72       199         155  1110  2686              502  171   \n",
       "71  2022-05-07   73       199         155  1122  2713              509  172   \n",
       "72  2022-05-08   74       199         156  1130  2741              509  179   \n",
       "73  2022-05-09   75       199         158  1145  2764              513  185   \n",
       "74  2022-05-10   76       199         158  1170  2808              519  185   \n",
       "75  2022-05-11   77       199         160  1187  2856              528  185   \n",
       "76  2022-05-12   78       199         161  1195  2873              534  191   \n",
       "77  2022-05-13   79       200         162  1205  2900              542  193   \n",
       "78  2022-05-14   80       200         163  1218  2934              551  195   \n",
       "79  2022-05-15   81       200         164  1220  2958              555  195   \n",
       "80  2022-05-16   82       200         165  1228  2974              577  195   \n",
       "81  2022-05-17   83       201         167  1235  3009              578  198   \n",
       "82  2022-05-18   84       202         167  1251  3043              586  199   \n",
       "83  2022-05-19   85       203         167  1254  3063              595  199   \n",
       "84  2022-05-20   86       204         168  1263  3090              596  200   \n",
       "85  2022-05-21   87       204         169  1278  3116              596  201   \n",
       "86  2022-05-22   88       204         170  1285  3141              599  201   \n",
       "87  2022-05-23   89       204         170  1293  3166              604  201   \n",
       "88  2022-05-24   90       205         170  1302  3194              606  201   \n",
       "89  2022-05-25   91       206         170  1305  3213              606  201   \n",
       "90  2022-05-26   92       206         170  1315  3235              617  201   \n",
       "91  2022-05-27   93       206         170  1322  3246              623  201   \n",
       "92  2022-05-28   94       207         174  1330  3258              628  203   \n",
       "93  2022-05-29   95       207         174  1338  3270              631  203   \n",
       "94  2022-05-30   96       207         174  1349  3282              643  205   \n",
       "95  2022-05-31   97       208         174  1358  3302              649  207   \n",
       "96  2022-06-01   98       208         175  1361  3343              659  207   \n",
       "97  2022-06-02   99       210         175  1363  3354              661  207   \n",
       "98  2022-06-03  100       210         175  1367  3366              675  207   \n",
       "99  2022-06-04  101       210         175  1376  3379              680  207   \n",
       "100 2022-06-05  102       210         175  1381  3392              686  207   \n",
       "101 2022-06-06  103       211         176  1386  3400              690  207   \n",
       "102 2022-06-07  104       212         177  1390  3416              694  207   \n",
       "103 2022-06-08  105       212         178  1393  3429              703  213   \n",
       "104 2022-06-09  106       212         178  1398  3438              711  213   \n",
       "105 2022-06-10  107       212         178  1409  3450              712  222   \n",
       "106 2022-06-11  108       212         178  1419  3466              712  222   \n",
       "107 2022-06-12  109       212         178  1430  3484              715  226   \n",
       "108 2022-06-13  110       213         178  1432  3492              718  226   \n",
       "109 2022-06-14  111       213         179  1434  3503              721  229   \n",
       "110 2022-06-15  112       213         179  1440  3528              722  230   \n",
       "111 2022-06-16  113       213         179  1449  3545              729  233   \n",
       "112 2022-06-17  114       215         180  1456  3563              734  233   \n",
       "113 2022-06-18  115       216         180  1465  3573              739  233   \n",
       "114 2022-06-19  116       216         181  1468  3577              745  235   \n",
       "115 2022-06-20  117       216         181  1477  3588              749  238   \n",
       "\n",
       "     military auto  fuel tank  drone  naval ship  anti-aircraft warfare  \\\n",
       "65             NaN        NaN    245           8                     80   \n",
       "66             NaN        NaN    271           8                     80   \n",
       "67             NaN        NaN    291          10                     80   \n",
       "68             NaN        NaN    303          10                     81   \n",
       "69             NaN        NaN    312          10                     83   \n",
       "70             NaN        NaN    324          11                     83   \n",
       "71             NaN        NaN    341          11                     84   \n",
       "72             NaN        NaN    360          12                     86   \n",
       "73             NaN        NaN    377          12                     87   \n",
       "74             NaN        NaN    380          12                     87   \n",
       "75             NaN        NaN    390          12                     87   \n",
       "76             NaN        NaN    398          13                     87   \n",
       "77             NaN        NaN    405          13                     88   \n",
       "78             NaN        NaN    411          13                     88   \n",
       "79             NaN        NaN    416          13                     89   \n",
       "80             NaN        NaN    427          13                     89   \n",
       "81             NaN        NaN    436          13                     90   \n",
       "82             NaN        NaN    441          13                     91   \n",
       "83             NaN        NaN    455          13                     93   \n",
       "84             NaN        NaN    460          13                     93   \n",
       "85             NaN        NaN    462          13                     93   \n",
       "86             NaN        NaN    470          13                     93   \n",
       "87             NaN        NaN    476          13                     93   \n",
       "88             NaN        NaN    480          13                     93   \n",
       "89             NaN        NaN    491          13                     93   \n",
       "90             NaN        NaN    502          13                     93   \n",
       "91             NaN        NaN    503          13                     93   \n",
       "92             NaN        NaN    503          13                     93   \n",
       "93             NaN        NaN    504          13                     93   \n",
       "94             NaN        NaN    507          13                     93   \n",
       "95             NaN        NaN    515          13                     93   \n",
       "96             NaN        NaN    519          13                     94   \n",
       "97             NaN        NaN    521          13                     95   \n",
       "98             NaN        NaN    535          13                     95   \n",
       "99             NaN        NaN    540          13                     95   \n",
       "100            NaN        NaN    548          13                     95   \n",
       "101            NaN        NaN    551          13                     96   \n",
       "102            NaN        NaN    553          13                     96   \n",
       "103            NaN        NaN    559          13                     96   \n",
       "104            NaN        NaN    562          13                     96   \n",
       "105            NaN        NaN    572          13                     97   \n",
       "106            NaN        NaN    579          13                     97   \n",
       "107            NaN        NaN    582          13                     97   \n",
       "108            NaN        NaN    585          13                     97   \n",
       "109            NaN        NaN    588          13                     97   \n",
       "110            NaN        NaN    591          13                     97   \n",
       "111            NaN        NaN    591          13                     97   \n",
       "112            NaN        NaN    593          13                     97   \n",
       "113            NaN        NaN    594          14                     98   \n",
       "114            NaN        NaN    598          14                     98   \n",
       "115            NaN        NaN    601          14                     98   \n",
       "\n",
       "     special equipment  mobile SRBM system  vehicles and fuel tanks  \\\n",
       "65                32.0                 NaN                   1796.0   \n",
       "66                38.0                 NaN                   1824.0   \n",
       "67                38.0                 NaN                   1843.0   \n",
       "68                38.0                 NaN                   1867.0   \n",
       "69                38.0                 NaN                   1907.0   \n",
       "70                38.0                 NaN                   1926.0   \n",
       "71                38.0                 NaN                   1934.0   \n",
       "72                39.0                 NaN                   1961.0   \n",
       "73                41.0                 NaN                   1970.0   \n",
       "74                41.0                 NaN                   1980.0   \n",
       "75                41.0                 NaN                   1997.0   \n",
       "76                41.0                 NaN                   2019.0   \n",
       "77                41.0                 NaN                   2042.0   \n",
       "78                42.0                 NaN                   2059.0   \n",
       "79                42.0                 NaN                   2087.0   \n",
       "80                42.0                 NaN                   2101.0   \n",
       "81                43.0                 NaN                   2109.0   \n",
       "82                43.0                 NaN                   2137.0   \n",
       "83                43.0                 NaN                   2157.0   \n",
       "84                43.0                 NaN                   2162.0   \n",
       "85                43.0                 NaN                   2178.0   \n",
       "86                43.0                 NaN                   2194.0   \n",
       "87                43.0                 NaN                   2206.0   \n",
       "88                43.0                 NaN                   2213.0   \n",
       "89                44.0                 NaN                   2217.0   \n",
       "90                47.0                 NaN                   2225.0   \n",
       "91                48.0                 NaN                   2226.0   \n",
       "92                48.0                 NaN                   2226.0   \n",
       "93                48.0                 NaN                   2240.0   \n",
       "94                48.0                 NaN                   2258.0   \n",
       "95                48.0                 NaN                   2275.0   \n",
       "96                49.0                 NaN                   2290.0   \n",
       "97                51.0                 NaN                   2325.0   \n",
       "98                51.0                 NaN                   2329.0   \n",
       "99                52.0                 NaN                   2337.0   \n",
       "100               53.0                 NaN                   2360.0   \n",
       "101               53.0                 NaN                   2395.0   \n",
       "102               53.0                 NaN                   2405.0   \n",
       "103               53.0                 NaN                   2406.0   \n",
       "104               53.0                 NaN                   2421.0   \n",
       "105               54.0                 NaN                   2438.0   \n",
       "106               54.0                 NaN                   2448.0   \n",
       "107               54.0                 NaN                   2455.0   \n",
       "108               54.0                 NaN                   2460.0   \n",
       "109               54.0                 NaN                   2473.0   \n",
       "110               55.0                 NaN                   2485.0   \n",
       "111               55.0                 NaN                   2494.0   \n",
       "112               55.0                 NaN                   2496.0   \n",
       "113               55.0                 NaN                   2513.0   \n",
       "114               55.0                 NaN                   2523.0   \n",
       "115               55.0                 NaN                   2527.0   \n",
       "\n",
       "     cruise missiles         greatest losses direction  \n",
       "65              84.0                               NaN  \n",
       "66              84.0                               NaN  \n",
       "67              84.0                               NaN  \n",
       "68              87.0                               NaN  \n",
       "69              89.0                               NaN  \n",
       "70              90.0                               NaN  \n",
       "71              90.0                               NaN  \n",
       "72              92.0                               NaN  \n",
       "73              94.0                               NaN  \n",
       "74              94.0                               NaN  \n",
       "75              94.0                               NaN  \n",
       "76              94.0                               NaN  \n",
       "77              95.0                               NaN  \n",
       "78              95.0                               NaN  \n",
       "79              95.0                               NaN  \n",
       "80              97.0                               NaN  \n",
       "81              97.0                               NaN  \n",
       "82             102.0                               NaN  \n",
       "83             103.0                               NaN  \n",
       "84             103.0                               NaN  \n",
       "85             104.0                               NaN  \n",
       "86             107.0                               NaN  \n",
       "87             110.0                               NaN  \n",
       "88             112.0                               NaN  \n",
       "89             112.0                             Lyman  \n",
       "90             114.0                          Avdiivka  \n",
       "91             115.0                          Avdiivka  \n",
       "92             116.0           Avdiivka and Kryvyi Rih  \n",
       "93             116.0                            Bahmut  \n",
       "94             118.0                      Zaporizhzhia  \n",
       "95             120.0       Kryvyi Rih and Zaporizhzhya  \n",
       "96             120.0            Kryvyi Rih and Bakhmut  \n",
       "97             120.0                           Bakhmut  \n",
       "98             121.0                           Bakhmut  \n",
       "99             122.0                      Zaporizhzhia  \n",
       "100            122.0                           Bakhmut  \n",
       "101            125.0                       Slov'yansʹk  \n",
       "102            125.0                       Slov'yansʹk  \n",
       "103            125.0                       Slov'yansʹk  \n",
       "104            125.0                            Bahmut  \n",
       "105            125.0                Kharkiv and Bahmut  \n",
       "106            125.0        Sievierodonetsk and Bahmut  \n",
       "107            125.0        Sievierodonetsk and Bahmut  \n",
       "108            125.0                            Bahmut  \n",
       "109            125.0                            Bahmut  \n",
       "110            129.0        Bahmut and Sievierodonetsk  \n",
       "111            129.0                            Bahmut  \n",
       "112            129.0                            Bahmut  \n",
       "113            129.0  Sloviansk, Bahmut and Kryvyi Rih  \n",
       "114            131.0           Bahmut and Zaporizhzhia  \n",
       "115            131.0           Bahmut and Zaporizhzhia  "
      ]
     },
     "execution_count": 53,
     "metadata": {},
     "output_type": "execute_result"
    }
   ],
   "source": [
    "df_equipment[df_equipment['vehicles and fuel tanks'].notnull()]"
   ]
  },
  {
   "cell_type": "code",
   "execution_count": 54,
   "id": "4b370021",
   "metadata": {
    "scrolled": true
   },
   "outputs": [
    {
     "data": {
      "text/html": [
       "<div>\n",
       "<style scoped>\n",
       "    .dataframe tbody tr th:only-of-type {\n",
       "        vertical-align: middle;\n",
       "    }\n",
       "\n",
       "    .dataframe tbody tr th {\n",
       "        vertical-align: top;\n",
       "    }\n",
       "\n",
       "    .dataframe thead th {\n",
       "        text-align: right;\n",
       "    }\n",
       "</style>\n",
       "<table border=\"1\" class=\"dataframe\">\n",
       "  <thead>\n",
       "    <tr style=\"text-align: right;\">\n",
       "      <th></th>\n",
       "      <th>date</th>\n",
       "      <th>day</th>\n",
       "      <th>aircraft</th>\n",
       "      <th>helicopter</th>\n",
       "      <th>tank</th>\n",
       "      <th>APC</th>\n",
       "      <th>field artillery</th>\n",
       "      <th>MRL</th>\n",
       "      <th>military auto</th>\n",
       "      <th>fuel tank</th>\n",
       "      <th>drone</th>\n",
       "      <th>naval ship</th>\n",
       "      <th>anti-aircraft warfare</th>\n",
       "      <th>special equipment</th>\n",
       "      <th>mobile SRBM system</th>\n",
       "      <th>vehicles and fuel tanks</th>\n",
       "      <th>cruise missiles</th>\n",
       "      <th>greatest losses direction</th>\n",
       "    </tr>\n",
       "  </thead>\n",
       "  <tbody>\n",
       "    <tr>\n",
       "      <th>0</th>\n",
       "      <td>2022-02-25</td>\n",
       "      <td>2</td>\n",
       "      <td>10</td>\n",
       "      <td>7</td>\n",
       "      <td>80</td>\n",
       "      <td>516</td>\n",
       "      <td>49</td>\n",
       "      <td>4</td>\n",
       "      <td>100.0</td>\n",
       "      <td>60.0</td>\n",
       "      <td>0</td>\n",
       "      <td>2</td>\n",
       "      <td>0</td>\n",
       "      <td>NaN</td>\n",
       "      <td>NaN</td>\n",
       "      <td>NaN</td>\n",
       "      <td>NaN</td>\n",
       "      <td>NaN</td>\n",
       "    </tr>\n",
       "    <tr>\n",
       "      <th>1</th>\n",
       "      <td>2022-02-26</td>\n",
       "      <td>3</td>\n",
       "      <td>27</td>\n",
       "      <td>26</td>\n",
       "      <td>146</td>\n",
       "      <td>706</td>\n",
       "      <td>49</td>\n",
       "      <td>4</td>\n",
       "      <td>130.0</td>\n",
       "      <td>60.0</td>\n",
       "      <td>2</td>\n",
       "      <td>2</td>\n",
       "      <td>0</td>\n",
       "      <td>NaN</td>\n",
       "      <td>NaN</td>\n",
       "      <td>NaN</td>\n",
       "      <td>NaN</td>\n",
       "      <td>NaN</td>\n",
       "    </tr>\n",
       "    <tr>\n",
       "      <th>2</th>\n",
       "      <td>2022-02-27</td>\n",
       "      <td>4</td>\n",
       "      <td>27</td>\n",
       "      <td>26</td>\n",
       "      <td>150</td>\n",
       "      <td>706</td>\n",
       "      <td>50</td>\n",
       "      <td>4</td>\n",
       "      <td>130.0</td>\n",
       "      <td>60.0</td>\n",
       "      <td>2</td>\n",
       "      <td>2</td>\n",
       "      <td>0</td>\n",
       "      <td>NaN</td>\n",
       "      <td>NaN</td>\n",
       "      <td>NaN</td>\n",
       "      <td>NaN</td>\n",
       "      <td>NaN</td>\n",
       "    </tr>\n",
       "    <tr>\n",
       "      <th>3</th>\n",
       "      <td>2022-02-28</td>\n",
       "      <td>5</td>\n",
       "      <td>29</td>\n",
       "      <td>29</td>\n",
       "      <td>150</td>\n",
       "      <td>816</td>\n",
       "      <td>74</td>\n",
       "      <td>21</td>\n",
       "      <td>291.0</td>\n",
       "      <td>60.0</td>\n",
       "      <td>3</td>\n",
       "      <td>2</td>\n",
       "      <td>5</td>\n",
       "      <td>NaN</td>\n",
       "      <td>NaN</td>\n",
       "      <td>NaN</td>\n",
       "      <td>NaN</td>\n",
       "      <td>NaN</td>\n",
       "    </tr>\n",
       "    <tr>\n",
       "      <th>4</th>\n",
       "      <td>2022-03-01</td>\n",
       "      <td>6</td>\n",
       "      <td>29</td>\n",
       "      <td>29</td>\n",
       "      <td>198</td>\n",
       "      <td>846</td>\n",
       "      <td>77</td>\n",
       "      <td>24</td>\n",
       "      <td>305.0</td>\n",
       "      <td>60.0</td>\n",
       "      <td>3</td>\n",
       "      <td>2</td>\n",
       "      <td>7</td>\n",
       "      <td>NaN</td>\n",
       "      <td>NaN</td>\n",
       "      <td>NaN</td>\n",
       "      <td>NaN</td>\n",
       "      <td>NaN</td>\n",
       "    </tr>\n",
       "    <tr>\n",
       "      <th>...</th>\n",
       "      <td>...</td>\n",
       "      <td>...</td>\n",
       "      <td>...</td>\n",
       "      <td>...</td>\n",
       "      <td>...</td>\n",
       "      <td>...</td>\n",
       "      <td>...</td>\n",
       "      <td>...</td>\n",
       "      <td>...</td>\n",
       "      <td>...</td>\n",
       "      <td>...</td>\n",
       "      <td>...</td>\n",
       "      <td>...</td>\n",
       "      <td>...</td>\n",
       "      <td>...</td>\n",
       "      <td>...</td>\n",
       "      <td>...</td>\n",
       "      <td>...</td>\n",
       "    </tr>\n",
       "    <tr>\n",
       "      <th>60</th>\n",
       "      <td>2022-04-26</td>\n",
       "      <td>62</td>\n",
       "      <td>184</td>\n",
       "      <td>154</td>\n",
       "      <td>918</td>\n",
       "      <td>2308</td>\n",
       "      <td>416</td>\n",
       "      <td>149</td>\n",
       "      <td>1643.0</td>\n",
       "      <td>76.0</td>\n",
       "      <td>205</td>\n",
       "      <td>8</td>\n",
       "      <td>69</td>\n",
       "      <td>31.0</td>\n",
       "      <td>4.0</td>\n",
       "      <td>NaN</td>\n",
       "      <td>NaN</td>\n",
       "      <td>NaN</td>\n",
       "    </tr>\n",
       "    <tr>\n",
       "      <th>61</th>\n",
       "      <td>2022-04-27</td>\n",
       "      <td>63</td>\n",
       "      <td>185</td>\n",
       "      <td>155</td>\n",
       "      <td>939</td>\n",
       "      <td>2342</td>\n",
       "      <td>421</td>\n",
       "      <td>149</td>\n",
       "      <td>1666.0</td>\n",
       "      <td>76.0</td>\n",
       "      <td>207</td>\n",
       "      <td>8</td>\n",
       "      <td>71</td>\n",
       "      <td>31.0</td>\n",
       "      <td>4.0</td>\n",
       "      <td>NaN</td>\n",
       "      <td>NaN</td>\n",
       "      <td>NaN</td>\n",
       "    </tr>\n",
       "    <tr>\n",
       "      <th>62</th>\n",
       "      <td>2022-04-28</td>\n",
       "      <td>64</td>\n",
       "      <td>187</td>\n",
       "      <td>155</td>\n",
       "      <td>970</td>\n",
       "      <td>2389</td>\n",
       "      <td>431</td>\n",
       "      <td>151</td>\n",
       "      <td>1688.0</td>\n",
       "      <td>76.0</td>\n",
       "      <td>215</td>\n",
       "      <td>8</td>\n",
       "      <td>72</td>\n",
       "      <td>31.0</td>\n",
       "      <td>4.0</td>\n",
       "      <td>NaN</td>\n",
       "      <td>NaN</td>\n",
       "      <td>NaN</td>\n",
       "    </tr>\n",
       "    <tr>\n",
       "      <th>63</th>\n",
       "      <td>2022-04-29</td>\n",
       "      <td>65</td>\n",
       "      <td>189</td>\n",
       "      <td>155</td>\n",
       "      <td>986</td>\n",
       "      <td>2418</td>\n",
       "      <td>435</td>\n",
       "      <td>151</td>\n",
       "      <td>1695.0</td>\n",
       "      <td>76.0</td>\n",
       "      <td>229</td>\n",
       "      <td>8</td>\n",
       "      <td>73</td>\n",
       "      <td>31.0</td>\n",
       "      <td>4.0</td>\n",
       "      <td>NaN</td>\n",
       "      <td>NaN</td>\n",
       "      <td>NaN</td>\n",
       "    </tr>\n",
       "    <tr>\n",
       "      <th>64</th>\n",
       "      <td>2022-04-30</td>\n",
       "      <td>66</td>\n",
       "      <td>190</td>\n",
       "      <td>155</td>\n",
       "      <td>1008</td>\n",
       "      <td>2445</td>\n",
       "      <td>436</td>\n",
       "      <td>151</td>\n",
       "      <td>1701.0</td>\n",
       "      <td>76.0</td>\n",
       "      <td>232</td>\n",
       "      <td>8</td>\n",
       "      <td>77</td>\n",
       "      <td>32.0</td>\n",
       "      <td>4.0</td>\n",
       "      <td>NaN</td>\n",
       "      <td>NaN</td>\n",
       "      <td>NaN</td>\n",
       "    </tr>\n",
       "  </tbody>\n",
       "</table>\n",
       "<p>65 rows × 18 columns</p>\n",
       "</div>"
      ],
      "text/plain": [
       "         date  day  aircraft  helicopter  tank   APC  field artillery  MRL  \\\n",
       "0  2022-02-25    2        10           7    80   516               49    4   \n",
       "1  2022-02-26    3        27          26   146   706               49    4   \n",
       "2  2022-02-27    4        27          26   150   706               50    4   \n",
       "3  2022-02-28    5        29          29   150   816               74   21   \n",
       "4  2022-03-01    6        29          29   198   846               77   24   \n",
       "..        ...  ...       ...         ...   ...   ...              ...  ...   \n",
       "60 2022-04-26   62       184         154   918  2308              416  149   \n",
       "61 2022-04-27   63       185         155   939  2342              421  149   \n",
       "62 2022-04-28   64       187         155   970  2389              431  151   \n",
       "63 2022-04-29   65       189         155   986  2418              435  151   \n",
       "64 2022-04-30   66       190         155  1008  2445              436  151   \n",
       "\n",
       "    military auto  fuel tank  drone  naval ship  anti-aircraft warfare  \\\n",
       "0           100.0       60.0      0           2                      0   \n",
       "1           130.0       60.0      2           2                      0   \n",
       "2           130.0       60.0      2           2                      0   \n",
       "3           291.0       60.0      3           2                      5   \n",
       "4           305.0       60.0      3           2                      7   \n",
       "..            ...        ...    ...         ...                    ...   \n",
       "60         1643.0       76.0    205           8                     69   \n",
       "61         1666.0       76.0    207           8                     71   \n",
       "62         1688.0       76.0    215           8                     72   \n",
       "63         1695.0       76.0    229           8                     73   \n",
       "64         1701.0       76.0    232           8                     77   \n",
       "\n",
       "    special equipment  mobile SRBM system  vehicles and fuel tanks  \\\n",
       "0                 NaN                 NaN                      NaN   \n",
       "1                 NaN                 NaN                      NaN   \n",
       "2                 NaN                 NaN                      NaN   \n",
       "3                 NaN                 NaN                      NaN   \n",
       "4                 NaN                 NaN                      NaN   \n",
       "..                ...                 ...                      ...   \n",
       "60               31.0                 4.0                      NaN   \n",
       "61               31.0                 4.0                      NaN   \n",
       "62               31.0                 4.0                      NaN   \n",
       "63               31.0                 4.0                      NaN   \n",
       "64               32.0                 4.0                      NaN   \n",
       "\n",
       "    cruise missiles greatest losses direction  \n",
       "0               NaN                       NaN  \n",
       "1               NaN                       NaN  \n",
       "2               NaN                       NaN  \n",
       "3               NaN                       NaN  \n",
       "4               NaN                       NaN  \n",
       "..              ...                       ...  \n",
       "60              NaN                       NaN  \n",
       "61              NaN                       NaN  \n",
       "62              NaN                       NaN  \n",
       "63              NaN                       NaN  \n",
       "64              NaN                       NaN  \n",
       "\n",
       "[65 rows x 18 columns]"
      ]
     },
     "execution_count": 54,
     "metadata": {},
     "output_type": "execute_result"
    }
   ],
   "source": [
    "df_equipment[df_equipment['fuel tank'].notnull()]"
   ]
  },
  {
   "cell_type": "code",
   "execution_count": 55,
   "id": "649228f2",
   "metadata": {
    "scrolled": true
   },
   "outputs": [
    {
     "data": {
      "text/html": [
       "<div>\n",
       "<style scoped>\n",
       "    .dataframe tbody tr th:only-of-type {\n",
       "        vertical-align: middle;\n",
       "    }\n",
       "\n",
       "    .dataframe tbody tr th {\n",
       "        vertical-align: top;\n",
       "    }\n",
       "\n",
       "    .dataframe thead th {\n",
       "        text-align: right;\n",
       "    }\n",
       "</style>\n",
       "<table border=\"1\" class=\"dataframe\">\n",
       "  <thead>\n",
       "    <tr style=\"text-align: right;\">\n",
       "      <th></th>\n",
       "      <th>date</th>\n",
       "      <th>day</th>\n",
       "      <th>aircraft</th>\n",
       "      <th>helicopter</th>\n",
       "      <th>tank</th>\n",
       "      <th>APC</th>\n",
       "      <th>field artillery</th>\n",
       "      <th>MRL</th>\n",
       "      <th>military auto</th>\n",
       "      <th>fuel tank</th>\n",
       "      <th>drone</th>\n",
       "      <th>naval ship</th>\n",
       "      <th>anti-aircraft warfare</th>\n",
       "      <th>special equipment</th>\n",
       "      <th>mobile SRBM system</th>\n",
       "      <th>vehicles and fuel tanks</th>\n",
       "      <th>cruise missiles</th>\n",
       "      <th>greatest losses direction</th>\n",
       "    </tr>\n",
       "  </thead>\n",
       "  <tbody>\n",
       "    <tr>\n",
       "      <th>0</th>\n",
       "      <td>2022-02-25</td>\n",
       "      <td>2</td>\n",
       "      <td>10</td>\n",
       "      <td>7</td>\n",
       "      <td>80</td>\n",
       "      <td>516</td>\n",
       "      <td>49</td>\n",
       "      <td>4</td>\n",
       "      <td>100.0</td>\n",
       "      <td>60.0</td>\n",
       "      <td>0</td>\n",
       "      <td>2</td>\n",
       "      <td>0</td>\n",
       "      <td>NaN</td>\n",
       "      <td>NaN</td>\n",
       "      <td>NaN</td>\n",
       "      <td>NaN</td>\n",
       "      <td>NaN</td>\n",
       "    </tr>\n",
       "    <tr>\n",
       "      <th>1</th>\n",
       "      <td>2022-02-26</td>\n",
       "      <td>3</td>\n",
       "      <td>27</td>\n",
       "      <td>26</td>\n",
       "      <td>146</td>\n",
       "      <td>706</td>\n",
       "      <td>49</td>\n",
       "      <td>4</td>\n",
       "      <td>130.0</td>\n",
       "      <td>60.0</td>\n",
       "      <td>2</td>\n",
       "      <td>2</td>\n",
       "      <td>0</td>\n",
       "      <td>NaN</td>\n",
       "      <td>NaN</td>\n",
       "      <td>NaN</td>\n",
       "      <td>NaN</td>\n",
       "      <td>NaN</td>\n",
       "    </tr>\n",
       "    <tr>\n",
       "      <th>2</th>\n",
       "      <td>2022-02-27</td>\n",
       "      <td>4</td>\n",
       "      <td>27</td>\n",
       "      <td>26</td>\n",
       "      <td>150</td>\n",
       "      <td>706</td>\n",
       "      <td>50</td>\n",
       "      <td>4</td>\n",
       "      <td>130.0</td>\n",
       "      <td>60.0</td>\n",
       "      <td>2</td>\n",
       "      <td>2</td>\n",
       "      <td>0</td>\n",
       "      <td>NaN</td>\n",
       "      <td>NaN</td>\n",
       "      <td>NaN</td>\n",
       "      <td>NaN</td>\n",
       "      <td>NaN</td>\n",
       "    </tr>\n",
       "    <tr>\n",
       "      <th>3</th>\n",
       "      <td>2022-02-28</td>\n",
       "      <td>5</td>\n",
       "      <td>29</td>\n",
       "      <td>29</td>\n",
       "      <td>150</td>\n",
       "      <td>816</td>\n",
       "      <td>74</td>\n",
       "      <td>21</td>\n",
       "      <td>291.0</td>\n",
       "      <td>60.0</td>\n",
       "      <td>3</td>\n",
       "      <td>2</td>\n",
       "      <td>5</td>\n",
       "      <td>NaN</td>\n",
       "      <td>NaN</td>\n",
       "      <td>NaN</td>\n",
       "      <td>NaN</td>\n",
       "      <td>NaN</td>\n",
       "    </tr>\n",
       "    <tr>\n",
       "      <th>4</th>\n",
       "      <td>2022-03-01</td>\n",
       "      <td>6</td>\n",
       "      <td>29</td>\n",
       "      <td>29</td>\n",
       "      <td>198</td>\n",
       "      <td>846</td>\n",
       "      <td>77</td>\n",
       "      <td>24</td>\n",
       "      <td>305.0</td>\n",
       "      <td>60.0</td>\n",
       "      <td>3</td>\n",
       "      <td>2</td>\n",
       "      <td>7</td>\n",
       "      <td>NaN</td>\n",
       "      <td>NaN</td>\n",
       "      <td>NaN</td>\n",
       "      <td>NaN</td>\n",
       "      <td>NaN</td>\n",
       "    </tr>\n",
       "    <tr>\n",
       "      <th>...</th>\n",
       "      <td>...</td>\n",
       "      <td>...</td>\n",
       "      <td>...</td>\n",
       "      <td>...</td>\n",
       "      <td>...</td>\n",
       "      <td>...</td>\n",
       "      <td>...</td>\n",
       "      <td>...</td>\n",
       "      <td>...</td>\n",
       "      <td>...</td>\n",
       "      <td>...</td>\n",
       "      <td>...</td>\n",
       "      <td>...</td>\n",
       "      <td>...</td>\n",
       "      <td>...</td>\n",
       "      <td>...</td>\n",
       "      <td>...</td>\n",
       "      <td>...</td>\n",
       "    </tr>\n",
       "    <tr>\n",
       "      <th>60</th>\n",
       "      <td>2022-04-26</td>\n",
       "      <td>62</td>\n",
       "      <td>184</td>\n",
       "      <td>154</td>\n",
       "      <td>918</td>\n",
       "      <td>2308</td>\n",
       "      <td>416</td>\n",
       "      <td>149</td>\n",
       "      <td>1643.0</td>\n",
       "      <td>76.0</td>\n",
       "      <td>205</td>\n",
       "      <td>8</td>\n",
       "      <td>69</td>\n",
       "      <td>31.0</td>\n",
       "      <td>4.0</td>\n",
       "      <td>NaN</td>\n",
       "      <td>NaN</td>\n",
       "      <td>NaN</td>\n",
       "    </tr>\n",
       "    <tr>\n",
       "      <th>61</th>\n",
       "      <td>2022-04-27</td>\n",
       "      <td>63</td>\n",
       "      <td>185</td>\n",
       "      <td>155</td>\n",
       "      <td>939</td>\n",
       "      <td>2342</td>\n",
       "      <td>421</td>\n",
       "      <td>149</td>\n",
       "      <td>1666.0</td>\n",
       "      <td>76.0</td>\n",
       "      <td>207</td>\n",
       "      <td>8</td>\n",
       "      <td>71</td>\n",
       "      <td>31.0</td>\n",
       "      <td>4.0</td>\n",
       "      <td>NaN</td>\n",
       "      <td>NaN</td>\n",
       "      <td>NaN</td>\n",
       "    </tr>\n",
       "    <tr>\n",
       "      <th>62</th>\n",
       "      <td>2022-04-28</td>\n",
       "      <td>64</td>\n",
       "      <td>187</td>\n",
       "      <td>155</td>\n",
       "      <td>970</td>\n",
       "      <td>2389</td>\n",
       "      <td>431</td>\n",
       "      <td>151</td>\n",
       "      <td>1688.0</td>\n",
       "      <td>76.0</td>\n",
       "      <td>215</td>\n",
       "      <td>8</td>\n",
       "      <td>72</td>\n",
       "      <td>31.0</td>\n",
       "      <td>4.0</td>\n",
       "      <td>NaN</td>\n",
       "      <td>NaN</td>\n",
       "      <td>NaN</td>\n",
       "    </tr>\n",
       "    <tr>\n",
       "      <th>63</th>\n",
       "      <td>2022-04-29</td>\n",
       "      <td>65</td>\n",
       "      <td>189</td>\n",
       "      <td>155</td>\n",
       "      <td>986</td>\n",
       "      <td>2418</td>\n",
       "      <td>435</td>\n",
       "      <td>151</td>\n",
       "      <td>1695.0</td>\n",
       "      <td>76.0</td>\n",
       "      <td>229</td>\n",
       "      <td>8</td>\n",
       "      <td>73</td>\n",
       "      <td>31.0</td>\n",
       "      <td>4.0</td>\n",
       "      <td>NaN</td>\n",
       "      <td>NaN</td>\n",
       "      <td>NaN</td>\n",
       "    </tr>\n",
       "    <tr>\n",
       "      <th>64</th>\n",
       "      <td>2022-04-30</td>\n",
       "      <td>66</td>\n",
       "      <td>190</td>\n",
       "      <td>155</td>\n",
       "      <td>1008</td>\n",
       "      <td>2445</td>\n",
       "      <td>436</td>\n",
       "      <td>151</td>\n",
       "      <td>1701.0</td>\n",
       "      <td>76.0</td>\n",
       "      <td>232</td>\n",
       "      <td>8</td>\n",
       "      <td>77</td>\n",
       "      <td>32.0</td>\n",
       "      <td>4.0</td>\n",
       "      <td>NaN</td>\n",
       "      <td>NaN</td>\n",
       "      <td>NaN</td>\n",
       "    </tr>\n",
       "  </tbody>\n",
       "</table>\n",
       "<p>65 rows × 18 columns</p>\n",
       "</div>"
      ],
      "text/plain": [
       "         date  day  aircraft  helicopter  tank   APC  field artillery  MRL  \\\n",
       "0  2022-02-25    2        10           7    80   516               49    4   \n",
       "1  2022-02-26    3        27          26   146   706               49    4   \n",
       "2  2022-02-27    4        27          26   150   706               50    4   \n",
       "3  2022-02-28    5        29          29   150   816               74   21   \n",
       "4  2022-03-01    6        29          29   198   846               77   24   \n",
       "..        ...  ...       ...         ...   ...   ...              ...  ...   \n",
       "60 2022-04-26   62       184         154   918  2308              416  149   \n",
       "61 2022-04-27   63       185         155   939  2342              421  149   \n",
       "62 2022-04-28   64       187         155   970  2389              431  151   \n",
       "63 2022-04-29   65       189         155   986  2418              435  151   \n",
       "64 2022-04-30   66       190         155  1008  2445              436  151   \n",
       "\n",
       "    military auto  fuel tank  drone  naval ship  anti-aircraft warfare  \\\n",
       "0           100.0       60.0      0           2                      0   \n",
       "1           130.0       60.0      2           2                      0   \n",
       "2           130.0       60.0      2           2                      0   \n",
       "3           291.0       60.0      3           2                      5   \n",
       "4           305.0       60.0      3           2                      7   \n",
       "..            ...        ...    ...         ...                    ...   \n",
       "60         1643.0       76.0    205           8                     69   \n",
       "61         1666.0       76.0    207           8                     71   \n",
       "62         1688.0       76.0    215           8                     72   \n",
       "63         1695.0       76.0    229           8                     73   \n",
       "64         1701.0       76.0    232           8                     77   \n",
       "\n",
       "    special equipment  mobile SRBM system  vehicles and fuel tanks  \\\n",
       "0                 NaN                 NaN                      NaN   \n",
       "1                 NaN                 NaN                      NaN   \n",
       "2                 NaN                 NaN                      NaN   \n",
       "3                 NaN                 NaN                      NaN   \n",
       "4                 NaN                 NaN                      NaN   \n",
       "..                ...                 ...                      ...   \n",
       "60               31.0                 4.0                      NaN   \n",
       "61               31.0                 4.0                      NaN   \n",
       "62               31.0                 4.0                      NaN   \n",
       "63               31.0                 4.0                      NaN   \n",
       "64               32.0                 4.0                      NaN   \n",
       "\n",
       "    cruise missiles greatest losses direction  \n",
       "0               NaN                       NaN  \n",
       "1               NaN                       NaN  \n",
       "2               NaN                       NaN  \n",
       "3               NaN                       NaN  \n",
       "4               NaN                       NaN  \n",
       "..              ...                       ...  \n",
       "60              NaN                       NaN  \n",
       "61              NaN                       NaN  \n",
       "62              NaN                       NaN  \n",
       "63              NaN                       NaN  \n",
       "64              NaN                       NaN  \n",
       "\n",
       "[65 rows x 18 columns]"
      ]
     },
     "execution_count": 55,
     "metadata": {},
     "output_type": "execute_result"
    }
   ],
   "source": [
    "df_equipment[df_equipment['military auto'].notnull()]"
   ]
  },
  {
   "cell_type": "markdown",
   "id": "7a9572f0",
   "metadata": {},
   "source": [
    "#### seems like starting from day 67 'military auto' and 'fuel tank' columns are combined and tracking under the column 'vehicles and fuel tanks'"
   ]
  },
  {
   "cell_type": "code",
   "execution_count": 56,
   "id": "b8b4a4e5",
   "metadata": {},
   "outputs": [],
   "source": [
    "to_sum = ['military auto', 'fuel tank', 'vehicles and fuel tanks']\n",
    "to_drop = to_sum + ['greatest losses direction']"
   ]
  },
  {
   "cell_type": "code",
   "execution_count": 57,
   "id": "a5eeee34",
   "metadata": {},
   "outputs": [],
   "source": [
    "df_equipment['military and supply vehicles'] = df_equipment[to_sum].sum(axis=1)\n",
    "df_equipment = df_equipment.drop(to_drop, axis=1)"
   ]
  },
  {
   "cell_type": "code",
   "execution_count": 58,
   "id": "b987c271",
   "metadata": {},
   "outputs": [
    {
     "data": {
      "text/html": [
       "<div>\n",
       "<style scoped>\n",
       "    .dataframe tbody tr th:only-of-type {\n",
       "        vertical-align: middle;\n",
       "    }\n",
       "\n",
       "    .dataframe tbody tr th {\n",
       "        vertical-align: top;\n",
       "    }\n",
       "\n",
       "    .dataframe thead th {\n",
       "        text-align: right;\n",
       "    }\n",
       "</style>\n",
       "<table border=\"1\" class=\"dataframe\">\n",
       "  <thead>\n",
       "    <tr style=\"text-align: right;\">\n",
       "      <th></th>\n",
       "      <th>date</th>\n",
       "      <th>day</th>\n",
       "      <th>aircraft</th>\n",
       "      <th>helicopter</th>\n",
       "      <th>tank</th>\n",
       "      <th>APC</th>\n",
       "      <th>field artillery</th>\n",
       "      <th>MRL</th>\n",
       "      <th>drone</th>\n",
       "      <th>naval ship</th>\n",
       "      <th>anti-aircraft warfare</th>\n",
       "      <th>special equipment</th>\n",
       "      <th>mobile SRBM system</th>\n",
       "      <th>cruise missiles</th>\n",
       "      <th>military and supply vehicles</th>\n",
       "    </tr>\n",
       "  </thead>\n",
       "  <tbody>\n",
       "    <tr>\n",
       "      <th>0</th>\n",
       "      <td>2022-02-25</td>\n",
       "      <td>2</td>\n",
       "      <td>10</td>\n",
       "      <td>7</td>\n",
       "      <td>80</td>\n",
       "      <td>516</td>\n",
       "      <td>49</td>\n",
       "      <td>4</td>\n",
       "      <td>0</td>\n",
       "      <td>2</td>\n",
       "      <td>0</td>\n",
       "      <td>NaN</td>\n",
       "      <td>NaN</td>\n",
       "      <td>NaN</td>\n",
       "      <td>160.0</td>\n",
       "    </tr>\n",
       "    <tr>\n",
       "      <th>1</th>\n",
       "      <td>2022-02-26</td>\n",
       "      <td>3</td>\n",
       "      <td>27</td>\n",
       "      <td>26</td>\n",
       "      <td>146</td>\n",
       "      <td>706</td>\n",
       "      <td>49</td>\n",
       "      <td>4</td>\n",
       "      <td>2</td>\n",
       "      <td>2</td>\n",
       "      <td>0</td>\n",
       "      <td>NaN</td>\n",
       "      <td>NaN</td>\n",
       "      <td>NaN</td>\n",
       "      <td>190.0</td>\n",
       "    </tr>\n",
       "    <tr>\n",
       "      <th>2</th>\n",
       "      <td>2022-02-27</td>\n",
       "      <td>4</td>\n",
       "      <td>27</td>\n",
       "      <td>26</td>\n",
       "      <td>150</td>\n",
       "      <td>706</td>\n",
       "      <td>50</td>\n",
       "      <td>4</td>\n",
       "      <td>2</td>\n",
       "      <td>2</td>\n",
       "      <td>0</td>\n",
       "      <td>NaN</td>\n",
       "      <td>NaN</td>\n",
       "      <td>NaN</td>\n",
       "      <td>190.0</td>\n",
       "    </tr>\n",
       "    <tr>\n",
       "      <th>3</th>\n",
       "      <td>2022-02-28</td>\n",
       "      <td>5</td>\n",
       "      <td>29</td>\n",
       "      <td>29</td>\n",
       "      <td>150</td>\n",
       "      <td>816</td>\n",
       "      <td>74</td>\n",
       "      <td>21</td>\n",
       "      <td>3</td>\n",
       "      <td>2</td>\n",
       "      <td>5</td>\n",
       "      <td>NaN</td>\n",
       "      <td>NaN</td>\n",
       "      <td>NaN</td>\n",
       "      <td>351.0</td>\n",
       "    </tr>\n",
       "    <tr>\n",
       "      <th>4</th>\n",
       "      <td>2022-03-01</td>\n",
       "      <td>6</td>\n",
       "      <td>29</td>\n",
       "      <td>29</td>\n",
       "      <td>198</td>\n",
       "      <td>846</td>\n",
       "      <td>77</td>\n",
       "      <td>24</td>\n",
       "      <td>3</td>\n",
       "      <td>2</td>\n",
       "      <td>7</td>\n",
       "      <td>NaN</td>\n",
       "      <td>NaN</td>\n",
       "      <td>NaN</td>\n",
       "      <td>365.0</td>\n",
       "    </tr>\n",
       "    <tr>\n",
       "      <th>...</th>\n",
       "      <td>...</td>\n",
       "      <td>...</td>\n",
       "      <td>...</td>\n",
       "      <td>...</td>\n",
       "      <td>...</td>\n",
       "      <td>...</td>\n",
       "      <td>...</td>\n",
       "      <td>...</td>\n",
       "      <td>...</td>\n",
       "      <td>...</td>\n",
       "      <td>...</td>\n",
       "      <td>...</td>\n",
       "      <td>...</td>\n",
       "      <td>...</td>\n",
       "      <td>...</td>\n",
       "    </tr>\n",
       "    <tr>\n",
       "      <th>111</th>\n",
       "      <td>2022-06-16</td>\n",
       "      <td>113</td>\n",
       "      <td>213</td>\n",
       "      <td>179</td>\n",
       "      <td>1449</td>\n",
       "      <td>3545</td>\n",
       "      <td>729</td>\n",
       "      <td>233</td>\n",
       "      <td>591</td>\n",
       "      <td>13</td>\n",
       "      <td>97</td>\n",
       "      <td>55.0</td>\n",
       "      <td>NaN</td>\n",
       "      <td>129.0</td>\n",
       "      <td>2494.0</td>\n",
       "    </tr>\n",
       "    <tr>\n",
       "      <th>112</th>\n",
       "      <td>2022-06-17</td>\n",
       "      <td>114</td>\n",
       "      <td>215</td>\n",
       "      <td>180</td>\n",
       "      <td>1456</td>\n",
       "      <td>3563</td>\n",
       "      <td>734</td>\n",
       "      <td>233</td>\n",
       "      <td>593</td>\n",
       "      <td>13</td>\n",
       "      <td>97</td>\n",
       "      <td>55.0</td>\n",
       "      <td>NaN</td>\n",
       "      <td>129.0</td>\n",
       "      <td>2496.0</td>\n",
       "    </tr>\n",
       "    <tr>\n",
       "      <th>113</th>\n",
       "      <td>2022-06-18</td>\n",
       "      <td>115</td>\n",
       "      <td>216</td>\n",
       "      <td>180</td>\n",
       "      <td>1465</td>\n",
       "      <td>3573</td>\n",
       "      <td>739</td>\n",
       "      <td>233</td>\n",
       "      <td>594</td>\n",
       "      <td>14</td>\n",
       "      <td>98</td>\n",
       "      <td>55.0</td>\n",
       "      <td>NaN</td>\n",
       "      <td>129.0</td>\n",
       "      <td>2513.0</td>\n",
       "    </tr>\n",
       "    <tr>\n",
       "      <th>114</th>\n",
       "      <td>2022-06-19</td>\n",
       "      <td>116</td>\n",
       "      <td>216</td>\n",
       "      <td>181</td>\n",
       "      <td>1468</td>\n",
       "      <td>3577</td>\n",
       "      <td>745</td>\n",
       "      <td>235</td>\n",
       "      <td>598</td>\n",
       "      <td>14</td>\n",
       "      <td>98</td>\n",
       "      <td>55.0</td>\n",
       "      <td>NaN</td>\n",
       "      <td>131.0</td>\n",
       "      <td>2523.0</td>\n",
       "    </tr>\n",
       "    <tr>\n",
       "      <th>115</th>\n",
       "      <td>2022-06-20</td>\n",
       "      <td>117</td>\n",
       "      <td>216</td>\n",
       "      <td>181</td>\n",
       "      <td>1477</td>\n",
       "      <td>3588</td>\n",
       "      <td>749</td>\n",
       "      <td>238</td>\n",
       "      <td>601</td>\n",
       "      <td>14</td>\n",
       "      <td>98</td>\n",
       "      <td>55.0</td>\n",
       "      <td>NaN</td>\n",
       "      <td>131.0</td>\n",
       "      <td>2527.0</td>\n",
       "    </tr>\n",
       "  </tbody>\n",
       "</table>\n",
       "<p>116 rows × 15 columns</p>\n",
       "</div>"
      ],
      "text/plain": [
       "          date  day  aircraft  helicopter  tank   APC  field artillery  MRL  \\\n",
       "0   2022-02-25    2        10           7    80   516               49    4   \n",
       "1   2022-02-26    3        27          26   146   706               49    4   \n",
       "2   2022-02-27    4        27          26   150   706               50    4   \n",
       "3   2022-02-28    5        29          29   150   816               74   21   \n",
       "4   2022-03-01    6        29          29   198   846               77   24   \n",
       "..         ...  ...       ...         ...   ...   ...              ...  ...   \n",
       "111 2022-06-16  113       213         179  1449  3545              729  233   \n",
       "112 2022-06-17  114       215         180  1456  3563              734  233   \n",
       "113 2022-06-18  115       216         180  1465  3573              739  233   \n",
       "114 2022-06-19  116       216         181  1468  3577              745  235   \n",
       "115 2022-06-20  117       216         181  1477  3588              749  238   \n",
       "\n",
       "     drone  naval ship  anti-aircraft warfare  special equipment  \\\n",
       "0        0           2                      0                NaN   \n",
       "1        2           2                      0                NaN   \n",
       "2        2           2                      0                NaN   \n",
       "3        3           2                      5                NaN   \n",
       "4        3           2                      7                NaN   \n",
       "..     ...         ...                    ...                ...   \n",
       "111    591          13                     97               55.0   \n",
       "112    593          13                     97               55.0   \n",
       "113    594          14                     98               55.0   \n",
       "114    598          14                     98               55.0   \n",
       "115    601          14                     98               55.0   \n",
       "\n",
       "     mobile SRBM system  cruise missiles  military and supply vehicles  \n",
       "0                   NaN              NaN                         160.0  \n",
       "1                   NaN              NaN                         190.0  \n",
       "2                   NaN              NaN                         190.0  \n",
       "3                   NaN              NaN                         351.0  \n",
       "4                   NaN              NaN                         365.0  \n",
       "..                  ...              ...                           ...  \n",
       "111                 NaN            129.0                        2494.0  \n",
       "112                 NaN            129.0                        2496.0  \n",
       "113                 NaN            129.0                        2513.0  \n",
       "114                 NaN            131.0                        2523.0  \n",
       "115                 NaN            131.0                        2527.0  \n",
       "\n",
       "[116 rows x 15 columns]"
      ]
     },
     "execution_count": 58,
     "metadata": {},
     "output_type": "execute_result"
    }
   ],
   "source": [
    "df_equipment"
   ]
  },
  {
   "cell_type": "markdown",
   "id": "be074c65",
   "metadata": {},
   "source": [
    "#### getting daily numbers"
   ]
  },
  {
   "cell_type": "code",
   "execution_count": 59,
   "id": "6976e036",
   "metadata": {},
   "outputs": [],
   "source": [
    "df_equipment_daily = df_equipment.copy().set_index(['date', 'day'])"
   ]
  },
  {
   "cell_type": "code",
   "execution_count": 60,
   "id": "4659df96",
   "metadata": {},
   "outputs": [
    {
     "data": {
      "text/html": [
       "<div>\n",
       "<style scoped>\n",
       "    .dataframe tbody tr th:only-of-type {\n",
       "        vertical-align: middle;\n",
       "    }\n",
       "\n",
       "    .dataframe tbody tr th {\n",
       "        vertical-align: top;\n",
       "    }\n",
       "\n",
       "    .dataframe thead th {\n",
       "        text-align: right;\n",
       "    }\n",
       "</style>\n",
       "<table border=\"1\" class=\"dataframe\">\n",
       "  <thead>\n",
       "    <tr style=\"text-align: right;\">\n",
       "      <th></th>\n",
       "      <th>date</th>\n",
       "      <th>day</th>\n",
       "      <th>aircraft</th>\n",
       "      <th>helicopter</th>\n",
       "      <th>tank</th>\n",
       "      <th>APC</th>\n",
       "      <th>field artillery</th>\n",
       "      <th>MRL</th>\n",
       "      <th>drone</th>\n",
       "      <th>naval ship</th>\n",
       "      <th>anti-aircraft warfare</th>\n",
       "      <th>special equipment</th>\n",
       "      <th>mobile SRBM system</th>\n",
       "      <th>cruise missiles</th>\n",
       "      <th>military and supply vehicles</th>\n",
       "    </tr>\n",
       "  </thead>\n",
       "  <tbody>\n",
       "    <tr>\n",
       "      <th>0</th>\n",
       "      <td>2022-02-25</td>\n",
       "      <td>2</td>\n",
       "      <td>10.0</td>\n",
       "      <td>7.0</td>\n",
       "      <td>80.0</td>\n",
       "      <td>516.0</td>\n",
       "      <td>49.0</td>\n",
       "      <td>4.0</td>\n",
       "      <td>0.0</td>\n",
       "      <td>2.0</td>\n",
       "      <td>0.0</td>\n",
       "      <td>0.0</td>\n",
       "      <td>0.0</td>\n",
       "      <td>0.0</td>\n",
       "      <td>160.0</td>\n",
       "    </tr>\n",
       "    <tr>\n",
       "      <th>1</th>\n",
       "      <td>2022-02-26</td>\n",
       "      <td>3</td>\n",
       "      <td>17.0</td>\n",
       "      <td>19.0</td>\n",
       "      <td>66.0</td>\n",
       "      <td>190.0</td>\n",
       "      <td>0.0</td>\n",
       "      <td>0.0</td>\n",
       "      <td>2.0</td>\n",
       "      <td>0.0</td>\n",
       "      <td>0.0</td>\n",
       "      <td>0.0</td>\n",
       "      <td>0.0</td>\n",
       "      <td>0.0</td>\n",
       "      <td>30.0</td>\n",
       "    </tr>\n",
       "    <tr>\n",
       "      <th>2</th>\n",
       "      <td>2022-02-27</td>\n",
       "      <td>4</td>\n",
       "      <td>0.0</td>\n",
       "      <td>0.0</td>\n",
       "      <td>4.0</td>\n",
       "      <td>0.0</td>\n",
       "      <td>1.0</td>\n",
       "      <td>0.0</td>\n",
       "      <td>0.0</td>\n",
       "      <td>0.0</td>\n",
       "      <td>0.0</td>\n",
       "      <td>0.0</td>\n",
       "      <td>0.0</td>\n",
       "      <td>0.0</td>\n",
       "      <td>0.0</td>\n",
       "    </tr>\n",
       "    <tr>\n",
       "      <th>3</th>\n",
       "      <td>2022-02-28</td>\n",
       "      <td>5</td>\n",
       "      <td>2.0</td>\n",
       "      <td>3.0</td>\n",
       "      <td>0.0</td>\n",
       "      <td>110.0</td>\n",
       "      <td>24.0</td>\n",
       "      <td>17.0</td>\n",
       "      <td>1.0</td>\n",
       "      <td>0.0</td>\n",
       "      <td>5.0</td>\n",
       "      <td>0.0</td>\n",
       "      <td>0.0</td>\n",
       "      <td>0.0</td>\n",
       "      <td>161.0</td>\n",
       "    </tr>\n",
       "    <tr>\n",
       "      <th>4</th>\n",
       "      <td>2022-03-01</td>\n",
       "      <td>6</td>\n",
       "      <td>0.0</td>\n",
       "      <td>0.0</td>\n",
       "      <td>48.0</td>\n",
       "      <td>30.0</td>\n",
       "      <td>3.0</td>\n",
       "      <td>3.0</td>\n",
       "      <td>0.0</td>\n",
       "      <td>0.0</td>\n",
       "      <td>2.0</td>\n",
       "      <td>0.0</td>\n",
       "      <td>0.0</td>\n",
       "      <td>0.0</td>\n",
       "      <td>14.0</td>\n",
       "    </tr>\n",
       "    <tr>\n",
       "      <th>...</th>\n",
       "      <td>...</td>\n",
       "      <td>...</td>\n",
       "      <td>...</td>\n",
       "      <td>...</td>\n",
       "      <td>...</td>\n",
       "      <td>...</td>\n",
       "      <td>...</td>\n",
       "      <td>...</td>\n",
       "      <td>...</td>\n",
       "      <td>...</td>\n",
       "      <td>...</td>\n",
       "      <td>...</td>\n",
       "      <td>...</td>\n",
       "      <td>...</td>\n",
       "      <td>...</td>\n",
       "    </tr>\n",
       "    <tr>\n",
       "      <th>111</th>\n",
       "      <td>2022-06-16</td>\n",
       "      <td>113</td>\n",
       "      <td>0.0</td>\n",
       "      <td>0.0</td>\n",
       "      <td>9.0</td>\n",
       "      <td>17.0</td>\n",
       "      <td>7.0</td>\n",
       "      <td>3.0</td>\n",
       "      <td>0.0</td>\n",
       "      <td>0.0</td>\n",
       "      <td>0.0</td>\n",
       "      <td>0.0</td>\n",
       "      <td>0.0</td>\n",
       "      <td>0.0</td>\n",
       "      <td>9.0</td>\n",
       "    </tr>\n",
       "    <tr>\n",
       "      <th>112</th>\n",
       "      <td>2022-06-17</td>\n",
       "      <td>114</td>\n",
       "      <td>2.0</td>\n",
       "      <td>1.0</td>\n",
       "      <td>7.0</td>\n",
       "      <td>18.0</td>\n",
       "      <td>5.0</td>\n",
       "      <td>0.0</td>\n",
       "      <td>2.0</td>\n",
       "      <td>0.0</td>\n",
       "      <td>0.0</td>\n",
       "      <td>0.0</td>\n",
       "      <td>0.0</td>\n",
       "      <td>0.0</td>\n",
       "      <td>2.0</td>\n",
       "    </tr>\n",
       "    <tr>\n",
       "      <th>113</th>\n",
       "      <td>2022-06-18</td>\n",
       "      <td>115</td>\n",
       "      <td>1.0</td>\n",
       "      <td>0.0</td>\n",
       "      <td>9.0</td>\n",
       "      <td>10.0</td>\n",
       "      <td>5.0</td>\n",
       "      <td>0.0</td>\n",
       "      <td>1.0</td>\n",
       "      <td>1.0</td>\n",
       "      <td>1.0</td>\n",
       "      <td>0.0</td>\n",
       "      <td>0.0</td>\n",
       "      <td>0.0</td>\n",
       "      <td>17.0</td>\n",
       "    </tr>\n",
       "    <tr>\n",
       "      <th>114</th>\n",
       "      <td>2022-06-19</td>\n",
       "      <td>116</td>\n",
       "      <td>0.0</td>\n",
       "      <td>1.0</td>\n",
       "      <td>3.0</td>\n",
       "      <td>4.0</td>\n",
       "      <td>6.0</td>\n",
       "      <td>2.0</td>\n",
       "      <td>4.0</td>\n",
       "      <td>0.0</td>\n",
       "      <td>0.0</td>\n",
       "      <td>0.0</td>\n",
       "      <td>0.0</td>\n",
       "      <td>2.0</td>\n",
       "      <td>10.0</td>\n",
       "    </tr>\n",
       "    <tr>\n",
       "      <th>115</th>\n",
       "      <td>2022-06-20</td>\n",
       "      <td>117</td>\n",
       "      <td>0.0</td>\n",
       "      <td>0.0</td>\n",
       "      <td>9.0</td>\n",
       "      <td>11.0</td>\n",
       "      <td>4.0</td>\n",
       "      <td>3.0</td>\n",
       "      <td>3.0</td>\n",
       "      <td>0.0</td>\n",
       "      <td>0.0</td>\n",
       "      <td>0.0</td>\n",
       "      <td>0.0</td>\n",
       "      <td>0.0</td>\n",
       "      <td>4.0</td>\n",
       "    </tr>\n",
       "  </tbody>\n",
       "</table>\n",
       "<p>116 rows × 15 columns</p>\n",
       "</div>"
      ],
      "text/plain": [
       "          date  day  aircraft  helicopter  tank    APC  field artillery   MRL  \\\n",
       "0   2022-02-25    2      10.0         7.0  80.0  516.0             49.0   4.0   \n",
       "1   2022-02-26    3      17.0        19.0  66.0  190.0              0.0   0.0   \n",
       "2   2022-02-27    4       0.0         0.0   4.0    0.0              1.0   0.0   \n",
       "3   2022-02-28    5       2.0         3.0   0.0  110.0             24.0  17.0   \n",
       "4   2022-03-01    6       0.0         0.0  48.0   30.0              3.0   3.0   \n",
       "..         ...  ...       ...         ...   ...    ...              ...   ...   \n",
       "111 2022-06-16  113       0.0         0.0   9.0   17.0              7.0   3.0   \n",
       "112 2022-06-17  114       2.0         1.0   7.0   18.0              5.0   0.0   \n",
       "113 2022-06-18  115       1.0         0.0   9.0   10.0              5.0   0.0   \n",
       "114 2022-06-19  116       0.0         1.0   3.0    4.0              6.0   2.0   \n",
       "115 2022-06-20  117       0.0         0.0   9.0   11.0              4.0   3.0   \n",
       "\n",
       "     drone  naval ship  anti-aircraft warfare  special equipment  \\\n",
       "0      0.0         2.0                    0.0                0.0   \n",
       "1      2.0         0.0                    0.0                0.0   \n",
       "2      0.0         0.0                    0.0                0.0   \n",
       "3      1.0         0.0                    5.0                0.0   \n",
       "4      0.0         0.0                    2.0                0.0   \n",
       "..     ...         ...                    ...                ...   \n",
       "111    0.0         0.0                    0.0                0.0   \n",
       "112    2.0         0.0                    0.0                0.0   \n",
       "113    1.0         1.0                    1.0                0.0   \n",
       "114    4.0         0.0                    0.0                0.0   \n",
       "115    3.0         0.0                    0.0                0.0   \n",
       "\n",
       "     mobile SRBM system  cruise missiles  military and supply vehicles  \n",
       "0                   0.0              0.0                         160.0  \n",
       "1                   0.0              0.0                          30.0  \n",
       "2                   0.0              0.0                           0.0  \n",
       "3                   0.0              0.0                         161.0  \n",
       "4                   0.0              0.0                          14.0  \n",
       "..                  ...              ...                           ...  \n",
       "111                 0.0              0.0                           9.0  \n",
       "112                 0.0              0.0                           2.0  \n",
       "113                 0.0              0.0                          17.0  \n",
       "114                 0.0              2.0                          10.0  \n",
       "115                 0.0              0.0                           4.0  \n",
       "\n",
       "[116 rows x 15 columns]"
      ]
     },
     "execution_count": 60,
     "metadata": {},
     "output_type": "execute_result"
    }
   ],
   "source": [
    "df_equipment_daily = df_equipment_daily.diff().fillna(df_equipment_daily).fillna(0).reset_index()\n",
    "df_equipment_daily"
   ]
  },
  {
   "cell_type": "code",
   "execution_count": 61,
   "id": "679564e4",
   "metadata": {},
   "outputs": [
    {
     "name": "stderr",
     "output_type": "stream",
     "text": [
      "C:\\Users\\kulturkamp\\AppData\\Local\\Temp\\ipykernel_5780\\3539615631.py:1: FutureWarning:\n",
      "\n",
      "Dropping of nuisance columns in DataFrame reductions (with 'numeric_only=None') is deprecated; in a future version this will raise TypeError.  Select only valid columns before calling the reduction.\n",
      "\n"
     ]
    },
    {
     "data": {
      "text/plain": [
       "day                             6902.0\n",
       "aircraft                         216.0\n",
       "helicopter                       181.0\n",
       "tank                            1477.0\n",
       "APC                             3588.0\n",
       "field artillery                  749.0\n",
       "MRL                              238.0\n",
       "drone                            601.0\n",
       "naval ship                        14.0\n",
       "anti-aircraft warfare             98.0\n",
       "special equipment                 55.0\n",
       "mobile SRBM system                 4.0\n",
       "cruise missiles                  131.0\n",
       "military and supply vehicles    2527.0\n",
       "dtype: float64"
      ]
     },
     "execution_count": 61,
     "metadata": {},
     "output_type": "execute_result"
    }
   ],
   "source": [
    "df_equipment_daily.sum()"
   ]
  },
  {
   "cell_type": "markdown",
   "id": "b78886c9",
   "metadata": {},
   "source": [
    "#### some quick visuals"
   ]
  },
  {
   "cell_type": "code",
   "execution_count": 62,
   "id": "4510170e",
   "metadata": {},
   "outputs": [
    {
     "data": {
      "application/vnd.plotly.v1+json": {
       "config": {
        "plotlyServerURL": "https://plot.ly"
       },
       "data": [
        {
         "alignmentgroup": "True",
         "hovertemplate": "date=%{x}<br>tank=%{y}<extra></extra>",
         "legendgroup": "",
         "marker": {
          "color": "#636efa",
          "pattern": {
           "shape": ""
          }
         },
         "name": "",
         "offsetgroup": "",
         "orientation": "v",
         "showlegend": false,
         "textposition": "auto",
         "type": "bar",
         "x": [
          "2022-02-25T00:00:00",
          "2022-02-26T00:00:00",
          "2022-02-27T00:00:00",
          "2022-02-28T00:00:00",
          "2022-03-01T00:00:00",
          "2022-03-02T00:00:00",
          "2022-03-03T00:00:00",
          "2022-03-04T00:00:00",
          "2022-03-05T00:00:00",
          "2022-03-06T00:00:00",
          "2022-03-07T00:00:00",
          "2022-03-08T00:00:00",
          "2022-03-09T00:00:00",
          "2022-03-10T00:00:00",
          "2022-03-11T00:00:00",
          "2022-03-12T00:00:00",
          "2022-03-13T00:00:00",
          "2022-03-14T00:00:00",
          "2022-03-15T00:00:00",
          "2022-03-16T00:00:00",
          "2022-03-17T00:00:00",
          "2022-03-18T00:00:00",
          "2022-03-19T00:00:00",
          "2022-03-20T00:00:00",
          "2022-03-21T00:00:00",
          "2022-03-22T00:00:00",
          "2022-03-23T00:00:00",
          "2022-03-24T00:00:00",
          "2022-03-25T00:00:00",
          "2022-03-26T00:00:00",
          "2022-03-27T00:00:00",
          "2022-03-28T00:00:00",
          "2022-03-29T00:00:00",
          "2022-03-30T00:00:00",
          "2022-03-31T00:00:00",
          "2022-04-01T00:00:00",
          "2022-04-02T00:00:00",
          "2022-04-03T00:00:00",
          "2022-04-04T00:00:00",
          "2022-04-05T00:00:00",
          "2022-04-06T00:00:00",
          "2022-04-07T00:00:00",
          "2022-04-08T00:00:00",
          "2022-04-09T00:00:00",
          "2022-04-10T00:00:00",
          "2022-04-11T00:00:00",
          "2022-04-12T00:00:00",
          "2022-04-13T00:00:00",
          "2022-04-14T00:00:00",
          "2022-04-15T00:00:00",
          "2022-04-16T00:00:00",
          "2022-04-17T00:00:00",
          "2022-04-18T00:00:00",
          "2022-04-19T00:00:00",
          "2022-04-20T00:00:00",
          "2022-04-21T00:00:00",
          "2022-04-22T00:00:00",
          "2022-04-23T00:00:00",
          "2022-04-24T00:00:00",
          "2022-04-25T00:00:00",
          "2022-04-26T00:00:00",
          "2022-04-27T00:00:00",
          "2022-04-28T00:00:00",
          "2022-04-29T00:00:00",
          "2022-04-30T00:00:00",
          "2022-05-01T00:00:00",
          "2022-05-02T00:00:00",
          "2022-05-03T00:00:00",
          "2022-05-04T00:00:00",
          "2022-05-05T00:00:00",
          "2022-05-06T00:00:00",
          "2022-05-07T00:00:00",
          "2022-05-08T00:00:00",
          "2022-05-09T00:00:00",
          "2022-05-10T00:00:00",
          "2022-05-11T00:00:00",
          "2022-05-12T00:00:00",
          "2022-05-13T00:00:00",
          "2022-05-14T00:00:00",
          "2022-05-15T00:00:00",
          "2022-05-16T00:00:00",
          "2022-05-17T00:00:00",
          "2022-05-18T00:00:00",
          "2022-05-19T00:00:00",
          "2022-05-20T00:00:00",
          "2022-05-21T00:00:00",
          "2022-05-22T00:00:00",
          "2022-05-23T00:00:00",
          "2022-05-24T00:00:00",
          "2022-05-25T00:00:00",
          "2022-05-26T00:00:00",
          "2022-05-27T00:00:00",
          "2022-05-28T00:00:00",
          "2022-05-29T00:00:00",
          "2022-05-30T00:00:00",
          "2022-05-31T00:00:00",
          "2022-06-01T00:00:00",
          "2022-06-02T00:00:00",
          "2022-06-03T00:00:00",
          "2022-06-04T00:00:00",
          "2022-06-05T00:00:00",
          "2022-06-06T00:00:00",
          "2022-06-07T00:00:00",
          "2022-06-08T00:00:00",
          "2022-06-09T00:00:00",
          "2022-06-10T00:00:00",
          "2022-06-11T00:00:00",
          "2022-06-12T00:00:00",
          "2022-06-13T00:00:00",
          "2022-06-14T00:00:00",
          "2022-06-15T00:00:00",
          "2022-06-16T00:00:00",
          "2022-06-17T00:00:00",
          "2022-06-18T00:00:00",
          "2022-06-19T00:00:00",
          "2022-06-20T00:00:00"
         ],
         "xaxis": "x",
         "y": [
          80,
          66,
          4,
          0,
          48,
          13,
          6,
          34,
          18,
          16,
          5,
          13,
          14,
          18,
          18,
          9,
          12,
          15,
          15,
          26,
          14,
          6,
          16,
          10,
          22,
          11,
          8,
          13,
          31,
          14,
          7,
          4,
          11,
          8,
          9,
          11,
          6,
          13,
          3,
          29,
          8,
          14,
          2,
          5,
          17,
          3,
          7,
          7,
          14,
          3,
          6,
          11,
          17,
          12,
          13,
          14,
          9,
          16,
          19,
          11,
          34,
          21,
          31,
          16,
          22,
          18,
          22,
          14,
          15,
          15,
          18,
          12,
          8,
          15,
          25,
          17,
          8,
          10,
          13,
          2,
          8,
          7,
          16,
          3,
          9,
          15,
          7,
          8,
          9,
          3,
          10,
          7,
          8,
          8,
          11,
          9,
          3,
          2,
          4,
          9,
          5,
          5,
          4,
          3,
          5,
          11,
          10,
          11,
          2,
          2,
          6,
          9,
          7,
          9,
          3,
          9
         ],
         "yaxis": "y"
        }
       ],
       "layout": {
        "barmode": "relative",
        "legend": {
         "tracegroupgap": 0
        },
        "margin": {
         "t": 60
        },
        "template": {
         "data": {
          "bar": [
           {
            "error_x": {
             "color": "#2a3f5f"
            },
            "error_y": {
             "color": "#2a3f5f"
            },
            "marker": {
             "line": {
              "color": "#E5ECF6",
              "width": 0.5
             },
             "pattern": {
              "fillmode": "overlay",
              "size": 10,
              "solidity": 0.2
             }
            },
            "type": "bar"
           }
          ],
          "barpolar": [
           {
            "marker": {
             "line": {
              "color": "#E5ECF6",
              "width": 0.5
             },
             "pattern": {
              "fillmode": "overlay",
              "size": 10,
              "solidity": 0.2
             }
            },
            "type": "barpolar"
           }
          ],
          "carpet": [
           {
            "aaxis": {
             "endlinecolor": "#2a3f5f",
             "gridcolor": "white",
             "linecolor": "white",
             "minorgridcolor": "white",
             "startlinecolor": "#2a3f5f"
            },
            "baxis": {
             "endlinecolor": "#2a3f5f",
             "gridcolor": "white",
             "linecolor": "white",
             "minorgridcolor": "white",
             "startlinecolor": "#2a3f5f"
            },
            "type": "carpet"
           }
          ],
          "choropleth": [
           {
            "colorbar": {
             "outlinewidth": 0,
             "ticks": ""
            },
            "type": "choropleth"
           }
          ],
          "contour": [
           {
            "colorbar": {
             "outlinewidth": 0,
             "ticks": ""
            },
            "colorscale": [
             [
              0,
              "#0d0887"
             ],
             [
              0.1111111111111111,
              "#46039f"
             ],
             [
              0.2222222222222222,
              "#7201a8"
             ],
             [
              0.3333333333333333,
              "#9c179e"
             ],
             [
              0.4444444444444444,
              "#bd3786"
             ],
             [
              0.5555555555555556,
              "#d8576b"
             ],
             [
              0.6666666666666666,
              "#ed7953"
             ],
             [
              0.7777777777777778,
              "#fb9f3a"
             ],
             [
              0.8888888888888888,
              "#fdca26"
             ],
             [
              1,
              "#f0f921"
             ]
            ],
            "type": "contour"
           }
          ],
          "contourcarpet": [
           {
            "colorbar": {
             "outlinewidth": 0,
             "ticks": ""
            },
            "type": "contourcarpet"
           }
          ],
          "heatmap": [
           {
            "colorbar": {
             "outlinewidth": 0,
             "ticks": ""
            },
            "colorscale": [
             [
              0,
              "#0d0887"
             ],
             [
              0.1111111111111111,
              "#46039f"
             ],
             [
              0.2222222222222222,
              "#7201a8"
             ],
             [
              0.3333333333333333,
              "#9c179e"
             ],
             [
              0.4444444444444444,
              "#bd3786"
             ],
             [
              0.5555555555555556,
              "#d8576b"
             ],
             [
              0.6666666666666666,
              "#ed7953"
             ],
             [
              0.7777777777777778,
              "#fb9f3a"
             ],
             [
              0.8888888888888888,
              "#fdca26"
             ],
             [
              1,
              "#f0f921"
             ]
            ],
            "type": "heatmap"
           }
          ],
          "heatmapgl": [
           {
            "colorbar": {
             "outlinewidth": 0,
             "ticks": ""
            },
            "colorscale": [
             [
              0,
              "#0d0887"
             ],
             [
              0.1111111111111111,
              "#46039f"
             ],
             [
              0.2222222222222222,
              "#7201a8"
             ],
             [
              0.3333333333333333,
              "#9c179e"
             ],
             [
              0.4444444444444444,
              "#bd3786"
             ],
             [
              0.5555555555555556,
              "#d8576b"
             ],
             [
              0.6666666666666666,
              "#ed7953"
             ],
             [
              0.7777777777777778,
              "#fb9f3a"
             ],
             [
              0.8888888888888888,
              "#fdca26"
             ],
             [
              1,
              "#f0f921"
             ]
            ],
            "type": "heatmapgl"
           }
          ],
          "histogram": [
           {
            "marker": {
             "pattern": {
              "fillmode": "overlay",
              "size": 10,
              "solidity": 0.2
             }
            },
            "type": "histogram"
           }
          ],
          "histogram2d": [
           {
            "colorbar": {
             "outlinewidth": 0,
             "ticks": ""
            },
            "colorscale": [
             [
              0,
              "#0d0887"
             ],
             [
              0.1111111111111111,
              "#46039f"
             ],
             [
              0.2222222222222222,
              "#7201a8"
             ],
             [
              0.3333333333333333,
              "#9c179e"
             ],
             [
              0.4444444444444444,
              "#bd3786"
             ],
             [
              0.5555555555555556,
              "#d8576b"
             ],
             [
              0.6666666666666666,
              "#ed7953"
             ],
             [
              0.7777777777777778,
              "#fb9f3a"
             ],
             [
              0.8888888888888888,
              "#fdca26"
             ],
             [
              1,
              "#f0f921"
             ]
            ],
            "type": "histogram2d"
           }
          ],
          "histogram2dcontour": [
           {
            "colorbar": {
             "outlinewidth": 0,
             "ticks": ""
            },
            "colorscale": [
             [
              0,
              "#0d0887"
             ],
             [
              0.1111111111111111,
              "#46039f"
             ],
             [
              0.2222222222222222,
              "#7201a8"
             ],
             [
              0.3333333333333333,
              "#9c179e"
             ],
             [
              0.4444444444444444,
              "#bd3786"
             ],
             [
              0.5555555555555556,
              "#d8576b"
             ],
             [
              0.6666666666666666,
              "#ed7953"
             ],
             [
              0.7777777777777778,
              "#fb9f3a"
             ],
             [
              0.8888888888888888,
              "#fdca26"
             ],
             [
              1,
              "#f0f921"
             ]
            ],
            "type": "histogram2dcontour"
           }
          ],
          "mesh3d": [
           {
            "colorbar": {
             "outlinewidth": 0,
             "ticks": ""
            },
            "type": "mesh3d"
           }
          ],
          "parcoords": [
           {
            "line": {
             "colorbar": {
              "outlinewidth": 0,
              "ticks": ""
             }
            },
            "type": "parcoords"
           }
          ],
          "pie": [
           {
            "automargin": true,
            "type": "pie"
           }
          ],
          "scatter": [
           {
            "fillpattern": {
             "fillmode": "overlay",
             "size": 10,
             "solidity": 0.2
            },
            "type": "scatter"
           }
          ],
          "scatter3d": [
           {
            "line": {
             "colorbar": {
              "outlinewidth": 0,
              "ticks": ""
             }
            },
            "marker": {
             "colorbar": {
              "outlinewidth": 0,
              "ticks": ""
             }
            },
            "type": "scatter3d"
           }
          ],
          "scattercarpet": [
           {
            "marker": {
             "colorbar": {
              "outlinewidth": 0,
              "ticks": ""
             }
            },
            "type": "scattercarpet"
           }
          ],
          "scattergeo": [
           {
            "marker": {
             "colorbar": {
              "outlinewidth": 0,
              "ticks": ""
             }
            },
            "type": "scattergeo"
           }
          ],
          "scattergl": [
           {
            "marker": {
             "colorbar": {
              "outlinewidth": 0,
              "ticks": ""
             }
            },
            "type": "scattergl"
           }
          ],
          "scattermapbox": [
           {
            "marker": {
             "colorbar": {
              "outlinewidth": 0,
              "ticks": ""
             }
            },
            "type": "scattermapbox"
           }
          ],
          "scatterpolar": [
           {
            "marker": {
             "colorbar": {
              "outlinewidth": 0,
              "ticks": ""
             }
            },
            "type": "scatterpolar"
           }
          ],
          "scatterpolargl": [
           {
            "marker": {
             "colorbar": {
              "outlinewidth": 0,
              "ticks": ""
             }
            },
            "type": "scatterpolargl"
           }
          ],
          "scatterternary": [
           {
            "marker": {
             "colorbar": {
              "outlinewidth": 0,
              "ticks": ""
             }
            },
            "type": "scatterternary"
           }
          ],
          "surface": [
           {
            "colorbar": {
             "outlinewidth": 0,
             "ticks": ""
            },
            "colorscale": [
             [
              0,
              "#0d0887"
             ],
             [
              0.1111111111111111,
              "#46039f"
             ],
             [
              0.2222222222222222,
              "#7201a8"
             ],
             [
              0.3333333333333333,
              "#9c179e"
             ],
             [
              0.4444444444444444,
              "#bd3786"
             ],
             [
              0.5555555555555556,
              "#d8576b"
             ],
             [
              0.6666666666666666,
              "#ed7953"
             ],
             [
              0.7777777777777778,
              "#fb9f3a"
             ],
             [
              0.8888888888888888,
              "#fdca26"
             ],
             [
              1,
              "#f0f921"
             ]
            ],
            "type": "surface"
           }
          ],
          "table": [
           {
            "cells": {
             "fill": {
              "color": "#EBF0F8"
             },
             "line": {
              "color": "white"
             }
            },
            "header": {
             "fill": {
              "color": "#C8D4E3"
             },
             "line": {
              "color": "white"
             }
            },
            "type": "table"
           }
          ]
         },
         "layout": {
          "annotationdefaults": {
           "arrowcolor": "#2a3f5f",
           "arrowhead": 0,
           "arrowwidth": 1
          },
          "autotypenumbers": "strict",
          "coloraxis": {
           "colorbar": {
            "outlinewidth": 0,
            "ticks": ""
           }
          },
          "colorscale": {
           "diverging": [
            [
             0,
             "#8e0152"
            ],
            [
             0.1,
             "#c51b7d"
            ],
            [
             0.2,
             "#de77ae"
            ],
            [
             0.3,
             "#f1b6da"
            ],
            [
             0.4,
             "#fde0ef"
            ],
            [
             0.5,
             "#f7f7f7"
            ],
            [
             0.6,
             "#e6f5d0"
            ],
            [
             0.7,
             "#b8e186"
            ],
            [
             0.8,
             "#7fbc41"
            ],
            [
             0.9,
             "#4d9221"
            ],
            [
             1,
             "#276419"
            ]
           ],
           "sequential": [
            [
             0,
             "#0d0887"
            ],
            [
             0.1111111111111111,
             "#46039f"
            ],
            [
             0.2222222222222222,
             "#7201a8"
            ],
            [
             0.3333333333333333,
             "#9c179e"
            ],
            [
             0.4444444444444444,
             "#bd3786"
            ],
            [
             0.5555555555555556,
             "#d8576b"
            ],
            [
             0.6666666666666666,
             "#ed7953"
            ],
            [
             0.7777777777777778,
             "#fb9f3a"
            ],
            [
             0.8888888888888888,
             "#fdca26"
            ],
            [
             1,
             "#f0f921"
            ]
           ],
           "sequentialminus": [
            [
             0,
             "#0d0887"
            ],
            [
             0.1111111111111111,
             "#46039f"
            ],
            [
             0.2222222222222222,
             "#7201a8"
            ],
            [
             0.3333333333333333,
             "#9c179e"
            ],
            [
             0.4444444444444444,
             "#bd3786"
            ],
            [
             0.5555555555555556,
             "#d8576b"
            ],
            [
             0.6666666666666666,
             "#ed7953"
            ],
            [
             0.7777777777777778,
             "#fb9f3a"
            ],
            [
             0.8888888888888888,
             "#fdca26"
            ],
            [
             1,
             "#f0f921"
            ]
           ]
          },
          "colorway": [
           "#636efa",
           "#EF553B",
           "#00cc96",
           "#ab63fa",
           "#FFA15A",
           "#19d3f3",
           "#FF6692",
           "#B6E880",
           "#FF97FF",
           "#FECB52"
          ],
          "font": {
           "color": "#2a3f5f"
          },
          "geo": {
           "bgcolor": "white",
           "lakecolor": "white",
           "landcolor": "#E5ECF6",
           "showlakes": true,
           "showland": true,
           "subunitcolor": "white"
          },
          "hoverlabel": {
           "align": "left"
          },
          "hovermode": "closest",
          "mapbox": {
           "style": "light"
          },
          "paper_bgcolor": "white",
          "plot_bgcolor": "#E5ECF6",
          "polar": {
           "angularaxis": {
            "gridcolor": "white",
            "linecolor": "white",
            "ticks": ""
           },
           "bgcolor": "#E5ECF6",
           "radialaxis": {
            "gridcolor": "white",
            "linecolor": "white",
            "ticks": ""
           }
          },
          "scene": {
           "xaxis": {
            "backgroundcolor": "#E5ECF6",
            "gridcolor": "white",
            "gridwidth": 2,
            "linecolor": "white",
            "showbackground": true,
            "ticks": "",
            "zerolinecolor": "white"
           },
           "yaxis": {
            "backgroundcolor": "#E5ECF6",
            "gridcolor": "white",
            "gridwidth": 2,
            "linecolor": "white",
            "showbackground": true,
            "ticks": "",
            "zerolinecolor": "white"
           },
           "zaxis": {
            "backgroundcolor": "#E5ECF6",
            "gridcolor": "white",
            "gridwidth": 2,
            "linecolor": "white",
            "showbackground": true,
            "ticks": "",
            "zerolinecolor": "white"
           }
          },
          "shapedefaults": {
           "line": {
            "color": "#2a3f5f"
           }
          },
          "ternary": {
           "aaxis": {
            "gridcolor": "white",
            "linecolor": "white",
            "ticks": ""
           },
           "baxis": {
            "gridcolor": "white",
            "linecolor": "white",
            "ticks": ""
           },
           "bgcolor": "#E5ECF6",
           "caxis": {
            "gridcolor": "white",
            "linecolor": "white",
            "ticks": ""
           }
          },
          "title": {
           "x": 0.05
          },
          "xaxis": {
           "automargin": true,
           "gridcolor": "white",
           "linecolor": "white",
           "ticks": "",
           "title": {
            "standoff": 15
           },
           "zerolinecolor": "white",
           "zerolinewidth": 2
          },
          "yaxis": {
           "automargin": true,
           "gridcolor": "white",
           "linecolor": "white",
           "ticks": "",
           "title": {
            "standoff": 15
           },
           "zerolinecolor": "white",
           "zerolinewidth": 2
          }
         }
        },
        "xaxis": {
         "anchor": "y",
         "domain": [
          0,
          1
         ],
         "rangeslider": {
          "visible": true
         },
         "title": {
          "text": "date"
         }
        },
        "yaxis": {
         "anchor": "x",
         "domain": [
          0,
          1
         ],
         "title": {
          "text": "tank"
         }
        }
       }
      }
     },
     "metadata": {},
     "output_type": "display_data"
    }
   ],
   "source": [
    "fig = px.bar(df_equipment_daily, x='date', y='tank')\n",
    "fig.update_layout(xaxis_rangeslider_visible=True)\n",
    "fig.show()"
   ]
  },
  {
   "cell_type": "code",
   "execution_count": 63,
   "id": "b8cba13b",
   "metadata": {},
   "outputs": [
    {
     "data": {
      "application/vnd.plotly.v1+json": {
       "config": {
        "plotlyServerURL": "https://plot.ly"
       },
       "data": [
        {
         "hovertemplate": "date=%{x}<br>tank=%{y}<extra></extra>",
         "legendgroup": "",
         "line": {
          "color": "#636efa",
          "dash": "solid"
         },
         "marker": {
          "symbol": "circle"
         },
         "mode": "lines+markers",
         "name": "",
         "orientation": "v",
         "showlegend": false,
         "type": "scatter",
         "x": [
          "2022-02-25T00:00:00",
          "2022-02-26T00:00:00",
          "2022-02-27T00:00:00",
          "2022-02-28T00:00:00",
          "2022-03-01T00:00:00",
          "2022-03-02T00:00:00",
          "2022-03-03T00:00:00",
          "2022-03-04T00:00:00",
          "2022-03-05T00:00:00",
          "2022-03-06T00:00:00",
          "2022-03-07T00:00:00",
          "2022-03-08T00:00:00",
          "2022-03-09T00:00:00",
          "2022-03-10T00:00:00",
          "2022-03-11T00:00:00",
          "2022-03-12T00:00:00",
          "2022-03-13T00:00:00",
          "2022-03-14T00:00:00",
          "2022-03-15T00:00:00",
          "2022-03-16T00:00:00",
          "2022-03-17T00:00:00",
          "2022-03-18T00:00:00",
          "2022-03-19T00:00:00",
          "2022-03-20T00:00:00",
          "2022-03-21T00:00:00",
          "2022-03-22T00:00:00",
          "2022-03-23T00:00:00",
          "2022-03-24T00:00:00",
          "2022-03-25T00:00:00",
          "2022-03-26T00:00:00",
          "2022-03-27T00:00:00",
          "2022-03-28T00:00:00",
          "2022-03-29T00:00:00",
          "2022-03-30T00:00:00",
          "2022-03-31T00:00:00",
          "2022-04-01T00:00:00",
          "2022-04-02T00:00:00",
          "2022-04-03T00:00:00",
          "2022-04-04T00:00:00",
          "2022-04-05T00:00:00",
          "2022-04-06T00:00:00",
          "2022-04-07T00:00:00",
          "2022-04-08T00:00:00",
          "2022-04-09T00:00:00",
          "2022-04-10T00:00:00",
          "2022-04-11T00:00:00",
          "2022-04-12T00:00:00",
          "2022-04-13T00:00:00",
          "2022-04-14T00:00:00",
          "2022-04-15T00:00:00",
          "2022-04-16T00:00:00",
          "2022-04-17T00:00:00",
          "2022-04-18T00:00:00",
          "2022-04-19T00:00:00",
          "2022-04-20T00:00:00",
          "2022-04-21T00:00:00",
          "2022-04-22T00:00:00",
          "2022-04-23T00:00:00",
          "2022-04-24T00:00:00",
          "2022-04-25T00:00:00",
          "2022-04-26T00:00:00",
          "2022-04-27T00:00:00",
          "2022-04-28T00:00:00",
          "2022-04-29T00:00:00",
          "2022-04-30T00:00:00",
          "2022-05-01T00:00:00",
          "2022-05-02T00:00:00",
          "2022-05-03T00:00:00",
          "2022-05-04T00:00:00",
          "2022-05-05T00:00:00",
          "2022-05-06T00:00:00",
          "2022-05-07T00:00:00",
          "2022-05-08T00:00:00",
          "2022-05-09T00:00:00",
          "2022-05-10T00:00:00",
          "2022-05-11T00:00:00",
          "2022-05-12T00:00:00",
          "2022-05-13T00:00:00",
          "2022-05-14T00:00:00",
          "2022-05-15T00:00:00",
          "2022-05-16T00:00:00",
          "2022-05-17T00:00:00",
          "2022-05-18T00:00:00",
          "2022-05-19T00:00:00",
          "2022-05-20T00:00:00",
          "2022-05-21T00:00:00",
          "2022-05-22T00:00:00",
          "2022-05-23T00:00:00",
          "2022-05-24T00:00:00",
          "2022-05-25T00:00:00",
          "2022-05-26T00:00:00",
          "2022-05-27T00:00:00",
          "2022-05-28T00:00:00",
          "2022-05-29T00:00:00",
          "2022-05-30T00:00:00",
          "2022-05-31T00:00:00",
          "2022-06-01T00:00:00",
          "2022-06-02T00:00:00",
          "2022-06-03T00:00:00",
          "2022-06-04T00:00:00",
          "2022-06-05T00:00:00",
          "2022-06-06T00:00:00",
          "2022-06-07T00:00:00",
          "2022-06-08T00:00:00",
          "2022-06-09T00:00:00",
          "2022-06-10T00:00:00",
          "2022-06-11T00:00:00",
          "2022-06-12T00:00:00",
          "2022-06-13T00:00:00",
          "2022-06-14T00:00:00",
          "2022-06-15T00:00:00",
          "2022-06-16T00:00:00",
          "2022-06-17T00:00:00",
          "2022-06-18T00:00:00",
          "2022-06-19T00:00:00",
          "2022-06-20T00:00:00"
         ],
         "xaxis": "x",
         "y": [
          80,
          146,
          150,
          150,
          198,
          211,
          217,
          251,
          269,
          285,
          290,
          303,
          317,
          335,
          353,
          362,
          374,
          389,
          404,
          430,
          444,
          450,
          466,
          476,
          498,
          509,
          517,
          530,
          561,
          575,
          582,
          586,
          597,
          605,
          614,
          625,
          631,
          644,
          647,
          676,
          684,
          698,
          700,
          705,
          722,
          725,
          732,
          739,
          753,
          756,
          762,
          773,
          790,
          802,
          815,
          829,
          838,
          854,
          873,
          884,
          918,
          939,
          970,
          986,
          1008,
          1026,
          1048,
          1062,
          1077,
          1092,
          1110,
          1122,
          1130,
          1145,
          1170,
          1187,
          1195,
          1205,
          1218,
          1220,
          1228,
          1235,
          1251,
          1254,
          1263,
          1278,
          1285,
          1293,
          1302,
          1305,
          1315,
          1322,
          1330,
          1338,
          1349,
          1358,
          1361,
          1363,
          1367,
          1376,
          1381,
          1386,
          1390,
          1393,
          1398,
          1409,
          1419,
          1430,
          1432,
          1434,
          1440,
          1449,
          1456,
          1465,
          1468,
          1477
         ],
         "yaxis": "y"
        }
       ],
       "layout": {
        "legend": {
         "tracegroupgap": 0
        },
        "margin": {
         "t": 60
        },
        "template": {
         "data": {
          "bar": [
           {
            "error_x": {
             "color": "#2a3f5f"
            },
            "error_y": {
             "color": "#2a3f5f"
            },
            "marker": {
             "line": {
              "color": "#E5ECF6",
              "width": 0.5
             },
             "pattern": {
              "fillmode": "overlay",
              "size": 10,
              "solidity": 0.2
             }
            },
            "type": "bar"
           }
          ],
          "barpolar": [
           {
            "marker": {
             "line": {
              "color": "#E5ECF6",
              "width": 0.5
             },
             "pattern": {
              "fillmode": "overlay",
              "size": 10,
              "solidity": 0.2
             }
            },
            "type": "barpolar"
           }
          ],
          "carpet": [
           {
            "aaxis": {
             "endlinecolor": "#2a3f5f",
             "gridcolor": "white",
             "linecolor": "white",
             "minorgridcolor": "white",
             "startlinecolor": "#2a3f5f"
            },
            "baxis": {
             "endlinecolor": "#2a3f5f",
             "gridcolor": "white",
             "linecolor": "white",
             "minorgridcolor": "white",
             "startlinecolor": "#2a3f5f"
            },
            "type": "carpet"
           }
          ],
          "choropleth": [
           {
            "colorbar": {
             "outlinewidth": 0,
             "ticks": ""
            },
            "type": "choropleth"
           }
          ],
          "contour": [
           {
            "colorbar": {
             "outlinewidth": 0,
             "ticks": ""
            },
            "colorscale": [
             [
              0,
              "#0d0887"
             ],
             [
              0.1111111111111111,
              "#46039f"
             ],
             [
              0.2222222222222222,
              "#7201a8"
             ],
             [
              0.3333333333333333,
              "#9c179e"
             ],
             [
              0.4444444444444444,
              "#bd3786"
             ],
             [
              0.5555555555555556,
              "#d8576b"
             ],
             [
              0.6666666666666666,
              "#ed7953"
             ],
             [
              0.7777777777777778,
              "#fb9f3a"
             ],
             [
              0.8888888888888888,
              "#fdca26"
             ],
             [
              1,
              "#f0f921"
             ]
            ],
            "type": "contour"
           }
          ],
          "contourcarpet": [
           {
            "colorbar": {
             "outlinewidth": 0,
             "ticks": ""
            },
            "type": "contourcarpet"
           }
          ],
          "heatmap": [
           {
            "colorbar": {
             "outlinewidth": 0,
             "ticks": ""
            },
            "colorscale": [
             [
              0,
              "#0d0887"
             ],
             [
              0.1111111111111111,
              "#46039f"
             ],
             [
              0.2222222222222222,
              "#7201a8"
             ],
             [
              0.3333333333333333,
              "#9c179e"
             ],
             [
              0.4444444444444444,
              "#bd3786"
             ],
             [
              0.5555555555555556,
              "#d8576b"
             ],
             [
              0.6666666666666666,
              "#ed7953"
             ],
             [
              0.7777777777777778,
              "#fb9f3a"
             ],
             [
              0.8888888888888888,
              "#fdca26"
             ],
             [
              1,
              "#f0f921"
             ]
            ],
            "type": "heatmap"
           }
          ],
          "heatmapgl": [
           {
            "colorbar": {
             "outlinewidth": 0,
             "ticks": ""
            },
            "colorscale": [
             [
              0,
              "#0d0887"
             ],
             [
              0.1111111111111111,
              "#46039f"
             ],
             [
              0.2222222222222222,
              "#7201a8"
             ],
             [
              0.3333333333333333,
              "#9c179e"
             ],
             [
              0.4444444444444444,
              "#bd3786"
             ],
             [
              0.5555555555555556,
              "#d8576b"
             ],
             [
              0.6666666666666666,
              "#ed7953"
             ],
             [
              0.7777777777777778,
              "#fb9f3a"
             ],
             [
              0.8888888888888888,
              "#fdca26"
             ],
             [
              1,
              "#f0f921"
             ]
            ],
            "type": "heatmapgl"
           }
          ],
          "histogram": [
           {
            "marker": {
             "pattern": {
              "fillmode": "overlay",
              "size": 10,
              "solidity": 0.2
             }
            },
            "type": "histogram"
           }
          ],
          "histogram2d": [
           {
            "colorbar": {
             "outlinewidth": 0,
             "ticks": ""
            },
            "colorscale": [
             [
              0,
              "#0d0887"
             ],
             [
              0.1111111111111111,
              "#46039f"
             ],
             [
              0.2222222222222222,
              "#7201a8"
             ],
             [
              0.3333333333333333,
              "#9c179e"
             ],
             [
              0.4444444444444444,
              "#bd3786"
             ],
             [
              0.5555555555555556,
              "#d8576b"
             ],
             [
              0.6666666666666666,
              "#ed7953"
             ],
             [
              0.7777777777777778,
              "#fb9f3a"
             ],
             [
              0.8888888888888888,
              "#fdca26"
             ],
             [
              1,
              "#f0f921"
             ]
            ],
            "type": "histogram2d"
           }
          ],
          "histogram2dcontour": [
           {
            "colorbar": {
             "outlinewidth": 0,
             "ticks": ""
            },
            "colorscale": [
             [
              0,
              "#0d0887"
             ],
             [
              0.1111111111111111,
              "#46039f"
             ],
             [
              0.2222222222222222,
              "#7201a8"
             ],
             [
              0.3333333333333333,
              "#9c179e"
             ],
             [
              0.4444444444444444,
              "#bd3786"
             ],
             [
              0.5555555555555556,
              "#d8576b"
             ],
             [
              0.6666666666666666,
              "#ed7953"
             ],
             [
              0.7777777777777778,
              "#fb9f3a"
             ],
             [
              0.8888888888888888,
              "#fdca26"
             ],
             [
              1,
              "#f0f921"
             ]
            ],
            "type": "histogram2dcontour"
           }
          ],
          "mesh3d": [
           {
            "colorbar": {
             "outlinewidth": 0,
             "ticks": ""
            },
            "type": "mesh3d"
           }
          ],
          "parcoords": [
           {
            "line": {
             "colorbar": {
              "outlinewidth": 0,
              "ticks": ""
             }
            },
            "type": "parcoords"
           }
          ],
          "pie": [
           {
            "automargin": true,
            "type": "pie"
           }
          ],
          "scatter": [
           {
            "fillpattern": {
             "fillmode": "overlay",
             "size": 10,
             "solidity": 0.2
            },
            "type": "scatter"
           }
          ],
          "scatter3d": [
           {
            "line": {
             "colorbar": {
              "outlinewidth": 0,
              "ticks": ""
             }
            },
            "marker": {
             "colorbar": {
              "outlinewidth": 0,
              "ticks": ""
             }
            },
            "type": "scatter3d"
           }
          ],
          "scattercarpet": [
           {
            "marker": {
             "colorbar": {
              "outlinewidth": 0,
              "ticks": ""
             }
            },
            "type": "scattercarpet"
           }
          ],
          "scattergeo": [
           {
            "marker": {
             "colorbar": {
              "outlinewidth": 0,
              "ticks": ""
             }
            },
            "type": "scattergeo"
           }
          ],
          "scattergl": [
           {
            "marker": {
             "colorbar": {
              "outlinewidth": 0,
              "ticks": ""
             }
            },
            "type": "scattergl"
           }
          ],
          "scattermapbox": [
           {
            "marker": {
             "colorbar": {
              "outlinewidth": 0,
              "ticks": ""
             }
            },
            "type": "scattermapbox"
           }
          ],
          "scatterpolar": [
           {
            "marker": {
             "colorbar": {
              "outlinewidth": 0,
              "ticks": ""
             }
            },
            "type": "scatterpolar"
           }
          ],
          "scatterpolargl": [
           {
            "marker": {
             "colorbar": {
              "outlinewidth": 0,
              "ticks": ""
             }
            },
            "type": "scatterpolargl"
           }
          ],
          "scatterternary": [
           {
            "marker": {
             "colorbar": {
              "outlinewidth": 0,
              "ticks": ""
             }
            },
            "type": "scatterternary"
           }
          ],
          "surface": [
           {
            "colorbar": {
             "outlinewidth": 0,
             "ticks": ""
            },
            "colorscale": [
             [
              0,
              "#0d0887"
             ],
             [
              0.1111111111111111,
              "#46039f"
             ],
             [
              0.2222222222222222,
              "#7201a8"
             ],
             [
              0.3333333333333333,
              "#9c179e"
             ],
             [
              0.4444444444444444,
              "#bd3786"
             ],
             [
              0.5555555555555556,
              "#d8576b"
             ],
             [
              0.6666666666666666,
              "#ed7953"
             ],
             [
              0.7777777777777778,
              "#fb9f3a"
             ],
             [
              0.8888888888888888,
              "#fdca26"
             ],
             [
              1,
              "#f0f921"
             ]
            ],
            "type": "surface"
           }
          ],
          "table": [
           {
            "cells": {
             "fill": {
              "color": "#EBF0F8"
             },
             "line": {
              "color": "white"
             }
            },
            "header": {
             "fill": {
              "color": "#C8D4E3"
             },
             "line": {
              "color": "white"
             }
            },
            "type": "table"
           }
          ]
         },
         "layout": {
          "annotationdefaults": {
           "arrowcolor": "#2a3f5f",
           "arrowhead": 0,
           "arrowwidth": 1
          },
          "autotypenumbers": "strict",
          "coloraxis": {
           "colorbar": {
            "outlinewidth": 0,
            "ticks": ""
           }
          },
          "colorscale": {
           "diverging": [
            [
             0,
             "#8e0152"
            ],
            [
             0.1,
             "#c51b7d"
            ],
            [
             0.2,
             "#de77ae"
            ],
            [
             0.3,
             "#f1b6da"
            ],
            [
             0.4,
             "#fde0ef"
            ],
            [
             0.5,
             "#f7f7f7"
            ],
            [
             0.6,
             "#e6f5d0"
            ],
            [
             0.7,
             "#b8e186"
            ],
            [
             0.8,
             "#7fbc41"
            ],
            [
             0.9,
             "#4d9221"
            ],
            [
             1,
             "#276419"
            ]
           ],
           "sequential": [
            [
             0,
             "#0d0887"
            ],
            [
             0.1111111111111111,
             "#46039f"
            ],
            [
             0.2222222222222222,
             "#7201a8"
            ],
            [
             0.3333333333333333,
             "#9c179e"
            ],
            [
             0.4444444444444444,
             "#bd3786"
            ],
            [
             0.5555555555555556,
             "#d8576b"
            ],
            [
             0.6666666666666666,
             "#ed7953"
            ],
            [
             0.7777777777777778,
             "#fb9f3a"
            ],
            [
             0.8888888888888888,
             "#fdca26"
            ],
            [
             1,
             "#f0f921"
            ]
           ],
           "sequentialminus": [
            [
             0,
             "#0d0887"
            ],
            [
             0.1111111111111111,
             "#46039f"
            ],
            [
             0.2222222222222222,
             "#7201a8"
            ],
            [
             0.3333333333333333,
             "#9c179e"
            ],
            [
             0.4444444444444444,
             "#bd3786"
            ],
            [
             0.5555555555555556,
             "#d8576b"
            ],
            [
             0.6666666666666666,
             "#ed7953"
            ],
            [
             0.7777777777777778,
             "#fb9f3a"
            ],
            [
             0.8888888888888888,
             "#fdca26"
            ],
            [
             1,
             "#f0f921"
            ]
           ]
          },
          "colorway": [
           "#636efa",
           "#EF553B",
           "#00cc96",
           "#ab63fa",
           "#FFA15A",
           "#19d3f3",
           "#FF6692",
           "#B6E880",
           "#FF97FF",
           "#FECB52"
          ],
          "font": {
           "color": "#2a3f5f"
          },
          "geo": {
           "bgcolor": "white",
           "lakecolor": "white",
           "landcolor": "#E5ECF6",
           "showlakes": true,
           "showland": true,
           "subunitcolor": "white"
          },
          "hoverlabel": {
           "align": "left"
          },
          "hovermode": "closest",
          "mapbox": {
           "style": "light"
          },
          "paper_bgcolor": "white",
          "plot_bgcolor": "#E5ECF6",
          "polar": {
           "angularaxis": {
            "gridcolor": "white",
            "linecolor": "white",
            "ticks": ""
           },
           "bgcolor": "#E5ECF6",
           "radialaxis": {
            "gridcolor": "white",
            "linecolor": "white",
            "ticks": ""
           }
          },
          "scene": {
           "xaxis": {
            "backgroundcolor": "#E5ECF6",
            "gridcolor": "white",
            "gridwidth": 2,
            "linecolor": "white",
            "showbackground": true,
            "ticks": "",
            "zerolinecolor": "white"
           },
           "yaxis": {
            "backgroundcolor": "#E5ECF6",
            "gridcolor": "white",
            "gridwidth": 2,
            "linecolor": "white",
            "showbackground": true,
            "ticks": "",
            "zerolinecolor": "white"
           },
           "zaxis": {
            "backgroundcolor": "#E5ECF6",
            "gridcolor": "white",
            "gridwidth": 2,
            "linecolor": "white",
            "showbackground": true,
            "ticks": "",
            "zerolinecolor": "white"
           }
          },
          "shapedefaults": {
           "line": {
            "color": "#2a3f5f"
           }
          },
          "ternary": {
           "aaxis": {
            "gridcolor": "white",
            "linecolor": "white",
            "ticks": ""
           },
           "baxis": {
            "gridcolor": "white",
            "linecolor": "white",
            "ticks": ""
           },
           "bgcolor": "#E5ECF6",
           "caxis": {
            "gridcolor": "white",
            "linecolor": "white",
            "ticks": ""
           }
          },
          "title": {
           "x": 0.05
          },
          "xaxis": {
           "automargin": true,
           "gridcolor": "white",
           "linecolor": "white",
           "ticks": "",
           "title": {
            "standoff": 15
           },
           "zerolinecolor": "white",
           "zerolinewidth": 2
          },
          "yaxis": {
           "automargin": true,
           "gridcolor": "white",
           "linecolor": "white",
           "ticks": "",
           "title": {
            "standoff": 15
           },
           "zerolinecolor": "white",
           "zerolinewidth": 2
          }
         }
        },
        "xaxis": {
         "anchor": "y",
         "domain": [
          0,
          1
         ],
         "rangeslider": {
          "visible": true
         },
         "title": {
          "text": "date"
         }
        },
        "yaxis": {
         "anchor": "x",
         "domain": [
          0,
          1
         ],
         "title": {
          "text": "tank"
         }
        }
       }
      }
     },
     "metadata": {},
     "output_type": "display_data"
    }
   ],
   "source": [
    "fig = px.line(df_equipment, x='date', y='tank', markers=True)\n",
    "fig.update_layout(xaxis_rangeslider_visible=True)\n",
    "fig.show()"
   ]
  },
  {
   "cell_type": "code",
   "execution_count": 64,
   "id": "adfd0d17",
   "metadata": {},
   "outputs": [],
   "source": [
    "date_latest = df_equipment_daily.iloc[-1]['date']\n",
    "day_latest = df_equipment_daily.iloc[-1]['day']"
   ]
  },
  {
   "cell_type": "code",
   "execution_count": 65,
   "id": "4bee5464",
   "metadata": {},
   "outputs": [
    {
     "data": {
      "application/vnd.plotly.v1+json": {
       "config": {
        "plotlyServerURL": "https://plot.ly"
       },
       "data": [
        {
         "hovertemplate": "%{x}<br />lost to this date: %{y} <extra></extra>",
         "marker": {
          "color": "#FFA15A"
         },
         "mode": "lines+markers",
         "type": "scatter",
         "x": [
          "2022-02-25T00:00:00",
          "2022-02-26T00:00:00",
          "2022-02-27T00:00:00",
          "2022-02-28T00:00:00",
          "2022-03-01T00:00:00",
          "2022-03-02T00:00:00",
          "2022-03-03T00:00:00",
          "2022-03-04T00:00:00",
          "2022-03-05T00:00:00",
          "2022-03-06T00:00:00",
          "2022-03-07T00:00:00",
          "2022-03-08T00:00:00",
          "2022-03-09T00:00:00",
          "2022-03-10T00:00:00",
          "2022-03-11T00:00:00",
          "2022-03-12T00:00:00",
          "2022-03-13T00:00:00",
          "2022-03-14T00:00:00",
          "2022-03-15T00:00:00",
          "2022-03-16T00:00:00",
          "2022-03-17T00:00:00",
          "2022-03-18T00:00:00",
          "2022-03-19T00:00:00",
          "2022-03-20T00:00:00",
          "2022-03-21T00:00:00",
          "2022-03-22T00:00:00",
          "2022-03-23T00:00:00",
          "2022-03-24T00:00:00",
          "2022-03-25T00:00:00",
          "2022-03-26T00:00:00",
          "2022-03-27T00:00:00",
          "2022-03-28T00:00:00",
          "2022-03-29T00:00:00",
          "2022-03-30T00:00:00",
          "2022-03-31T00:00:00",
          "2022-04-01T00:00:00",
          "2022-04-02T00:00:00",
          "2022-04-03T00:00:00",
          "2022-04-04T00:00:00",
          "2022-04-05T00:00:00",
          "2022-04-06T00:00:00",
          "2022-04-07T00:00:00",
          "2022-04-08T00:00:00",
          "2022-04-09T00:00:00",
          "2022-04-10T00:00:00",
          "2022-04-11T00:00:00",
          "2022-04-12T00:00:00",
          "2022-04-13T00:00:00",
          "2022-04-14T00:00:00",
          "2022-04-15T00:00:00",
          "2022-04-16T00:00:00",
          "2022-04-17T00:00:00",
          "2022-04-18T00:00:00",
          "2022-04-19T00:00:00",
          "2022-04-20T00:00:00",
          "2022-04-21T00:00:00",
          "2022-04-22T00:00:00",
          "2022-04-23T00:00:00",
          "2022-04-24T00:00:00",
          "2022-04-25T00:00:00",
          "2022-04-26T00:00:00",
          "2022-04-27T00:00:00",
          "2022-04-28T00:00:00",
          "2022-04-29T00:00:00",
          "2022-04-30T00:00:00",
          "2022-05-01T00:00:00",
          "2022-05-02T00:00:00",
          "2022-05-03T00:00:00",
          "2022-05-04T00:00:00",
          "2022-05-05T00:00:00",
          "2022-05-06T00:00:00",
          "2022-05-07T00:00:00",
          "2022-05-08T00:00:00",
          "2022-05-09T00:00:00",
          "2022-05-10T00:00:00",
          "2022-05-11T00:00:00",
          "2022-05-12T00:00:00",
          "2022-05-13T00:00:00",
          "2022-05-14T00:00:00",
          "2022-05-15T00:00:00",
          "2022-05-16T00:00:00",
          "2022-05-17T00:00:00",
          "2022-05-18T00:00:00",
          "2022-05-19T00:00:00",
          "2022-05-20T00:00:00",
          "2022-05-21T00:00:00",
          "2022-05-22T00:00:00",
          "2022-05-23T00:00:00",
          "2022-05-24T00:00:00",
          "2022-05-25T00:00:00",
          "2022-05-26T00:00:00",
          "2022-05-27T00:00:00",
          "2022-05-28T00:00:00",
          "2022-05-29T00:00:00",
          "2022-05-30T00:00:00",
          "2022-05-31T00:00:00",
          "2022-06-01T00:00:00",
          "2022-06-02T00:00:00",
          "2022-06-03T00:00:00",
          "2022-06-04T00:00:00",
          "2022-06-05T00:00:00",
          "2022-06-06T00:00:00",
          "2022-06-07T00:00:00",
          "2022-06-08T00:00:00",
          "2022-06-09T00:00:00",
          "2022-06-10T00:00:00",
          "2022-06-11T00:00:00",
          "2022-06-12T00:00:00",
          "2022-06-13T00:00:00",
          "2022-06-14T00:00:00",
          "2022-06-15T00:00:00",
          "2022-06-16T00:00:00",
          "2022-06-17T00:00:00",
          "2022-06-18T00:00:00",
          "2022-06-19T00:00:00",
          "2022-06-20T00:00:00"
         ],
         "xaxis": "x",
         "y": [
          80,
          146,
          150,
          150,
          198,
          211,
          217,
          251,
          269,
          285,
          290,
          303,
          317,
          335,
          353,
          362,
          374,
          389,
          404,
          430,
          444,
          450,
          466,
          476,
          498,
          509,
          517,
          530,
          561,
          575,
          582,
          586,
          597,
          605,
          614,
          625,
          631,
          644,
          647,
          676,
          684,
          698,
          700,
          705,
          722,
          725,
          732,
          739,
          753,
          756,
          762,
          773,
          790,
          802,
          815,
          829,
          838,
          854,
          873,
          884,
          918,
          939,
          970,
          986,
          1008,
          1026,
          1048,
          1062,
          1077,
          1092,
          1110,
          1122,
          1130,
          1145,
          1170,
          1187,
          1195,
          1205,
          1218,
          1220,
          1228,
          1235,
          1251,
          1254,
          1263,
          1278,
          1285,
          1293,
          1302,
          1305,
          1315,
          1322,
          1330,
          1338,
          1349,
          1358,
          1361,
          1363,
          1367,
          1376,
          1381,
          1386,
          1390,
          1393,
          1398,
          1409,
          1419,
          1430,
          1432,
          1434,
          1440,
          1449,
          1456,
          1465,
          1468,
          1477
         ],
         "yaxis": "y"
        },
        {
         "hovertemplate": "%{x}<br />lost: %{y} <extra></extra>",
         "marker": {
          "color": "#FFA15A"
         },
         "text": [
          80,
          66,
          4,
          0,
          48,
          13,
          6,
          34,
          18,
          16,
          5,
          13,
          14,
          18,
          18,
          9,
          12,
          15,
          15,
          26,
          14,
          6,
          16,
          10,
          22,
          11,
          8,
          13,
          31,
          14,
          7,
          4,
          11,
          8,
          9,
          11,
          6,
          13,
          3,
          29,
          8,
          14,
          2,
          5,
          17,
          3,
          7,
          7,
          14,
          3,
          6,
          11,
          17,
          12,
          13,
          14,
          9,
          16,
          19,
          11,
          34,
          21,
          31,
          16,
          22,
          18,
          22,
          14,
          15,
          15,
          18,
          12,
          8,
          15,
          25,
          17,
          8,
          10,
          13,
          2,
          8,
          7,
          16,
          3,
          9,
          15,
          7,
          8,
          9,
          3,
          10,
          7,
          8,
          8,
          11,
          9,
          3,
          2,
          4,
          9,
          5,
          5,
          4,
          3,
          5,
          11,
          10,
          11,
          2,
          2,
          6,
          9,
          7,
          9,
          3,
          9
         ],
         "type": "bar",
         "x": [
          "2022-02-25T00:00:00",
          "2022-02-26T00:00:00",
          "2022-02-27T00:00:00",
          "2022-02-28T00:00:00",
          "2022-03-01T00:00:00",
          "2022-03-02T00:00:00",
          "2022-03-03T00:00:00",
          "2022-03-04T00:00:00",
          "2022-03-05T00:00:00",
          "2022-03-06T00:00:00",
          "2022-03-07T00:00:00",
          "2022-03-08T00:00:00",
          "2022-03-09T00:00:00",
          "2022-03-10T00:00:00",
          "2022-03-11T00:00:00",
          "2022-03-12T00:00:00",
          "2022-03-13T00:00:00",
          "2022-03-14T00:00:00",
          "2022-03-15T00:00:00",
          "2022-03-16T00:00:00",
          "2022-03-17T00:00:00",
          "2022-03-18T00:00:00",
          "2022-03-19T00:00:00",
          "2022-03-20T00:00:00",
          "2022-03-21T00:00:00",
          "2022-03-22T00:00:00",
          "2022-03-23T00:00:00",
          "2022-03-24T00:00:00",
          "2022-03-25T00:00:00",
          "2022-03-26T00:00:00",
          "2022-03-27T00:00:00",
          "2022-03-28T00:00:00",
          "2022-03-29T00:00:00",
          "2022-03-30T00:00:00",
          "2022-03-31T00:00:00",
          "2022-04-01T00:00:00",
          "2022-04-02T00:00:00",
          "2022-04-03T00:00:00",
          "2022-04-04T00:00:00",
          "2022-04-05T00:00:00",
          "2022-04-06T00:00:00",
          "2022-04-07T00:00:00",
          "2022-04-08T00:00:00",
          "2022-04-09T00:00:00",
          "2022-04-10T00:00:00",
          "2022-04-11T00:00:00",
          "2022-04-12T00:00:00",
          "2022-04-13T00:00:00",
          "2022-04-14T00:00:00",
          "2022-04-15T00:00:00",
          "2022-04-16T00:00:00",
          "2022-04-17T00:00:00",
          "2022-04-18T00:00:00",
          "2022-04-19T00:00:00",
          "2022-04-20T00:00:00",
          "2022-04-21T00:00:00",
          "2022-04-22T00:00:00",
          "2022-04-23T00:00:00",
          "2022-04-24T00:00:00",
          "2022-04-25T00:00:00",
          "2022-04-26T00:00:00",
          "2022-04-27T00:00:00",
          "2022-04-28T00:00:00",
          "2022-04-29T00:00:00",
          "2022-04-30T00:00:00",
          "2022-05-01T00:00:00",
          "2022-05-02T00:00:00",
          "2022-05-03T00:00:00",
          "2022-05-04T00:00:00",
          "2022-05-05T00:00:00",
          "2022-05-06T00:00:00",
          "2022-05-07T00:00:00",
          "2022-05-08T00:00:00",
          "2022-05-09T00:00:00",
          "2022-05-10T00:00:00",
          "2022-05-11T00:00:00",
          "2022-05-12T00:00:00",
          "2022-05-13T00:00:00",
          "2022-05-14T00:00:00",
          "2022-05-15T00:00:00",
          "2022-05-16T00:00:00",
          "2022-05-17T00:00:00",
          "2022-05-18T00:00:00",
          "2022-05-19T00:00:00",
          "2022-05-20T00:00:00",
          "2022-05-21T00:00:00",
          "2022-05-22T00:00:00",
          "2022-05-23T00:00:00",
          "2022-05-24T00:00:00",
          "2022-05-25T00:00:00",
          "2022-05-26T00:00:00",
          "2022-05-27T00:00:00",
          "2022-05-28T00:00:00",
          "2022-05-29T00:00:00",
          "2022-05-30T00:00:00",
          "2022-05-31T00:00:00",
          "2022-06-01T00:00:00",
          "2022-06-02T00:00:00",
          "2022-06-03T00:00:00",
          "2022-06-04T00:00:00",
          "2022-06-05T00:00:00",
          "2022-06-06T00:00:00",
          "2022-06-07T00:00:00",
          "2022-06-08T00:00:00",
          "2022-06-09T00:00:00",
          "2022-06-10T00:00:00",
          "2022-06-11T00:00:00",
          "2022-06-12T00:00:00",
          "2022-06-13T00:00:00",
          "2022-06-14T00:00:00",
          "2022-06-15T00:00:00",
          "2022-06-16T00:00:00",
          "2022-06-17T00:00:00",
          "2022-06-18T00:00:00",
          "2022-06-19T00:00:00",
          "2022-06-20T00:00:00"
         ],
         "xaxis": "x2",
         "y": [
          80,
          66,
          4,
          0,
          48,
          13,
          6,
          34,
          18,
          16,
          5,
          13,
          14,
          18,
          18,
          9,
          12,
          15,
          15,
          26,
          14,
          6,
          16,
          10,
          22,
          11,
          8,
          13,
          31,
          14,
          7,
          4,
          11,
          8,
          9,
          11,
          6,
          13,
          3,
          29,
          8,
          14,
          2,
          5,
          17,
          3,
          7,
          7,
          14,
          3,
          6,
          11,
          17,
          12,
          13,
          14,
          9,
          16,
          19,
          11,
          34,
          21,
          31,
          16,
          22,
          18,
          22,
          14,
          15,
          15,
          18,
          12,
          8,
          15,
          25,
          17,
          8,
          10,
          13,
          2,
          8,
          7,
          16,
          3,
          9,
          15,
          7,
          8,
          9,
          3,
          10,
          7,
          8,
          8,
          11,
          9,
          3,
          2,
          4,
          9,
          5,
          5,
          4,
          3,
          5,
          11,
          10,
          11,
          2,
          2,
          6,
          9,
          7,
          9,
          3,
          9
         ],
         "yaxis": "y2"
        }
       ],
       "layout": {
        "annotations": [
         {
          "font": {
           "size": 16
          },
          "showarrow": false,
          "text": "Total losses",
          "x": 0.5,
          "xanchor": "center",
          "xref": "paper",
          "y": 1,
          "yanchor": "bottom",
          "yref": "paper"
         },
         {
          "font": {
           "size": 16
          },
          "showarrow": false,
          "text": "Daily losses",
          "x": 0.5,
          "xanchor": "center",
          "xref": "paper",
          "y": 0.45,
          "yanchor": "bottom",
          "yref": "paper"
         },
         {
          "font": {
           "size": 15
          },
          "showarrow": false,
          "text": "*Use slider above to slice by date",
          "x": 0.05,
          "xref": "paper",
          "y": -0.2,
          "yref": "paper"
         }
        ],
        "height": 850,
        "showlegend": false,
        "template": {
         "data": {
          "bar": [
           {
            "error_x": {
             "color": "#2a3f5f"
            },
            "error_y": {
             "color": "#2a3f5f"
            },
            "marker": {
             "line": {
              "color": "#E5ECF6",
              "width": 0.5
             },
             "pattern": {
              "fillmode": "overlay",
              "size": 10,
              "solidity": 0.2
             }
            },
            "type": "bar"
           }
          ],
          "barpolar": [
           {
            "marker": {
             "line": {
              "color": "#E5ECF6",
              "width": 0.5
             },
             "pattern": {
              "fillmode": "overlay",
              "size": 10,
              "solidity": 0.2
             }
            },
            "type": "barpolar"
           }
          ],
          "carpet": [
           {
            "aaxis": {
             "endlinecolor": "#2a3f5f",
             "gridcolor": "white",
             "linecolor": "white",
             "minorgridcolor": "white",
             "startlinecolor": "#2a3f5f"
            },
            "baxis": {
             "endlinecolor": "#2a3f5f",
             "gridcolor": "white",
             "linecolor": "white",
             "minorgridcolor": "white",
             "startlinecolor": "#2a3f5f"
            },
            "type": "carpet"
           }
          ],
          "choropleth": [
           {
            "colorbar": {
             "outlinewidth": 0,
             "ticks": ""
            },
            "type": "choropleth"
           }
          ],
          "contour": [
           {
            "colorbar": {
             "outlinewidth": 0,
             "ticks": ""
            },
            "colorscale": [
             [
              0,
              "#0d0887"
             ],
             [
              0.1111111111111111,
              "#46039f"
             ],
             [
              0.2222222222222222,
              "#7201a8"
             ],
             [
              0.3333333333333333,
              "#9c179e"
             ],
             [
              0.4444444444444444,
              "#bd3786"
             ],
             [
              0.5555555555555556,
              "#d8576b"
             ],
             [
              0.6666666666666666,
              "#ed7953"
             ],
             [
              0.7777777777777778,
              "#fb9f3a"
             ],
             [
              0.8888888888888888,
              "#fdca26"
             ],
             [
              1,
              "#f0f921"
             ]
            ],
            "type": "contour"
           }
          ],
          "contourcarpet": [
           {
            "colorbar": {
             "outlinewidth": 0,
             "ticks": ""
            },
            "type": "contourcarpet"
           }
          ],
          "heatmap": [
           {
            "colorbar": {
             "outlinewidth": 0,
             "ticks": ""
            },
            "colorscale": [
             [
              0,
              "#0d0887"
             ],
             [
              0.1111111111111111,
              "#46039f"
             ],
             [
              0.2222222222222222,
              "#7201a8"
             ],
             [
              0.3333333333333333,
              "#9c179e"
             ],
             [
              0.4444444444444444,
              "#bd3786"
             ],
             [
              0.5555555555555556,
              "#d8576b"
             ],
             [
              0.6666666666666666,
              "#ed7953"
             ],
             [
              0.7777777777777778,
              "#fb9f3a"
             ],
             [
              0.8888888888888888,
              "#fdca26"
             ],
             [
              1,
              "#f0f921"
             ]
            ],
            "type": "heatmap"
           }
          ],
          "heatmapgl": [
           {
            "colorbar": {
             "outlinewidth": 0,
             "ticks": ""
            },
            "colorscale": [
             [
              0,
              "#0d0887"
             ],
             [
              0.1111111111111111,
              "#46039f"
             ],
             [
              0.2222222222222222,
              "#7201a8"
             ],
             [
              0.3333333333333333,
              "#9c179e"
             ],
             [
              0.4444444444444444,
              "#bd3786"
             ],
             [
              0.5555555555555556,
              "#d8576b"
             ],
             [
              0.6666666666666666,
              "#ed7953"
             ],
             [
              0.7777777777777778,
              "#fb9f3a"
             ],
             [
              0.8888888888888888,
              "#fdca26"
             ],
             [
              1,
              "#f0f921"
             ]
            ],
            "type": "heatmapgl"
           }
          ],
          "histogram": [
           {
            "marker": {
             "pattern": {
              "fillmode": "overlay",
              "size": 10,
              "solidity": 0.2
             }
            },
            "type": "histogram"
           }
          ],
          "histogram2d": [
           {
            "colorbar": {
             "outlinewidth": 0,
             "ticks": ""
            },
            "colorscale": [
             [
              0,
              "#0d0887"
             ],
             [
              0.1111111111111111,
              "#46039f"
             ],
             [
              0.2222222222222222,
              "#7201a8"
             ],
             [
              0.3333333333333333,
              "#9c179e"
             ],
             [
              0.4444444444444444,
              "#bd3786"
             ],
             [
              0.5555555555555556,
              "#d8576b"
             ],
             [
              0.6666666666666666,
              "#ed7953"
             ],
             [
              0.7777777777777778,
              "#fb9f3a"
             ],
             [
              0.8888888888888888,
              "#fdca26"
             ],
             [
              1,
              "#f0f921"
             ]
            ],
            "type": "histogram2d"
           }
          ],
          "histogram2dcontour": [
           {
            "colorbar": {
             "outlinewidth": 0,
             "ticks": ""
            },
            "colorscale": [
             [
              0,
              "#0d0887"
             ],
             [
              0.1111111111111111,
              "#46039f"
             ],
             [
              0.2222222222222222,
              "#7201a8"
             ],
             [
              0.3333333333333333,
              "#9c179e"
             ],
             [
              0.4444444444444444,
              "#bd3786"
             ],
             [
              0.5555555555555556,
              "#d8576b"
             ],
             [
              0.6666666666666666,
              "#ed7953"
             ],
             [
              0.7777777777777778,
              "#fb9f3a"
             ],
             [
              0.8888888888888888,
              "#fdca26"
             ],
             [
              1,
              "#f0f921"
             ]
            ],
            "type": "histogram2dcontour"
           }
          ],
          "mesh3d": [
           {
            "colorbar": {
             "outlinewidth": 0,
             "ticks": ""
            },
            "type": "mesh3d"
           }
          ],
          "parcoords": [
           {
            "line": {
             "colorbar": {
              "outlinewidth": 0,
              "ticks": ""
             }
            },
            "type": "parcoords"
           }
          ],
          "pie": [
           {
            "automargin": true,
            "type": "pie"
           }
          ],
          "scatter": [
           {
            "fillpattern": {
             "fillmode": "overlay",
             "size": 10,
             "solidity": 0.2
            },
            "type": "scatter"
           }
          ],
          "scatter3d": [
           {
            "line": {
             "colorbar": {
              "outlinewidth": 0,
              "ticks": ""
             }
            },
            "marker": {
             "colorbar": {
              "outlinewidth": 0,
              "ticks": ""
             }
            },
            "type": "scatter3d"
           }
          ],
          "scattercarpet": [
           {
            "marker": {
             "colorbar": {
              "outlinewidth": 0,
              "ticks": ""
             }
            },
            "type": "scattercarpet"
           }
          ],
          "scattergeo": [
           {
            "marker": {
             "colorbar": {
              "outlinewidth": 0,
              "ticks": ""
             }
            },
            "type": "scattergeo"
           }
          ],
          "scattergl": [
           {
            "marker": {
             "colorbar": {
              "outlinewidth": 0,
              "ticks": ""
             }
            },
            "type": "scattergl"
           }
          ],
          "scattermapbox": [
           {
            "marker": {
             "colorbar": {
              "outlinewidth": 0,
              "ticks": ""
             }
            },
            "type": "scattermapbox"
           }
          ],
          "scatterpolar": [
           {
            "marker": {
             "colorbar": {
              "outlinewidth": 0,
              "ticks": ""
             }
            },
            "type": "scatterpolar"
           }
          ],
          "scatterpolargl": [
           {
            "marker": {
             "colorbar": {
              "outlinewidth": 0,
              "ticks": ""
             }
            },
            "type": "scatterpolargl"
           }
          ],
          "scatterternary": [
           {
            "marker": {
             "colorbar": {
              "outlinewidth": 0,
              "ticks": ""
             }
            },
            "type": "scatterternary"
           }
          ],
          "surface": [
           {
            "colorbar": {
             "outlinewidth": 0,
             "ticks": ""
            },
            "colorscale": [
             [
              0,
              "#0d0887"
             ],
             [
              0.1111111111111111,
              "#46039f"
             ],
             [
              0.2222222222222222,
              "#7201a8"
             ],
             [
              0.3333333333333333,
              "#9c179e"
             ],
             [
              0.4444444444444444,
              "#bd3786"
             ],
             [
              0.5555555555555556,
              "#d8576b"
             ],
             [
              0.6666666666666666,
              "#ed7953"
             ],
             [
              0.7777777777777778,
              "#fb9f3a"
             ],
             [
              0.8888888888888888,
              "#fdca26"
             ],
             [
              1,
              "#f0f921"
             ]
            ],
            "type": "surface"
           }
          ],
          "table": [
           {
            "cells": {
             "fill": {
              "color": "#EBF0F8"
             },
             "line": {
              "color": "white"
             }
            },
            "header": {
             "fill": {
              "color": "#C8D4E3"
             },
             "line": {
              "color": "white"
             }
            },
            "type": "table"
           }
          ]
         },
         "layout": {
          "annotationdefaults": {
           "arrowcolor": "#2a3f5f",
           "arrowhead": 0,
           "arrowwidth": 1
          },
          "autotypenumbers": "strict",
          "coloraxis": {
           "colorbar": {
            "outlinewidth": 0,
            "ticks": ""
           }
          },
          "colorscale": {
           "diverging": [
            [
             0,
             "#8e0152"
            ],
            [
             0.1,
             "#c51b7d"
            ],
            [
             0.2,
             "#de77ae"
            ],
            [
             0.3,
             "#f1b6da"
            ],
            [
             0.4,
             "#fde0ef"
            ],
            [
             0.5,
             "#f7f7f7"
            ],
            [
             0.6,
             "#e6f5d0"
            ],
            [
             0.7,
             "#b8e186"
            ],
            [
             0.8,
             "#7fbc41"
            ],
            [
             0.9,
             "#4d9221"
            ],
            [
             1,
             "#276419"
            ]
           ],
           "sequential": [
            [
             0,
             "#0d0887"
            ],
            [
             0.1111111111111111,
             "#46039f"
            ],
            [
             0.2222222222222222,
             "#7201a8"
            ],
            [
             0.3333333333333333,
             "#9c179e"
            ],
            [
             0.4444444444444444,
             "#bd3786"
            ],
            [
             0.5555555555555556,
             "#d8576b"
            ],
            [
             0.6666666666666666,
             "#ed7953"
            ],
            [
             0.7777777777777778,
             "#fb9f3a"
            ],
            [
             0.8888888888888888,
             "#fdca26"
            ],
            [
             1,
             "#f0f921"
            ]
           ],
           "sequentialminus": [
            [
             0,
             "#0d0887"
            ],
            [
             0.1111111111111111,
             "#46039f"
            ],
            [
             0.2222222222222222,
             "#7201a8"
            ],
            [
             0.3333333333333333,
             "#9c179e"
            ],
            [
             0.4444444444444444,
             "#bd3786"
            ],
            [
             0.5555555555555556,
             "#d8576b"
            ],
            [
             0.6666666666666666,
             "#ed7953"
            ],
            [
             0.7777777777777778,
             "#fb9f3a"
            ],
            [
             0.8888888888888888,
             "#fdca26"
            ],
            [
             1,
             "#f0f921"
            ]
           ]
          },
          "colorway": [
           "#636efa",
           "#EF553B",
           "#00cc96",
           "#ab63fa",
           "#FFA15A",
           "#19d3f3",
           "#FF6692",
           "#B6E880",
           "#FF97FF",
           "#FECB52"
          ],
          "font": {
           "color": "#2a3f5f"
          },
          "geo": {
           "bgcolor": "white",
           "lakecolor": "white",
           "landcolor": "#E5ECF6",
           "showlakes": true,
           "showland": true,
           "subunitcolor": "white"
          },
          "hoverlabel": {
           "align": "left"
          },
          "hovermode": "closest",
          "mapbox": {
           "style": "light"
          },
          "paper_bgcolor": "white",
          "plot_bgcolor": "#E5ECF6",
          "polar": {
           "angularaxis": {
            "gridcolor": "white",
            "linecolor": "white",
            "ticks": ""
           },
           "bgcolor": "#E5ECF6",
           "radialaxis": {
            "gridcolor": "white",
            "linecolor": "white",
            "ticks": ""
           }
          },
          "scene": {
           "xaxis": {
            "backgroundcolor": "#E5ECF6",
            "gridcolor": "white",
            "gridwidth": 2,
            "linecolor": "white",
            "showbackground": true,
            "ticks": "",
            "zerolinecolor": "white"
           },
           "yaxis": {
            "backgroundcolor": "#E5ECF6",
            "gridcolor": "white",
            "gridwidth": 2,
            "linecolor": "white",
            "showbackground": true,
            "ticks": "",
            "zerolinecolor": "white"
           },
           "zaxis": {
            "backgroundcolor": "#E5ECF6",
            "gridcolor": "white",
            "gridwidth": 2,
            "linecolor": "white",
            "showbackground": true,
            "ticks": "",
            "zerolinecolor": "white"
           }
          },
          "shapedefaults": {
           "line": {
            "color": "#2a3f5f"
           }
          },
          "ternary": {
           "aaxis": {
            "gridcolor": "white",
            "linecolor": "white",
            "ticks": ""
           },
           "baxis": {
            "gridcolor": "white",
            "linecolor": "white",
            "ticks": ""
           },
           "bgcolor": "#E5ECF6",
           "caxis": {
            "gridcolor": "white",
            "linecolor": "white",
            "ticks": ""
           }
          },
          "title": {
           "x": 0.05
          },
          "xaxis": {
           "automargin": true,
           "gridcolor": "white",
           "linecolor": "white",
           "ticks": "",
           "title": {
            "standoff": 15
           },
           "zerolinecolor": "white",
           "zerolinewidth": 2
          },
          "yaxis": {
           "automargin": true,
           "gridcolor": "white",
           "linecolor": "white",
           "ticks": "",
           "title": {
            "standoff": 15
           },
           "zerolinecolor": "white",
           "zerolinewidth": 2
          }
         }
        },
        "xaxis": {
         "anchor": "y",
         "domain": [
          0,
          1
         ],
         "matches": "x",
         "rangeselector": {
          "bgcolor": "#FFA15A",
          "buttons": [
           {
            "count": 37,
            "label": "last month",
            "step": "day",
            "stepmode": "backward"
           },
           {
            "count": 13,
            "label": "last week",
            "step": "day",
            "stepmode": "backward"
           },
           {
            "label": "all time",
            "step": "all"
           }
          ]
         },
         "showticklabels": false
        },
        "xaxis2": {
         "anchor": "y2",
         "domain": [
          0,
          1
         ],
         "matches": "x",
         "rangeslider": {
          "thickness": 0.05,
          "visible": true
         },
         "type": "date"
        },
        "yaxis": {
         "anchor": "x",
         "domain": [
          0.55,
          1
         ]
        },
        "yaxis2": {
         "anchor": "x2",
         "domain": [
          0,
          0.45
         ]
        }
       }
      }
     },
     "metadata": {},
     "output_type": "display_data"
    }
   ],
   "source": [
    "fig = make_subplots(2, 1, subplot_titles=['Total losses', 'Daily losses'], shared_xaxes=True, vertical_spacing = 0.1)\n",
    "fig.add_trace(\n",
    "    go.Scatter(\n",
    "        x=df_equipment['date'],\n",
    "        y=df_equipment['tank'],\n",
    "        mode='lines+markers',\n",
    "        hovertemplate='%{x}<br />lost to this date: %{y} <extra></extra>',\n",
    "        marker_color=clrs.qualitative.Plotly[4]\n",
    "        \n",
    "    ),\n",
    "    row=1, \n",
    "    col=1\n",
    ")\n",
    "fig.add_trace(\n",
    "    go.Bar(\n",
    "        x=df_equipment_daily['date'], \n",
    "        y=df_equipment_daily['tank'],\n",
    "        marker_color=clrs.qualitative.Plotly[4],\n",
    "        hovertemplate='%{x}<br />lost: %{y} <extra></extra>',\n",
    "        text=df_equipment_daily['tank']\n",
    "    ),\n",
    "    row=2,\n",
    "    col=1\n",
    ")\n",
    "fig.add_annotation(\n",
    "text='*Use slider above to slice by date',\n",
    "xref='paper',\n",
    "yref='paper',\n",
    "x=0.05,\n",
    "y=-0.2,\n",
    "font=dict(\n",
    "    size=15\n",
    "),\n",
    "showarrow=False,    \n",
    ")\n",
    "fig.update_layout(\n",
    "    xaxis=dict(\n",
    "        rangeselector=dict(\n",
    "            buttons=list([\n",
    "                dict(count=37, label='last month', step='day', stepmode='backward'),\n",
    "                dict(count=13, label='last week', step='day', stepmode='backward'),\n",
    "                dict(label='all time', step='all')\n",
    "            ]),\n",
    "            bgcolor=clrs.qualitative.Plotly[4]\n",
    "        )\n",
    "    ),\n",
    "    xaxis2_rangeslider_visible=True,\n",
    "    xaxis2_rangeslider_thickness=0.05,\n",
    "    xaxis2_type='date',\n",
    "    showlegend=False,\n",
    "    height=850         \n",
    ")\n",
    "fig.update_xaxes(matches='x')\n",
    "fig.show()"
   ]
  },
  {
   "cell_type": "code",
   "execution_count": 66,
   "id": "3b3eb287",
   "metadata": {},
   "outputs": [
    {
     "data": {
      "application/vnd.plotly.v1+json": {
       "config": {
        "plotlyServerURL": "https://plot.ly"
       },
       "data": [
        {
         "customdata": [
          0,
          1,
          2,
          3,
          4,
          5,
          6,
          7,
          8,
          9,
          10
         ],
         "hovertemplate": "%{y}[%{customdata}] = %{marker.color}<extra></extra>",
         "marker": {
          "color": [
           "rgb(229, 134, 6)",
           "rgb(93, 105, 177)",
           "rgb(82, 188, 163)",
           "rgb(153, 201, 69)",
           "rgb(204, 97, 176)",
           "rgb(36, 121, 108)",
           "rgb(218, 165, 27)",
           "rgb(47, 138, 196)",
           "rgb(118, 78, 159)",
           "rgb(237, 100, 90)",
           "rgb(165, 170, 153)"
          ]
         },
         "orientation": "h",
         "type": "bar",
         "x": [
          1,
          1,
          1,
          1,
          1,
          1,
          1,
          1,
          1,
          1,
          1
         ],
         "y": [
          "Vivid",
          "Vivid",
          "Vivid",
          "Vivid",
          "Vivid",
          "Vivid",
          "Vivid",
          "Vivid",
          "Vivid",
          "Vivid",
          "Vivid"
         ]
        },
        {
         "customdata": [
          0,
          1,
          2,
          3,
          4,
          5,
          6,
          7,
          8,
          9,
          10
         ],
         "hovertemplate": "%{y}[%{customdata}] = %{marker.color}<extra></extra>",
         "marker": {
          "color": [
           "rgb(136, 204, 238)",
           "rgb(204, 102, 119)",
           "rgb(221, 204, 119)",
           "rgb(17, 119, 51)",
           "rgb(51, 34, 136)",
           "rgb(170, 68, 153)",
           "rgb(68, 170, 153)",
           "rgb(153, 153, 51)",
           "rgb(136, 34, 85)",
           "rgb(102, 17, 0)",
           "rgb(136, 136, 136)"
          ]
         },
         "orientation": "h",
         "type": "bar",
         "x": [
          1,
          1,
          1,
          1,
          1,
          1,
          1,
          1,
          1,
          1,
          1
         ],
         "y": [
          "Safe",
          "Safe",
          "Safe",
          "Safe",
          "Safe",
          "Safe",
          "Safe",
          "Safe",
          "Safe",
          "Safe",
          "Safe"
         ]
        },
        {
         "customdata": [
          0,
          1,
          2,
          3,
          4,
          5,
          6,
          7,
          8,
          9,
          10
         ],
         "hovertemplate": "%{y}[%{customdata}] = %{marker.color}<extra></extra>",
         "marker": {
          "color": [
           "rgb(95, 70, 144)",
           "rgb(29, 105, 150)",
           "rgb(56, 166, 165)",
           "rgb(15, 133, 84)",
           "rgb(115, 175, 72)",
           "rgb(237, 173, 8)",
           "rgb(225, 124, 5)",
           "rgb(204, 80, 62)",
           "rgb(148, 52, 110)",
           "rgb(111, 64, 112)",
           "rgb(102, 102, 102)"
          ]
         },
         "orientation": "h",
         "type": "bar",
         "x": [
          1,
          1,
          1,
          1,
          1,
          1,
          1,
          1,
          1,
          1,
          1
         ],
         "y": [
          "Prism",
          "Prism",
          "Prism",
          "Prism",
          "Prism",
          "Prism",
          "Prism",
          "Prism",
          "Prism",
          "Prism",
          "Prism"
         ]
        },
        {
         "customdata": [
          0,
          1,
          2,
          3,
          4,
          5,
          6,
          7,
          8,
          9,
          10
         ],
         "hovertemplate": "%{y}[%{customdata}] = %{marker.color}<extra></extra>",
         "marker": {
          "color": [
           "rgb(102, 197, 204)",
           "rgb(246, 207, 113)",
           "rgb(248, 156, 116)",
           "rgb(220, 176, 242)",
           "rgb(135, 197, 95)",
           "rgb(158, 185, 243)",
           "rgb(254, 136, 177)",
           "rgb(201, 219, 116)",
           "rgb(139, 224, 164)",
           "rgb(180, 151, 231)",
           "rgb(179, 179, 179)"
          ]
         },
         "orientation": "h",
         "type": "bar",
         "x": [
          1,
          1,
          1,
          1,
          1,
          1,
          1,
          1,
          1,
          1,
          1
         ],
         "y": [
          "Pastel",
          "Pastel",
          "Pastel",
          "Pastel",
          "Pastel",
          "Pastel",
          "Pastel",
          "Pastel",
          "Pastel",
          "Pastel",
          "Pastel"
         ]
        },
        {
         "customdata": [
          0,
          1,
          2,
          3,
          4,
          5,
          6,
          7,
          8,
          9,
          10
         ],
         "hovertemplate": "%{y}[%{customdata}] = %{marker.color}<extra></extra>",
         "marker": {
          "color": [
           "rgb(127, 60, 141)",
           "rgb(17, 165, 121)",
           "rgb(57, 105, 172)",
           "rgb(242, 183, 1)",
           "rgb(231, 63, 116)",
           "rgb(128, 186, 90)",
           "rgb(230, 131, 16)",
           "rgb(0, 134, 149)",
           "rgb(207, 28, 144)",
           "rgb(249, 123, 114)",
           "rgb(165, 170, 153)"
          ]
         },
         "orientation": "h",
         "type": "bar",
         "x": [
          1,
          1,
          1,
          1,
          1,
          1,
          1,
          1,
          1,
          1,
          1
         ],
         "y": [
          "Bold",
          "Bold",
          "Bold",
          "Bold",
          "Bold",
          "Bold",
          "Bold",
          "Bold",
          "Bold",
          "Bold",
          "Bold"
         ]
        },
        {
         "customdata": [
          0,
          1,
          2,
          3,
          4,
          5,
          6,
          7,
          8,
          9,
          10
         ],
         "hovertemplate": "%{y}[%{customdata}] = %{marker.color}<extra></extra>",
         "marker": {
          "color": [
           "rgb(133, 92, 117)",
           "rgb(217, 175, 107)",
           "rgb(175, 100, 88)",
           "rgb(115, 111, 76)",
           "rgb(82, 106, 131)",
           "rgb(98, 83, 119)",
           "rgb(104, 133, 92)",
           "rgb(156, 156, 94)",
           "rgb(160, 97, 119)",
           "rgb(140, 120, 93)",
           "rgb(124, 124, 124)"
          ]
         },
         "orientation": "h",
         "type": "bar",
         "x": [
          1,
          1,
          1,
          1,
          1,
          1,
          1,
          1,
          1,
          1,
          1
         ],
         "y": [
          "Antique",
          "Antique",
          "Antique",
          "Antique",
          "Antique",
          "Antique",
          "Antique",
          "Antique",
          "Antique",
          "Antique",
          "Antique"
         ]
        },
        {
         "customdata": [
          0,
          1,
          2,
          3,
          4,
          5,
          6,
          7,
          8,
          9,
          10,
          11
         ],
         "hovertemplate": "%{y}[%{customdata}] = %{marker.color}<extra></extra>",
         "marker": {
          "color": [
           "rgb(141,211,199)",
           "rgb(255,255,179)",
           "rgb(190,186,218)",
           "rgb(251,128,114)",
           "rgb(128,177,211)",
           "rgb(253,180,98)",
           "rgb(179,222,105)",
           "rgb(252,205,229)",
           "rgb(217,217,217)",
           "rgb(188,128,189)",
           "rgb(204,235,197)",
           "rgb(255,237,111)"
          ]
         },
         "orientation": "h",
         "type": "bar",
         "x": [
          1,
          1,
          1,
          1,
          1,
          1,
          1,
          1,
          1,
          1,
          1,
          1
         ],
         "y": [
          "Set3",
          "Set3",
          "Set3",
          "Set3",
          "Set3",
          "Set3",
          "Set3",
          "Set3",
          "Set3",
          "Set3",
          "Set3",
          "Set3"
         ]
        },
        {
         "customdata": [
          0,
          1,
          2,
          3,
          4,
          5,
          6,
          7
         ],
         "hovertemplate": "%{y}[%{customdata}] = %{marker.color}<extra></extra>",
         "marker": {
          "color": [
           "rgb(179,226,205)",
           "rgb(253,205,172)",
           "rgb(203,213,232)",
           "rgb(244,202,228)",
           "rgb(230,245,201)",
           "rgb(255,242,174)",
           "rgb(241,226,204)",
           "rgb(204,204,204)"
          ]
         },
         "orientation": "h",
         "type": "bar",
         "x": [
          1,
          1,
          1,
          1,
          1,
          1,
          1,
          1
         ],
         "y": [
          "Pastel2",
          "Pastel2",
          "Pastel2",
          "Pastel2",
          "Pastel2",
          "Pastel2",
          "Pastel2",
          "Pastel2"
         ]
        },
        {
         "customdata": [
          0,
          1,
          2,
          3,
          4,
          5,
          6,
          7
         ],
         "hovertemplate": "%{y}[%{customdata}] = %{marker.color}<extra></extra>",
         "marker": {
          "color": [
           "rgb(102,194,165)",
           "rgb(252,141,98)",
           "rgb(141,160,203)",
           "rgb(231,138,195)",
           "rgb(166,216,84)",
           "rgb(255,217,47)",
           "rgb(229,196,148)",
           "rgb(179,179,179)"
          ]
         },
         "orientation": "h",
         "type": "bar",
         "x": [
          1,
          1,
          1,
          1,
          1,
          1,
          1,
          1
         ],
         "y": [
          "Set2",
          "Set2",
          "Set2",
          "Set2",
          "Set2",
          "Set2",
          "Set2",
          "Set2"
         ]
        },
        {
         "customdata": [
          0,
          1,
          2,
          3,
          4,
          5,
          6,
          7
         ],
         "hovertemplate": "%{y}[%{customdata}] = %{marker.color}<extra></extra>",
         "marker": {
          "color": [
           "rgb(27,158,119)",
           "rgb(217,95,2)",
           "rgb(117,112,179)",
           "rgb(231,41,138)",
           "rgb(102,166,30)",
           "rgb(230,171,2)",
           "rgb(166,118,29)",
           "rgb(102,102,102)"
          ]
         },
         "orientation": "h",
         "type": "bar",
         "x": [
          1,
          1,
          1,
          1,
          1,
          1,
          1,
          1
         ],
         "y": [
          "Dark2",
          "Dark2",
          "Dark2",
          "Dark2",
          "Dark2",
          "Dark2",
          "Dark2",
          "Dark2"
         ]
        },
        {
         "customdata": [
          0,
          1,
          2,
          3,
          4,
          5,
          6,
          7,
          8
         ],
         "hovertemplate": "%{y}[%{customdata}] = %{marker.color}<extra></extra>",
         "marker": {
          "color": [
           "rgb(251,180,174)",
           "rgb(179,205,227)",
           "rgb(204,235,197)",
           "rgb(222,203,228)",
           "rgb(254,217,166)",
           "rgb(255,255,204)",
           "rgb(229,216,189)",
           "rgb(253,218,236)",
           "rgb(242,242,242)"
          ]
         },
         "orientation": "h",
         "type": "bar",
         "x": [
          1,
          1,
          1,
          1,
          1,
          1,
          1,
          1,
          1
         ],
         "y": [
          "Pastel1",
          "Pastel1",
          "Pastel1",
          "Pastel1",
          "Pastel1",
          "Pastel1",
          "Pastel1",
          "Pastel1",
          "Pastel1"
         ]
        },
        {
         "customdata": [
          0,
          1,
          2,
          3,
          4,
          5,
          6,
          7,
          8
         ],
         "hovertemplate": "%{y}[%{customdata}] = %{marker.color}<extra></extra>",
         "marker": {
          "color": [
           "rgb(228,26,28)",
           "rgb(55,126,184)",
           "rgb(77,175,74)",
           "rgb(152,78,163)",
           "rgb(255,127,0)",
           "rgb(255,255,51)",
           "rgb(166,86,40)",
           "rgb(247,129,191)",
           "rgb(153,153,153)"
          ]
         },
         "orientation": "h",
         "type": "bar",
         "x": [
          1,
          1,
          1,
          1,
          1,
          1,
          1,
          1,
          1
         ],
         "y": [
          "Set1",
          "Set1",
          "Set1",
          "Set1",
          "Set1",
          "Set1",
          "Set1",
          "Set1",
          "Set1"
         ]
        },
        {
         "customdata": [
          0,
          1,
          2,
          3,
          4,
          5,
          6,
          7,
          8,
          9,
          10,
          11,
          12,
          13,
          14,
          15,
          16,
          17,
          18,
          19,
          20,
          21,
          22,
          23
         ],
         "hovertemplate": "%{y}[%{customdata}] = %{marker.color}<extra></extra>",
         "marker": {
          "color": [
           "#FD3216",
           "#00FE35",
           "#6A76FC",
           "#FED4C4",
           "#FE00CE",
           "#0DF9FF",
           "#F6F926",
           "#FF9616",
           "#479B55",
           "#EEA6FB",
           "#DC587D",
           "#D626FF",
           "#6E899C",
           "#00B5F7",
           "#B68E00",
           "#C9FBE5",
           "#FF0092",
           "#22FFA7",
           "#E3EE9E",
           "#86CE00",
           "#BC7196",
           "#7E7DCD",
           "#FC6955",
           "#E48F72"
          ]
         },
         "orientation": "h",
         "type": "bar",
         "x": [
          1,
          1,
          1,
          1,
          1,
          1,
          1,
          1,
          1,
          1,
          1,
          1,
          1,
          1,
          1,
          1,
          1,
          1,
          1,
          1,
          1,
          1,
          1,
          1
         ],
         "y": [
          "Light24",
          "Light24",
          "Light24",
          "Light24",
          "Light24",
          "Light24",
          "Light24",
          "Light24",
          "Light24",
          "Light24",
          "Light24",
          "Light24",
          "Light24",
          "Light24",
          "Light24",
          "Light24",
          "Light24",
          "Light24",
          "Light24",
          "Light24",
          "Light24",
          "Light24",
          "Light24",
          "Light24"
         ]
        },
        {
         "customdata": [
          0,
          1,
          2,
          3,
          4,
          5,
          6,
          7,
          8,
          9,
          10,
          11,
          12,
          13,
          14,
          15,
          16,
          17,
          18,
          19,
          20,
          21,
          22,
          23
         ],
         "hovertemplate": "%{y}[%{customdata}] = %{marker.color}<extra></extra>",
         "marker": {
          "color": [
           "#2E91E5",
           "#E15F99",
           "#1CA71C",
           "#FB0D0D",
           "#DA16FF",
           "#222A2A",
           "#B68100",
           "#750D86",
           "#EB663B",
           "#511CFB",
           "#00A08B",
           "#FB00D1",
           "#FC0080",
           "#B2828D",
           "#6C7C32",
           "#778AAE",
           "#862A16",
           "#A777F1",
           "#620042",
           "#1616A7",
           "#DA60CA",
           "#6C4516",
           "#0D2A63",
           "#AF0038"
          ]
         },
         "orientation": "h",
         "type": "bar",
         "x": [
          1,
          1,
          1,
          1,
          1,
          1,
          1,
          1,
          1,
          1,
          1,
          1,
          1,
          1,
          1,
          1,
          1,
          1,
          1,
          1,
          1,
          1,
          1,
          1
         ],
         "y": [
          "Dark24",
          "Dark24",
          "Dark24",
          "Dark24",
          "Dark24",
          "Dark24",
          "Dark24",
          "Dark24",
          "Dark24",
          "Dark24",
          "Dark24",
          "Dark24",
          "Dark24",
          "Dark24",
          "Dark24",
          "Dark24",
          "Dark24",
          "Dark24",
          "Dark24",
          "Dark24",
          "Dark24",
          "Dark24",
          "Dark24",
          "Dark24"
         ]
        },
        {
         "customdata": [
          0,
          1,
          2,
          3,
          4,
          5,
          6,
          7,
          8,
          9,
          10,
          11,
          12,
          13,
          14,
          15,
          16,
          17,
          18,
          19,
          20,
          21,
          22,
          23,
          24,
          25
         ],
         "hovertemplate": "%{y}[%{customdata}] = %{marker.color}<extra></extra>",
         "marker": {
          "color": [
           "#AA0DFE",
           "#3283FE",
           "#85660D",
           "#782AB6",
           "#565656",
           "#1C8356",
           "#16FF32",
           "#F7E1A0",
           "#E2E2E2",
           "#1CBE4F",
           "#C4451C",
           "#DEA0FD",
           "#FE00FA",
           "#325A9B",
           "#FEAF16",
           "#F8A19F",
           "#90AD1C",
           "#F6222E",
           "#1CFFCE",
           "#2ED9FF",
           "#B10DA1",
           "#C075A6",
           "#FC1CBF",
           "#B00068",
           "#FBE426",
           "#FA0087"
          ]
         },
         "orientation": "h",
         "type": "bar",
         "x": [
          1,
          1,
          1,
          1,
          1,
          1,
          1,
          1,
          1,
          1,
          1,
          1,
          1,
          1,
          1,
          1,
          1,
          1,
          1,
          1,
          1,
          1,
          1,
          1,
          1,
          1
         ],
         "y": [
          "Alphabet",
          "Alphabet",
          "Alphabet",
          "Alphabet",
          "Alphabet",
          "Alphabet",
          "Alphabet",
          "Alphabet",
          "Alphabet",
          "Alphabet",
          "Alphabet",
          "Alphabet",
          "Alphabet",
          "Alphabet",
          "Alphabet",
          "Alphabet",
          "Alphabet",
          "Alphabet",
          "Alphabet",
          "Alphabet",
          "Alphabet",
          "Alphabet",
          "Alphabet",
          "Alphabet",
          "Alphabet",
          "Alphabet"
         ]
        },
        {
         "customdata": [
          0,
          1,
          2,
          3,
          4,
          5,
          6,
          7,
          8,
          9
         ],
         "hovertemplate": "%{y}[%{customdata}] = %{marker.color}<extra></extra>",
         "marker": {
          "color": [
           "#4C78A8",
           "#F58518",
           "#E45756",
           "#72B7B2",
           "#54A24B",
           "#EECA3B",
           "#B279A2",
           "#FF9DA6",
           "#9D755D",
           "#BAB0AC"
          ]
         },
         "orientation": "h",
         "type": "bar",
         "x": [
          1,
          1,
          1,
          1,
          1,
          1,
          1,
          1,
          1,
          1
         ],
         "y": [
          "T10",
          "T10",
          "T10",
          "T10",
          "T10",
          "T10",
          "T10",
          "T10",
          "T10",
          "T10"
         ]
        },
        {
         "customdata": [
          0,
          1,
          2,
          3,
          4,
          5,
          6,
          7,
          8,
          9
         ],
         "hovertemplate": "%{y}[%{customdata}] = %{marker.color}<extra></extra>",
         "marker": {
          "color": [
           "#3366CC",
           "#DC3912",
           "#FF9900",
           "#109618",
           "#990099",
           "#0099C6",
           "#DD4477",
           "#66AA00",
           "#B82E2E",
           "#316395"
          ]
         },
         "orientation": "h",
         "type": "bar",
         "x": [
          1,
          1,
          1,
          1,
          1,
          1,
          1,
          1,
          1,
          1
         ],
         "y": [
          "G10",
          "G10",
          "G10",
          "G10",
          "G10",
          "G10",
          "G10",
          "G10",
          "G10",
          "G10"
         ]
        },
        {
         "customdata": [
          0,
          1,
          2,
          3,
          4,
          5,
          6,
          7,
          8,
          9
         ],
         "hovertemplate": "%{y}[%{customdata}] = %{marker.color}<extra></extra>",
         "marker": {
          "color": [
           "#1F77B4",
           "#FF7F0E",
           "#2CA02C",
           "#D62728",
           "#9467BD",
           "#8C564B",
           "#E377C2",
           "#7F7F7F",
           "#BCBD22",
           "#17BECF"
          ]
         },
         "orientation": "h",
         "type": "bar",
         "x": [
          1,
          1,
          1,
          1,
          1,
          1,
          1,
          1,
          1,
          1
         ],
         "y": [
          "D3",
          "D3",
          "D3",
          "D3",
          "D3",
          "D3",
          "D3",
          "D3",
          "D3",
          "D3"
         ]
        },
        {
         "customdata": [
          0,
          1,
          2,
          3,
          4,
          5,
          6,
          7,
          8,
          9
         ],
         "hovertemplate": "%{y}[%{customdata}] = %{marker.color}<extra></extra>",
         "marker": {
          "color": [
           "#636EFA",
           "#EF553B",
           "#00CC96",
           "#AB63FA",
           "#FFA15A",
           "#19D3F3",
           "#FF6692",
           "#B6E880",
           "#FF97FF",
           "#FECB52"
          ]
         },
         "orientation": "h",
         "type": "bar",
         "x": [
          1,
          1,
          1,
          1,
          1,
          1,
          1,
          1,
          1,
          1
         ],
         "y": [
          "Plotly",
          "Plotly",
          "Plotly",
          "Plotly",
          "Plotly",
          "Plotly",
          "Plotly",
          "Plotly",
          "Plotly",
          "Plotly"
         ]
        }
       ],
       "layout": {
        "bargap": 0.5,
        "barmode": "stack",
        "barnorm": "fraction",
        "height": 760,
        "margin": {
         "b": 10
        },
        "showlegend": false,
        "template": {
         "data": {
          "bar": [
           {
            "error_x": {
             "color": "#2a3f5f"
            },
            "error_y": {
             "color": "#2a3f5f"
            },
            "marker": {
             "line": {
              "color": "#E5ECF6",
              "width": 0.5
             },
             "pattern": {
              "fillmode": "overlay",
              "size": 10,
              "solidity": 0.2
             }
            },
            "type": "bar"
           }
          ],
          "barpolar": [
           {
            "marker": {
             "line": {
              "color": "#E5ECF6",
              "width": 0.5
             },
             "pattern": {
              "fillmode": "overlay",
              "size": 10,
              "solidity": 0.2
             }
            },
            "type": "barpolar"
           }
          ],
          "carpet": [
           {
            "aaxis": {
             "endlinecolor": "#2a3f5f",
             "gridcolor": "white",
             "linecolor": "white",
             "minorgridcolor": "white",
             "startlinecolor": "#2a3f5f"
            },
            "baxis": {
             "endlinecolor": "#2a3f5f",
             "gridcolor": "white",
             "linecolor": "white",
             "minorgridcolor": "white",
             "startlinecolor": "#2a3f5f"
            },
            "type": "carpet"
           }
          ],
          "choropleth": [
           {
            "colorbar": {
             "outlinewidth": 0,
             "ticks": ""
            },
            "type": "choropleth"
           }
          ],
          "contour": [
           {
            "colorbar": {
             "outlinewidth": 0,
             "ticks": ""
            },
            "colorscale": [
             [
              0,
              "#0d0887"
             ],
             [
              0.1111111111111111,
              "#46039f"
             ],
             [
              0.2222222222222222,
              "#7201a8"
             ],
             [
              0.3333333333333333,
              "#9c179e"
             ],
             [
              0.4444444444444444,
              "#bd3786"
             ],
             [
              0.5555555555555556,
              "#d8576b"
             ],
             [
              0.6666666666666666,
              "#ed7953"
             ],
             [
              0.7777777777777778,
              "#fb9f3a"
             ],
             [
              0.8888888888888888,
              "#fdca26"
             ],
             [
              1,
              "#f0f921"
             ]
            ],
            "type": "contour"
           }
          ],
          "contourcarpet": [
           {
            "colorbar": {
             "outlinewidth": 0,
             "ticks": ""
            },
            "type": "contourcarpet"
           }
          ],
          "heatmap": [
           {
            "colorbar": {
             "outlinewidth": 0,
             "ticks": ""
            },
            "colorscale": [
             [
              0,
              "#0d0887"
             ],
             [
              0.1111111111111111,
              "#46039f"
             ],
             [
              0.2222222222222222,
              "#7201a8"
             ],
             [
              0.3333333333333333,
              "#9c179e"
             ],
             [
              0.4444444444444444,
              "#bd3786"
             ],
             [
              0.5555555555555556,
              "#d8576b"
             ],
             [
              0.6666666666666666,
              "#ed7953"
             ],
             [
              0.7777777777777778,
              "#fb9f3a"
             ],
             [
              0.8888888888888888,
              "#fdca26"
             ],
             [
              1,
              "#f0f921"
             ]
            ],
            "type": "heatmap"
           }
          ],
          "heatmapgl": [
           {
            "colorbar": {
             "outlinewidth": 0,
             "ticks": ""
            },
            "colorscale": [
             [
              0,
              "#0d0887"
             ],
             [
              0.1111111111111111,
              "#46039f"
             ],
             [
              0.2222222222222222,
              "#7201a8"
             ],
             [
              0.3333333333333333,
              "#9c179e"
             ],
             [
              0.4444444444444444,
              "#bd3786"
             ],
             [
              0.5555555555555556,
              "#d8576b"
             ],
             [
              0.6666666666666666,
              "#ed7953"
             ],
             [
              0.7777777777777778,
              "#fb9f3a"
             ],
             [
              0.8888888888888888,
              "#fdca26"
             ],
             [
              1,
              "#f0f921"
             ]
            ],
            "type": "heatmapgl"
           }
          ],
          "histogram": [
           {
            "marker": {
             "pattern": {
              "fillmode": "overlay",
              "size": 10,
              "solidity": 0.2
             }
            },
            "type": "histogram"
           }
          ],
          "histogram2d": [
           {
            "colorbar": {
             "outlinewidth": 0,
             "ticks": ""
            },
            "colorscale": [
             [
              0,
              "#0d0887"
             ],
             [
              0.1111111111111111,
              "#46039f"
             ],
             [
              0.2222222222222222,
              "#7201a8"
             ],
             [
              0.3333333333333333,
              "#9c179e"
             ],
             [
              0.4444444444444444,
              "#bd3786"
             ],
             [
              0.5555555555555556,
              "#d8576b"
             ],
             [
              0.6666666666666666,
              "#ed7953"
             ],
             [
              0.7777777777777778,
              "#fb9f3a"
             ],
             [
              0.8888888888888888,
              "#fdca26"
             ],
             [
              1,
              "#f0f921"
             ]
            ],
            "type": "histogram2d"
           }
          ],
          "histogram2dcontour": [
           {
            "colorbar": {
             "outlinewidth": 0,
             "ticks": ""
            },
            "colorscale": [
             [
              0,
              "#0d0887"
             ],
             [
              0.1111111111111111,
              "#46039f"
             ],
             [
              0.2222222222222222,
              "#7201a8"
             ],
             [
              0.3333333333333333,
              "#9c179e"
             ],
             [
              0.4444444444444444,
              "#bd3786"
             ],
             [
              0.5555555555555556,
              "#d8576b"
             ],
             [
              0.6666666666666666,
              "#ed7953"
             ],
             [
              0.7777777777777778,
              "#fb9f3a"
             ],
             [
              0.8888888888888888,
              "#fdca26"
             ],
             [
              1,
              "#f0f921"
             ]
            ],
            "type": "histogram2dcontour"
           }
          ],
          "mesh3d": [
           {
            "colorbar": {
             "outlinewidth": 0,
             "ticks": ""
            },
            "type": "mesh3d"
           }
          ],
          "parcoords": [
           {
            "line": {
             "colorbar": {
              "outlinewidth": 0,
              "ticks": ""
             }
            },
            "type": "parcoords"
           }
          ],
          "pie": [
           {
            "automargin": true,
            "type": "pie"
           }
          ],
          "scatter": [
           {
            "fillpattern": {
             "fillmode": "overlay",
             "size": 10,
             "solidity": 0.2
            },
            "type": "scatter"
           }
          ],
          "scatter3d": [
           {
            "line": {
             "colorbar": {
              "outlinewidth": 0,
              "ticks": ""
             }
            },
            "marker": {
             "colorbar": {
              "outlinewidth": 0,
              "ticks": ""
             }
            },
            "type": "scatter3d"
           }
          ],
          "scattercarpet": [
           {
            "marker": {
             "colorbar": {
              "outlinewidth": 0,
              "ticks": ""
             }
            },
            "type": "scattercarpet"
           }
          ],
          "scattergeo": [
           {
            "marker": {
             "colorbar": {
              "outlinewidth": 0,
              "ticks": ""
             }
            },
            "type": "scattergeo"
           }
          ],
          "scattergl": [
           {
            "marker": {
             "colorbar": {
              "outlinewidth": 0,
              "ticks": ""
             }
            },
            "type": "scattergl"
           }
          ],
          "scattermapbox": [
           {
            "marker": {
             "colorbar": {
              "outlinewidth": 0,
              "ticks": ""
             }
            },
            "type": "scattermapbox"
           }
          ],
          "scatterpolar": [
           {
            "marker": {
             "colorbar": {
              "outlinewidth": 0,
              "ticks": ""
             }
            },
            "type": "scatterpolar"
           }
          ],
          "scatterpolargl": [
           {
            "marker": {
             "colorbar": {
              "outlinewidth": 0,
              "ticks": ""
             }
            },
            "type": "scatterpolargl"
           }
          ],
          "scatterternary": [
           {
            "marker": {
             "colorbar": {
              "outlinewidth": 0,
              "ticks": ""
             }
            },
            "type": "scatterternary"
           }
          ],
          "surface": [
           {
            "colorbar": {
             "outlinewidth": 0,
             "ticks": ""
            },
            "colorscale": [
             [
              0,
              "#0d0887"
             ],
             [
              0.1111111111111111,
              "#46039f"
             ],
             [
              0.2222222222222222,
              "#7201a8"
             ],
             [
              0.3333333333333333,
              "#9c179e"
             ],
             [
              0.4444444444444444,
              "#bd3786"
             ],
             [
              0.5555555555555556,
              "#d8576b"
             ],
             [
              0.6666666666666666,
              "#ed7953"
             ],
             [
              0.7777777777777778,
              "#fb9f3a"
             ],
             [
              0.8888888888888888,
              "#fdca26"
             ],
             [
              1,
              "#f0f921"
             ]
            ],
            "type": "surface"
           }
          ],
          "table": [
           {
            "cells": {
             "fill": {
              "color": "#EBF0F8"
             },
             "line": {
              "color": "white"
             }
            },
            "header": {
             "fill": {
              "color": "#C8D4E3"
             },
             "line": {
              "color": "white"
             }
            },
            "type": "table"
           }
          ]
         },
         "layout": {
          "annotationdefaults": {
           "arrowcolor": "#2a3f5f",
           "arrowhead": 0,
           "arrowwidth": 1
          },
          "autotypenumbers": "strict",
          "coloraxis": {
           "colorbar": {
            "outlinewidth": 0,
            "ticks": ""
           }
          },
          "colorscale": {
           "diverging": [
            [
             0,
             "#8e0152"
            ],
            [
             0.1,
             "#c51b7d"
            ],
            [
             0.2,
             "#de77ae"
            ],
            [
             0.3,
             "#f1b6da"
            ],
            [
             0.4,
             "#fde0ef"
            ],
            [
             0.5,
             "#f7f7f7"
            ],
            [
             0.6,
             "#e6f5d0"
            ],
            [
             0.7,
             "#b8e186"
            ],
            [
             0.8,
             "#7fbc41"
            ],
            [
             0.9,
             "#4d9221"
            ],
            [
             1,
             "#276419"
            ]
           ],
           "sequential": [
            [
             0,
             "#0d0887"
            ],
            [
             0.1111111111111111,
             "#46039f"
            ],
            [
             0.2222222222222222,
             "#7201a8"
            ],
            [
             0.3333333333333333,
             "#9c179e"
            ],
            [
             0.4444444444444444,
             "#bd3786"
            ],
            [
             0.5555555555555556,
             "#d8576b"
            ],
            [
             0.6666666666666666,
             "#ed7953"
            ],
            [
             0.7777777777777778,
             "#fb9f3a"
            ],
            [
             0.8888888888888888,
             "#fdca26"
            ],
            [
             1,
             "#f0f921"
            ]
           ],
           "sequentialminus": [
            [
             0,
             "#0d0887"
            ],
            [
             0.1111111111111111,
             "#46039f"
            ],
            [
             0.2222222222222222,
             "#7201a8"
            ],
            [
             0.3333333333333333,
             "#9c179e"
            ],
            [
             0.4444444444444444,
             "#bd3786"
            ],
            [
             0.5555555555555556,
             "#d8576b"
            ],
            [
             0.6666666666666666,
             "#ed7953"
            ],
            [
             0.7777777777777778,
             "#fb9f3a"
            ],
            [
             0.8888888888888888,
             "#fdca26"
            ],
            [
             1,
             "#f0f921"
            ]
           ]
          },
          "colorway": [
           "#636efa",
           "#EF553B",
           "#00cc96",
           "#ab63fa",
           "#FFA15A",
           "#19d3f3",
           "#FF6692",
           "#B6E880",
           "#FF97FF",
           "#FECB52"
          ],
          "font": {
           "color": "#2a3f5f"
          },
          "geo": {
           "bgcolor": "white",
           "lakecolor": "white",
           "landcolor": "#E5ECF6",
           "showlakes": true,
           "showland": true,
           "subunitcolor": "white"
          },
          "hoverlabel": {
           "align": "left"
          },
          "hovermode": "closest",
          "mapbox": {
           "style": "light"
          },
          "paper_bgcolor": "white",
          "plot_bgcolor": "#E5ECF6",
          "polar": {
           "angularaxis": {
            "gridcolor": "white",
            "linecolor": "white",
            "ticks": ""
           },
           "bgcolor": "#E5ECF6",
           "radialaxis": {
            "gridcolor": "white",
            "linecolor": "white",
            "ticks": ""
           }
          },
          "scene": {
           "xaxis": {
            "backgroundcolor": "#E5ECF6",
            "gridcolor": "white",
            "gridwidth": 2,
            "linecolor": "white",
            "showbackground": true,
            "ticks": "",
            "zerolinecolor": "white"
           },
           "yaxis": {
            "backgroundcolor": "#E5ECF6",
            "gridcolor": "white",
            "gridwidth": 2,
            "linecolor": "white",
            "showbackground": true,
            "ticks": "",
            "zerolinecolor": "white"
           },
           "zaxis": {
            "backgroundcolor": "#E5ECF6",
            "gridcolor": "white",
            "gridwidth": 2,
            "linecolor": "white",
            "showbackground": true,
            "ticks": "",
            "zerolinecolor": "white"
           }
          },
          "shapedefaults": {
           "line": {
            "color": "#2a3f5f"
           }
          },
          "ternary": {
           "aaxis": {
            "gridcolor": "white",
            "linecolor": "white",
            "ticks": ""
           },
           "baxis": {
            "gridcolor": "white",
            "linecolor": "white",
            "ticks": ""
           },
           "bgcolor": "#E5ECF6",
           "caxis": {
            "gridcolor": "white",
            "linecolor": "white",
            "ticks": ""
           }
          },
          "title": {
           "x": 0.05
          },
          "xaxis": {
           "automargin": true,
           "gridcolor": "white",
           "linecolor": "white",
           "ticks": "",
           "title": {
            "standoff": 15
           },
           "zerolinecolor": "white",
           "zerolinewidth": 2
          },
          "yaxis": {
           "automargin": true,
           "gridcolor": "white",
           "linecolor": "white",
           "ticks": "",
           "title": {
            "standoff": 15
           },
           "zerolinecolor": "white",
           "zerolinewidth": 2
          }
         }
        },
        "title": {
         "text": "plotly.colors.qualitative"
        },
        "xaxis": {
         "range": [
          -0.02,
          1.02
         ],
         "showgrid": false,
         "showticklabels": false
        }
       }
      }
     },
     "metadata": {},
     "output_type": "display_data"
    }
   ],
   "source": [
    "px.colors.qualitative.swatches()"
   ]
  },
  {
   "cell_type": "code",
   "execution_count": 69,
   "id": "859b7106",
   "metadata": {},
   "outputs": [],
   "source": [
    "df_personnel = df_personnel.drop(['personnel*'], axis=1)\n",
    "df_personnel.date = pd.to_datetime(df_personnel.date)\n",
    "df_personnel_daily = df_personnel.copy().set_index(['date', 'day'])\n",
    "df_personnel_daily = df_personnel_daily.diff().fillna(df_personnel_daily).reset_index()"
   ]
  },
  {
   "cell_type": "code",
   "execution_count": 70,
   "id": "5f3cb30f",
   "metadata": {},
   "outputs": [
    {
     "data": {
      "text/html": [
       "<div>\n",
       "<style scoped>\n",
       "    .dataframe tbody tr th:only-of-type {\n",
       "        vertical-align: middle;\n",
       "    }\n",
       "\n",
       "    .dataframe tbody tr th {\n",
       "        vertical-align: top;\n",
       "    }\n",
       "\n",
       "    .dataframe thead th {\n",
       "        text-align: right;\n",
       "    }\n",
       "</style>\n",
       "<table border=\"1\" class=\"dataframe\">\n",
       "  <thead>\n",
       "    <tr style=\"text-align: right;\">\n",
       "      <th></th>\n",
       "      <th>date</th>\n",
       "      <th>day</th>\n",
       "      <th>personnel</th>\n",
       "      <th>POW</th>\n",
       "    </tr>\n",
       "  </thead>\n",
       "  <tbody>\n",
       "    <tr>\n",
       "      <th>0</th>\n",
       "      <td>2022-02-25</td>\n",
       "      <td>2</td>\n",
       "      <td>2800.0</td>\n",
       "      <td>0.0</td>\n",
       "    </tr>\n",
       "    <tr>\n",
       "      <th>1</th>\n",
       "      <td>2022-02-26</td>\n",
       "      <td>3</td>\n",
       "      <td>1500.0</td>\n",
       "      <td>0.0</td>\n",
       "    </tr>\n",
       "    <tr>\n",
       "      <th>2</th>\n",
       "      <td>2022-02-27</td>\n",
       "      <td>4</td>\n",
       "      <td>200.0</td>\n",
       "      <td>0.0</td>\n",
       "    </tr>\n",
       "    <tr>\n",
       "      <th>3</th>\n",
       "      <td>2022-02-28</td>\n",
       "      <td>5</td>\n",
       "      <td>800.0</td>\n",
       "      <td>0.0</td>\n",
       "    </tr>\n",
       "    <tr>\n",
       "      <th>4</th>\n",
       "      <td>2022-03-01</td>\n",
       "      <td>6</td>\n",
       "      <td>410.0</td>\n",
       "      <td>200.0</td>\n",
       "    </tr>\n",
       "    <tr>\n",
       "      <th>...</th>\n",
       "      <td>...</td>\n",
       "      <td>...</td>\n",
       "      <td>...</td>\n",
       "      <td>...</td>\n",
       "    </tr>\n",
       "    <tr>\n",
       "      <th>111</th>\n",
       "      <td>2022-06-16</td>\n",
       "      <td>113</td>\n",
       "      <td>200.0</td>\n",
       "      <td>0.0</td>\n",
       "    </tr>\n",
       "    <tr>\n",
       "      <th>112</th>\n",
       "      <td>2022-06-17</td>\n",
       "      <td>114</td>\n",
       "      <td>200.0</td>\n",
       "      <td>0.0</td>\n",
       "    </tr>\n",
       "    <tr>\n",
       "      <th>113</th>\n",
       "      <td>2022-06-18</td>\n",
       "      <td>115</td>\n",
       "      <td>200.0</td>\n",
       "      <td>0.0</td>\n",
       "    </tr>\n",
       "    <tr>\n",
       "      <th>114</th>\n",
       "      <td>2022-06-19</td>\n",
       "      <td>116</td>\n",
       "      <td>250.0</td>\n",
       "      <td>0.0</td>\n",
       "    </tr>\n",
       "    <tr>\n",
       "      <th>115</th>\n",
       "      <td>2022-06-20</td>\n",
       "      <td>117</td>\n",
       "      <td>200.0</td>\n",
       "      <td>0.0</td>\n",
       "    </tr>\n",
       "  </tbody>\n",
       "</table>\n",
       "<p>116 rows × 4 columns</p>\n",
       "</div>"
      ],
      "text/plain": [
       "          date  day  personnel    POW\n",
       "0   2022-02-25    2     2800.0    0.0\n",
       "1   2022-02-26    3     1500.0    0.0\n",
       "2   2022-02-27    4      200.0    0.0\n",
       "3   2022-02-28    5      800.0    0.0\n",
       "4   2022-03-01    6      410.0  200.0\n",
       "..         ...  ...        ...    ...\n",
       "111 2022-06-16  113      200.0    0.0\n",
       "112 2022-06-17  114      200.0    0.0\n",
       "113 2022-06-18  115      200.0    0.0\n",
       "114 2022-06-19  116      250.0    0.0\n",
       "115 2022-06-20  117      200.0    0.0\n",
       "\n",
       "[116 rows x 4 columns]"
      ]
     },
     "execution_count": 70,
     "metadata": {},
     "output_type": "execute_result"
    }
   ],
   "source": [
    "df_personnel_daily"
   ]
  },
  {
   "cell_type": "code",
   "execution_count": 78,
   "id": "fe5c9367",
   "metadata": {},
   "outputs": [
    {
     "data": {
      "text/html": [
       "<div>\n",
       "<style scoped>\n",
       "    .dataframe tbody tr th:only-of-type {\n",
       "        vertical-align: middle;\n",
       "    }\n",
       "\n",
       "    .dataframe tbody tr th {\n",
       "        vertical-align: top;\n",
       "    }\n",
       "\n",
       "    .dataframe thead th {\n",
       "        text-align: right;\n",
       "    }\n",
       "</style>\n",
       "<table border=\"1\" class=\"dataframe\">\n",
       "  <thead>\n",
       "    <tr style=\"text-align: right;\">\n",
       "      <th></th>\n",
       "      <th>personnel</th>\n",
       "      <th>POW</th>\n",
       "    </tr>\n",
       "  </thead>\n",
       "  <tbody>\n",
       "    <tr>\n",
       "      <th>4</th>\n",
       "      <td>410.0</td>\n",
       "      <td>200.0</td>\n",
       "    </tr>\n",
       "    <tr>\n",
       "      <th>8</th>\n",
       "      <td>834.0</td>\n",
       "      <td>16.0</td>\n",
       "    </tr>\n",
       "    <tr>\n",
       "      <th>9</th>\n",
       "      <td>1000.0</td>\n",
       "      <td>16.0</td>\n",
       "    </tr>\n",
       "    <tr>\n",
       "      <th>10</th>\n",
       "      <td>0.0</td>\n",
       "      <td>27.0</td>\n",
       "    </tr>\n",
       "    <tr>\n",
       "      <th>11</th>\n",
       "      <td>1000.0</td>\n",
       "      <td>25.0</td>\n",
       "    </tr>\n",
       "    <tr>\n",
       "      <th>12</th>\n",
       "      <td>0.0</td>\n",
       "      <td>76.0</td>\n",
       "    </tr>\n",
       "    <tr>\n",
       "      <th>13</th>\n",
       "      <td>0.0</td>\n",
       "      <td>11.0</td>\n",
       "    </tr>\n",
       "    <tr>\n",
       "      <th>14</th>\n",
       "      <td>0.0</td>\n",
       "      <td>18.0</td>\n",
       "    </tr>\n",
       "    <tr>\n",
       "      <th>20</th>\n",
       "      <td>200.0</td>\n",
       "      <td>16.0</td>\n",
       "    </tr>\n",
       "    <tr>\n",
       "      <th>25</th>\n",
       "      <td>300.0</td>\n",
       "      <td>6.0</td>\n",
       "    </tr>\n",
       "    <tr>\n",
       "      <th>26</th>\n",
       "      <td>300.0</td>\n",
       "      <td>1.0</td>\n",
       "    </tr>\n",
       "    <tr>\n",
       "      <th>30</th>\n",
       "      <td>200.0</td>\n",
       "      <td>9.0</td>\n",
       "    </tr>\n",
       "    <tr>\n",
       "      <th>32</th>\n",
       "      <td>200.0</td>\n",
       "      <td>9.0</td>\n",
       "    </tr>\n",
       "    <tr>\n",
       "      <th>34</th>\n",
       "      <td>200.0</td>\n",
       "      <td>29.0</td>\n",
       "    </tr>\n",
       "    <tr>\n",
       "      <th>36</th>\n",
       "      <td>0.0</td>\n",
       "      <td>1.0</td>\n",
       "    </tr>\n",
       "    <tr>\n",
       "      <th>39</th>\n",
       "      <td>200.0</td>\n",
       "      <td>7.0</td>\n",
       "    </tr>\n",
       "    <tr>\n",
       "      <th>46</th>\n",
       "      <td>100.0</td>\n",
       "      <td>10.0</td>\n",
       "    </tr>\n",
       "    <tr>\n",
       "      <th>53</th>\n",
       "      <td>200.0</td>\n",
       "      <td>12.0</td>\n",
       "    </tr>\n",
       "    <tr>\n",
       "      <th>61</th>\n",
       "      <td>300.0</td>\n",
       "      <td>7.0</td>\n",
       "    </tr>\n",
       "    <tr>\n",
       "      <th>74</th>\n",
       "      <td>350.0</td>\n",
       "      <td>2.0</td>\n",
       "    </tr>\n",
       "  </tbody>\n",
       "</table>\n",
       "</div>"
      ],
      "text/plain": [
       "    personnel    POW\n",
       "4       410.0  200.0\n",
       "8       834.0   16.0\n",
       "9      1000.0   16.0\n",
       "10        0.0   27.0\n",
       "11     1000.0   25.0\n",
       "12        0.0   76.0\n",
       "13        0.0   11.0\n",
       "14        0.0   18.0\n",
       "20      200.0   16.0\n",
       "25      300.0    6.0\n",
       "26      300.0    1.0\n",
       "30      200.0    9.0\n",
       "32      200.0    9.0\n",
       "34      200.0   29.0\n",
       "36        0.0    1.0\n",
       "39      200.0    7.0\n",
       "46      100.0   10.0\n",
       "53      200.0   12.0\n",
       "61      300.0    7.0\n",
       "74      350.0    2.0"
      ]
     },
     "execution_count": 78,
     "metadata": {},
     "output_type": "execute_result"
    }
   ],
   "source": [
    "df_personnel_daily[['personnel', 'POW']].query('POW != 0.0')"
   ]
  },
  {
   "cell_type": "code",
   "execution_count": 102,
   "id": "c23b6e3d",
   "metadata": {},
   "outputs": [
    {
     "data": {
      "application/vnd.plotly.v1+json": {
       "config": {
        "plotlyServerURL": "https://plot.ly"
       },
       "data": [
        {
         "hovertemplate": "%{x}<br />lost: %{y} <extra></extra>",
         "marker": {
          "color": "#FFA15A"
         },
         "text": [
          2800,
          1500,
          200,
          800,
          410,
          130,
          3160,
          166,
          834,
          1000,
          0,
          1000,
          0,
          0,
          0,
          0,
          0,
          0,
          1500,
          300,
          200,
          200,
          200,
          300,
          300,
          300,
          300,
          200,
          300,
          300,
          200,
          400,
          200,
          100,
          200,
          200,
          0,
          300,
          300,
          200,
          100,
          300,
          100,
          100,
          200,
          200,
          100,
          200,
          100,
          100,
          100,
          200,
          300,
          200,
          100,
          100,
          200,
          400,
          200,
          100,
          200,
          300,
          400,
          200,
          200,
          300,
          300,
          400,
          300,
          200,
          200,
          200,
          400,
          150,
          350,
          350,
          300,
          250,
          300,
          200,
          300,
          200,
          400,
          200,
          200,
          150,
          200,
          150,
          150,
          100,
          150,
          150,
          250,
          150,
          200,
          150,
          200,
          150,
          100,
          100,
          100,
          100,
          110,
          140,
          200,
          200,
          150,
          100,
          150,
          200,
          250,
          200,
          200,
          200,
          250,
          200
         ],
         "type": "bar",
         "x": [
          "2022-02-25T00:00:00",
          "2022-02-26T00:00:00",
          "2022-02-27T00:00:00",
          "2022-02-28T00:00:00",
          "2022-03-01T00:00:00",
          "2022-03-02T00:00:00",
          "2022-03-03T00:00:00",
          "2022-03-04T00:00:00",
          "2022-03-05T00:00:00",
          "2022-03-06T00:00:00",
          "2022-03-07T00:00:00",
          "2022-03-08T00:00:00",
          "2022-03-09T00:00:00",
          "2022-03-10T00:00:00",
          "2022-03-11T00:00:00",
          "2022-03-12T00:00:00",
          "2022-03-13T00:00:00",
          "2022-03-14T00:00:00",
          "2022-03-15T00:00:00",
          "2022-03-16T00:00:00",
          "2022-03-17T00:00:00",
          "2022-03-18T00:00:00",
          "2022-03-19T00:00:00",
          "2022-03-20T00:00:00",
          "2022-03-21T00:00:00",
          "2022-03-22T00:00:00",
          "2022-03-23T00:00:00",
          "2022-03-24T00:00:00",
          "2022-03-25T00:00:00",
          "2022-03-26T00:00:00",
          "2022-03-27T00:00:00",
          "2022-03-28T00:00:00",
          "2022-03-29T00:00:00",
          "2022-03-30T00:00:00",
          "2022-03-31T00:00:00",
          "2022-04-01T00:00:00",
          "2022-04-02T00:00:00",
          "2022-04-03T00:00:00",
          "2022-04-04T00:00:00",
          "2022-04-05T00:00:00",
          "2022-04-06T00:00:00",
          "2022-04-07T00:00:00",
          "2022-04-08T00:00:00",
          "2022-04-09T00:00:00",
          "2022-04-10T00:00:00",
          "2022-04-11T00:00:00",
          "2022-04-12T00:00:00",
          "2022-04-13T00:00:00",
          "2022-04-14T00:00:00",
          "2022-04-15T00:00:00",
          "2022-04-16T00:00:00",
          "2022-04-17T00:00:00",
          "2022-04-18T00:00:00",
          "2022-04-19T00:00:00",
          "2022-04-20T00:00:00",
          "2022-04-21T00:00:00",
          "2022-04-22T00:00:00",
          "2022-04-23T00:00:00",
          "2022-04-24T00:00:00",
          "2022-04-25T00:00:00",
          "2022-04-26T00:00:00",
          "2022-04-27T00:00:00",
          "2022-04-28T00:00:00",
          "2022-04-29T00:00:00",
          "2022-04-30T00:00:00",
          "2022-05-01T00:00:00",
          "2022-05-02T00:00:00",
          "2022-05-03T00:00:00",
          "2022-05-04T00:00:00",
          "2022-05-05T00:00:00",
          "2022-05-06T00:00:00",
          "2022-05-07T00:00:00",
          "2022-05-08T00:00:00",
          "2022-05-09T00:00:00",
          "2022-05-10T00:00:00",
          "2022-05-11T00:00:00",
          "2022-05-12T00:00:00",
          "2022-05-13T00:00:00",
          "2022-05-14T00:00:00",
          "2022-05-15T00:00:00",
          "2022-05-16T00:00:00",
          "2022-05-17T00:00:00",
          "2022-05-18T00:00:00",
          "2022-05-19T00:00:00",
          "2022-05-20T00:00:00",
          "2022-05-21T00:00:00",
          "2022-05-22T00:00:00",
          "2022-05-23T00:00:00",
          "2022-05-24T00:00:00",
          "2022-05-25T00:00:00",
          "2022-05-26T00:00:00",
          "2022-05-27T00:00:00",
          "2022-05-28T00:00:00",
          "2022-05-29T00:00:00",
          "2022-05-30T00:00:00",
          "2022-05-31T00:00:00",
          "2022-06-01T00:00:00",
          "2022-06-02T00:00:00",
          "2022-06-03T00:00:00",
          "2022-06-04T00:00:00",
          "2022-06-05T00:00:00",
          "2022-06-06T00:00:00",
          "2022-06-07T00:00:00",
          "2022-06-08T00:00:00",
          "2022-06-09T00:00:00",
          "2022-06-10T00:00:00",
          "2022-06-11T00:00:00",
          "2022-06-12T00:00:00",
          "2022-06-13T00:00:00",
          "2022-06-14T00:00:00",
          "2022-06-15T00:00:00",
          "2022-06-16T00:00:00",
          "2022-06-17T00:00:00",
          "2022-06-18T00:00:00",
          "2022-06-19T00:00:00",
          "2022-06-20T00:00:00"
         ],
         "y": [
          2800,
          1500,
          200,
          800,
          410,
          130,
          3160,
          166,
          834,
          1000,
          0,
          1000,
          0,
          0,
          0,
          0,
          0,
          0,
          1500,
          300,
          200,
          200,
          200,
          300,
          300,
          300,
          300,
          200,
          300,
          300,
          200,
          400,
          200,
          100,
          200,
          200,
          0,
          300,
          300,
          200,
          100,
          300,
          100,
          100,
          200,
          200,
          100,
          200,
          100,
          100,
          100,
          200,
          300,
          200,
          100,
          100,
          200,
          400,
          200,
          100,
          200,
          300,
          400,
          200,
          200,
          300,
          300,
          400,
          300,
          200,
          200,
          200,
          400,
          150,
          350,
          350,
          300,
          250,
          300,
          200,
          300,
          200,
          400,
          200,
          200,
          150,
          200,
          150,
          150,
          100,
          150,
          150,
          250,
          150,
          200,
          150,
          200,
          150,
          100,
          100,
          100,
          100,
          110,
          140,
          200,
          200,
          150,
          100,
          150,
          200,
          250,
          200,
          200,
          200,
          250,
          200
         ]
        },
        {
         "hovertemplate": "%{x}<br />captured: %{y} <extra></extra>",
         "marker": {
          "color": "rgb(254,217,166)"
         },
         "type": "bar",
         "x": [
          "2022-02-25T00:00:00",
          "2022-02-26T00:00:00",
          "2022-02-27T00:00:00",
          "2022-02-28T00:00:00",
          "2022-03-01T00:00:00",
          "2022-03-02T00:00:00",
          "2022-03-03T00:00:00",
          "2022-03-04T00:00:00",
          "2022-03-05T00:00:00",
          "2022-03-06T00:00:00",
          "2022-03-07T00:00:00",
          "2022-03-08T00:00:00",
          "2022-03-09T00:00:00",
          "2022-03-10T00:00:00",
          "2022-03-11T00:00:00",
          "2022-03-12T00:00:00",
          "2022-03-13T00:00:00",
          "2022-03-14T00:00:00",
          "2022-03-15T00:00:00",
          "2022-03-16T00:00:00",
          "2022-03-17T00:00:00",
          "2022-03-18T00:00:00",
          "2022-03-19T00:00:00",
          "2022-03-20T00:00:00",
          "2022-03-21T00:00:00",
          "2022-03-22T00:00:00",
          "2022-03-23T00:00:00",
          "2022-03-24T00:00:00",
          "2022-03-25T00:00:00",
          "2022-03-26T00:00:00",
          "2022-03-27T00:00:00",
          "2022-03-28T00:00:00",
          "2022-03-29T00:00:00",
          "2022-03-30T00:00:00",
          "2022-03-31T00:00:00",
          "2022-04-01T00:00:00",
          "2022-04-02T00:00:00",
          "2022-04-03T00:00:00",
          "2022-04-04T00:00:00",
          "2022-04-05T00:00:00",
          "2022-04-06T00:00:00",
          "2022-04-07T00:00:00",
          "2022-04-08T00:00:00",
          "2022-04-09T00:00:00",
          "2022-04-10T00:00:00",
          "2022-04-11T00:00:00",
          "2022-04-12T00:00:00",
          "2022-04-13T00:00:00",
          "2022-04-14T00:00:00",
          "2022-04-15T00:00:00",
          "2022-04-16T00:00:00",
          "2022-04-17T00:00:00",
          "2022-04-18T00:00:00",
          "2022-04-19T00:00:00",
          "2022-04-20T00:00:00",
          "2022-04-21T00:00:00",
          "2022-04-22T00:00:00",
          "2022-04-23T00:00:00",
          "2022-04-24T00:00:00",
          "2022-04-25T00:00:00",
          "2022-04-26T00:00:00",
          "2022-04-27T00:00:00",
          "2022-04-28T00:00:00",
          "2022-04-29T00:00:00",
          "2022-04-30T00:00:00",
          "2022-05-01T00:00:00",
          "2022-05-02T00:00:00",
          "2022-05-03T00:00:00",
          "2022-05-04T00:00:00",
          "2022-05-05T00:00:00",
          "2022-05-06T00:00:00",
          "2022-05-07T00:00:00",
          "2022-05-08T00:00:00",
          "2022-05-09T00:00:00",
          "2022-05-10T00:00:00",
          "2022-05-11T00:00:00",
          "2022-05-12T00:00:00",
          "2022-05-13T00:00:00",
          "2022-05-14T00:00:00",
          "2022-05-15T00:00:00",
          "2022-05-16T00:00:00",
          "2022-05-17T00:00:00",
          "2022-05-18T00:00:00",
          "2022-05-19T00:00:00",
          "2022-05-20T00:00:00",
          "2022-05-21T00:00:00",
          "2022-05-22T00:00:00",
          "2022-05-23T00:00:00",
          "2022-05-24T00:00:00",
          "2022-05-25T00:00:00",
          "2022-05-26T00:00:00",
          "2022-05-27T00:00:00",
          "2022-05-28T00:00:00",
          "2022-05-29T00:00:00",
          "2022-05-30T00:00:00",
          "2022-05-31T00:00:00",
          "2022-06-01T00:00:00",
          "2022-06-02T00:00:00",
          "2022-06-03T00:00:00",
          "2022-06-04T00:00:00",
          "2022-06-05T00:00:00",
          "2022-06-06T00:00:00",
          "2022-06-07T00:00:00",
          "2022-06-08T00:00:00",
          "2022-06-09T00:00:00",
          "2022-06-10T00:00:00",
          "2022-06-11T00:00:00",
          "2022-06-12T00:00:00",
          "2022-06-13T00:00:00",
          "2022-06-14T00:00:00",
          "2022-06-15T00:00:00",
          "2022-06-16T00:00:00",
          "2022-06-17T00:00:00",
          "2022-06-18T00:00:00",
          "2022-06-19T00:00:00",
          "2022-06-20T00:00:00"
         ],
         "y": [
          0,
          0,
          0,
          0,
          200,
          0,
          0,
          0,
          16,
          16,
          27,
          25,
          76,
          11,
          18,
          0,
          0,
          0,
          0,
          0,
          16,
          0,
          0,
          0,
          0,
          6,
          1,
          0,
          0,
          0,
          9,
          0,
          9,
          0,
          29,
          0,
          1,
          0,
          0,
          7,
          0,
          0,
          0,
          0,
          0,
          0,
          10,
          0,
          0,
          0,
          0,
          0,
          0,
          12,
          0,
          0,
          0,
          0,
          0,
          0,
          0,
          7,
          0,
          0,
          0,
          0,
          0,
          0,
          0,
          0,
          0,
          0,
          0,
          0,
          2,
          0,
          0,
          0,
          0,
          0,
          0,
          0,
          0,
          0,
          0,
          0,
          0,
          0,
          0,
          0,
          0,
          0,
          0,
          0,
          0,
          0,
          0,
          0,
          0,
          0,
          0,
          0,
          0,
          0,
          0,
          0,
          0,
          0,
          0,
          0,
          0,
          0,
          0,
          0,
          0,
          0
         ]
        }
       ],
       "layout": {
        "barmode": "stack",
        "height": 850,
        "showlegend": false,
        "template": {
         "data": {
          "bar": [
           {
            "error_x": {
             "color": "#2a3f5f"
            },
            "error_y": {
             "color": "#2a3f5f"
            },
            "marker": {
             "line": {
              "color": "#E5ECF6",
              "width": 0.5
             },
             "pattern": {
              "fillmode": "overlay",
              "size": 10,
              "solidity": 0.2
             }
            },
            "type": "bar"
           }
          ],
          "barpolar": [
           {
            "marker": {
             "line": {
              "color": "#E5ECF6",
              "width": 0.5
             },
             "pattern": {
              "fillmode": "overlay",
              "size": 10,
              "solidity": 0.2
             }
            },
            "type": "barpolar"
           }
          ],
          "carpet": [
           {
            "aaxis": {
             "endlinecolor": "#2a3f5f",
             "gridcolor": "white",
             "linecolor": "white",
             "minorgridcolor": "white",
             "startlinecolor": "#2a3f5f"
            },
            "baxis": {
             "endlinecolor": "#2a3f5f",
             "gridcolor": "white",
             "linecolor": "white",
             "minorgridcolor": "white",
             "startlinecolor": "#2a3f5f"
            },
            "type": "carpet"
           }
          ],
          "choropleth": [
           {
            "colorbar": {
             "outlinewidth": 0,
             "ticks": ""
            },
            "type": "choropleth"
           }
          ],
          "contour": [
           {
            "colorbar": {
             "outlinewidth": 0,
             "ticks": ""
            },
            "colorscale": [
             [
              0,
              "#0d0887"
             ],
             [
              0.1111111111111111,
              "#46039f"
             ],
             [
              0.2222222222222222,
              "#7201a8"
             ],
             [
              0.3333333333333333,
              "#9c179e"
             ],
             [
              0.4444444444444444,
              "#bd3786"
             ],
             [
              0.5555555555555556,
              "#d8576b"
             ],
             [
              0.6666666666666666,
              "#ed7953"
             ],
             [
              0.7777777777777778,
              "#fb9f3a"
             ],
             [
              0.8888888888888888,
              "#fdca26"
             ],
             [
              1,
              "#f0f921"
             ]
            ],
            "type": "contour"
           }
          ],
          "contourcarpet": [
           {
            "colorbar": {
             "outlinewidth": 0,
             "ticks": ""
            },
            "type": "contourcarpet"
           }
          ],
          "heatmap": [
           {
            "colorbar": {
             "outlinewidth": 0,
             "ticks": ""
            },
            "colorscale": [
             [
              0,
              "#0d0887"
             ],
             [
              0.1111111111111111,
              "#46039f"
             ],
             [
              0.2222222222222222,
              "#7201a8"
             ],
             [
              0.3333333333333333,
              "#9c179e"
             ],
             [
              0.4444444444444444,
              "#bd3786"
             ],
             [
              0.5555555555555556,
              "#d8576b"
             ],
             [
              0.6666666666666666,
              "#ed7953"
             ],
             [
              0.7777777777777778,
              "#fb9f3a"
             ],
             [
              0.8888888888888888,
              "#fdca26"
             ],
             [
              1,
              "#f0f921"
             ]
            ],
            "type": "heatmap"
           }
          ],
          "heatmapgl": [
           {
            "colorbar": {
             "outlinewidth": 0,
             "ticks": ""
            },
            "colorscale": [
             [
              0,
              "#0d0887"
             ],
             [
              0.1111111111111111,
              "#46039f"
             ],
             [
              0.2222222222222222,
              "#7201a8"
             ],
             [
              0.3333333333333333,
              "#9c179e"
             ],
             [
              0.4444444444444444,
              "#bd3786"
             ],
             [
              0.5555555555555556,
              "#d8576b"
             ],
             [
              0.6666666666666666,
              "#ed7953"
             ],
             [
              0.7777777777777778,
              "#fb9f3a"
             ],
             [
              0.8888888888888888,
              "#fdca26"
             ],
             [
              1,
              "#f0f921"
             ]
            ],
            "type": "heatmapgl"
           }
          ],
          "histogram": [
           {
            "marker": {
             "pattern": {
              "fillmode": "overlay",
              "size": 10,
              "solidity": 0.2
             }
            },
            "type": "histogram"
           }
          ],
          "histogram2d": [
           {
            "colorbar": {
             "outlinewidth": 0,
             "ticks": ""
            },
            "colorscale": [
             [
              0,
              "#0d0887"
             ],
             [
              0.1111111111111111,
              "#46039f"
             ],
             [
              0.2222222222222222,
              "#7201a8"
             ],
             [
              0.3333333333333333,
              "#9c179e"
             ],
             [
              0.4444444444444444,
              "#bd3786"
             ],
             [
              0.5555555555555556,
              "#d8576b"
             ],
             [
              0.6666666666666666,
              "#ed7953"
             ],
             [
              0.7777777777777778,
              "#fb9f3a"
             ],
             [
              0.8888888888888888,
              "#fdca26"
             ],
             [
              1,
              "#f0f921"
             ]
            ],
            "type": "histogram2d"
           }
          ],
          "histogram2dcontour": [
           {
            "colorbar": {
             "outlinewidth": 0,
             "ticks": ""
            },
            "colorscale": [
             [
              0,
              "#0d0887"
             ],
             [
              0.1111111111111111,
              "#46039f"
             ],
             [
              0.2222222222222222,
              "#7201a8"
             ],
             [
              0.3333333333333333,
              "#9c179e"
             ],
             [
              0.4444444444444444,
              "#bd3786"
             ],
             [
              0.5555555555555556,
              "#d8576b"
             ],
             [
              0.6666666666666666,
              "#ed7953"
             ],
             [
              0.7777777777777778,
              "#fb9f3a"
             ],
             [
              0.8888888888888888,
              "#fdca26"
             ],
             [
              1,
              "#f0f921"
             ]
            ],
            "type": "histogram2dcontour"
           }
          ],
          "mesh3d": [
           {
            "colorbar": {
             "outlinewidth": 0,
             "ticks": ""
            },
            "type": "mesh3d"
           }
          ],
          "parcoords": [
           {
            "line": {
             "colorbar": {
              "outlinewidth": 0,
              "ticks": ""
             }
            },
            "type": "parcoords"
           }
          ],
          "pie": [
           {
            "automargin": true,
            "type": "pie"
           }
          ],
          "scatter": [
           {
            "fillpattern": {
             "fillmode": "overlay",
             "size": 10,
             "solidity": 0.2
            },
            "type": "scatter"
           }
          ],
          "scatter3d": [
           {
            "line": {
             "colorbar": {
              "outlinewidth": 0,
              "ticks": ""
             }
            },
            "marker": {
             "colorbar": {
              "outlinewidth": 0,
              "ticks": ""
             }
            },
            "type": "scatter3d"
           }
          ],
          "scattercarpet": [
           {
            "marker": {
             "colorbar": {
              "outlinewidth": 0,
              "ticks": ""
             }
            },
            "type": "scattercarpet"
           }
          ],
          "scattergeo": [
           {
            "marker": {
             "colorbar": {
              "outlinewidth": 0,
              "ticks": ""
             }
            },
            "type": "scattergeo"
           }
          ],
          "scattergl": [
           {
            "marker": {
             "colorbar": {
              "outlinewidth": 0,
              "ticks": ""
             }
            },
            "type": "scattergl"
           }
          ],
          "scattermapbox": [
           {
            "marker": {
             "colorbar": {
              "outlinewidth": 0,
              "ticks": ""
             }
            },
            "type": "scattermapbox"
           }
          ],
          "scatterpolar": [
           {
            "marker": {
             "colorbar": {
              "outlinewidth": 0,
              "ticks": ""
             }
            },
            "type": "scatterpolar"
           }
          ],
          "scatterpolargl": [
           {
            "marker": {
             "colorbar": {
              "outlinewidth": 0,
              "ticks": ""
             }
            },
            "type": "scatterpolargl"
           }
          ],
          "scatterternary": [
           {
            "marker": {
             "colorbar": {
              "outlinewidth": 0,
              "ticks": ""
             }
            },
            "type": "scatterternary"
           }
          ],
          "surface": [
           {
            "colorbar": {
             "outlinewidth": 0,
             "ticks": ""
            },
            "colorscale": [
             [
              0,
              "#0d0887"
             ],
             [
              0.1111111111111111,
              "#46039f"
             ],
             [
              0.2222222222222222,
              "#7201a8"
             ],
             [
              0.3333333333333333,
              "#9c179e"
             ],
             [
              0.4444444444444444,
              "#bd3786"
             ],
             [
              0.5555555555555556,
              "#d8576b"
             ],
             [
              0.6666666666666666,
              "#ed7953"
             ],
             [
              0.7777777777777778,
              "#fb9f3a"
             ],
             [
              0.8888888888888888,
              "#fdca26"
             ],
             [
              1,
              "#f0f921"
             ]
            ],
            "type": "surface"
           }
          ],
          "table": [
           {
            "cells": {
             "fill": {
              "color": "#EBF0F8"
             },
             "line": {
              "color": "white"
             }
            },
            "header": {
             "fill": {
              "color": "#C8D4E3"
             },
             "line": {
              "color": "white"
             }
            },
            "type": "table"
           }
          ]
         },
         "layout": {
          "annotationdefaults": {
           "arrowcolor": "#2a3f5f",
           "arrowhead": 0,
           "arrowwidth": 1
          },
          "autotypenumbers": "strict",
          "coloraxis": {
           "colorbar": {
            "outlinewidth": 0,
            "ticks": ""
           }
          },
          "colorscale": {
           "diverging": [
            [
             0,
             "#8e0152"
            ],
            [
             0.1,
             "#c51b7d"
            ],
            [
             0.2,
             "#de77ae"
            ],
            [
             0.3,
             "#f1b6da"
            ],
            [
             0.4,
             "#fde0ef"
            ],
            [
             0.5,
             "#f7f7f7"
            ],
            [
             0.6,
             "#e6f5d0"
            ],
            [
             0.7,
             "#b8e186"
            ],
            [
             0.8,
             "#7fbc41"
            ],
            [
             0.9,
             "#4d9221"
            ],
            [
             1,
             "#276419"
            ]
           ],
           "sequential": [
            [
             0,
             "#0d0887"
            ],
            [
             0.1111111111111111,
             "#46039f"
            ],
            [
             0.2222222222222222,
             "#7201a8"
            ],
            [
             0.3333333333333333,
             "#9c179e"
            ],
            [
             0.4444444444444444,
             "#bd3786"
            ],
            [
             0.5555555555555556,
             "#d8576b"
            ],
            [
             0.6666666666666666,
             "#ed7953"
            ],
            [
             0.7777777777777778,
             "#fb9f3a"
            ],
            [
             0.8888888888888888,
             "#fdca26"
            ],
            [
             1,
             "#f0f921"
            ]
           ],
           "sequentialminus": [
            [
             0,
             "#0d0887"
            ],
            [
             0.1111111111111111,
             "#46039f"
            ],
            [
             0.2222222222222222,
             "#7201a8"
            ],
            [
             0.3333333333333333,
             "#9c179e"
            ],
            [
             0.4444444444444444,
             "#bd3786"
            ],
            [
             0.5555555555555556,
             "#d8576b"
            ],
            [
             0.6666666666666666,
             "#ed7953"
            ],
            [
             0.7777777777777778,
             "#fb9f3a"
            ],
            [
             0.8888888888888888,
             "#fdca26"
            ],
            [
             1,
             "#f0f921"
            ]
           ]
          },
          "colorway": [
           "#636efa",
           "#EF553B",
           "#00cc96",
           "#ab63fa",
           "#FFA15A",
           "#19d3f3",
           "#FF6692",
           "#B6E880",
           "#FF97FF",
           "#FECB52"
          ],
          "font": {
           "color": "#2a3f5f"
          },
          "geo": {
           "bgcolor": "white",
           "lakecolor": "white",
           "landcolor": "#E5ECF6",
           "showlakes": true,
           "showland": true,
           "subunitcolor": "white"
          },
          "hoverlabel": {
           "align": "left"
          },
          "hovermode": "closest",
          "mapbox": {
           "style": "light"
          },
          "paper_bgcolor": "white",
          "plot_bgcolor": "#E5ECF6",
          "polar": {
           "angularaxis": {
            "gridcolor": "white",
            "linecolor": "white",
            "ticks": ""
           },
           "bgcolor": "#E5ECF6",
           "radialaxis": {
            "gridcolor": "white",
            "linecolor": "white",
            "ticks": ""
           }
          },
          "scene": {
           "xaxis": {
            "backgroundcolor": "#E5ECF6",
            "gridcolor": "white",
            "gridwidth": 2,
            "linecolor": "white",
            "showbackground": true,
            "ticks": "",
            "zerolinecolor": "white"
           },
           "yaxis": {
            "backgroundcolor": "#E5ECF6",
            "gridcolor": "white",
            "gridwidth": 2,
            "linecolor": "white",
            "showbackground": true,
            "ticks": "",
            "zerolinecolor": "white"
           },
           "zaxis": {
            "backgroundcolor": "#E5ECF6",
            "gridcolor": "white",
            "gridwidth": 2,
            "linecolor": "white",
            "showbackground": true,
            "ticks": "",
            "zerolinecolor": "white"
           }
          },
          "shapedefaults": {
           "line": {
            "color": "#2a3f5f"
           }
          },
          "ternary": {
           "aaxis": {
            "gridcolor": "white",
            "linecolor": "white",
            "ticks": ""
           },
           "baxis": {
            "gridcolor": "white",
            "linecolor": "white",
            "ticks": ""
           },
           "bgcolor": "#E5ECF6",
           "caxis": {
            "gridcolor": "white",
            "linecolor": "white",
            "ticks": ""
           }
          },
          "title": {
           "x": 0.05
          },
          "xaxis": {
           "automargin": true,
           "gridcolor": "white",
           "linecolor": "white",
           "ticks": "",
           "title": {
            "standoff": 15
           },
           "zerolinecolor": "white",
           "zerolinewidth": 2
          },
          "yaxis": {
           "automargin": true,
           "gridcolor": "white",
           "linecolor": "white",
           "ticks": "",
           "title": {
            "standoff": 15
           },
           "zerolinecolor": "white",
           "zerolinewidth": 2
          }
         }
        },
        "xaxis": {
         "rangeselector": {
          "bgcolor": "#FFA15A",
          "buttons": [
           {
            "count": 31,
            "label": "last month",
            "step": "day",
            "stepmode": "backward"
           },
           {
            "count": 7,
            "label": "last week",
            "step": "day",
            "stepmode": "backward"
           },
           {
            "label": "all time",
            "step": "all"
           }
          ]
         },
         "rangeslider": {
          "thickness": 0.05,
          "visible": true
         },
         "type": "date"
        }
       }
      }
     },
     "metadata": {},
     "output_type": "display_data"
    }
   ],
   "source": [
    "fig = go.Figure()\n",
    "fig.add_trace(\n",
    "    go.Bar(\n",
    "        x=df_personnel_daily['date'],\n",
    "        y=df_personnel_daily['personnel'],\n",
    "        marker_color=clrs.qualitative.Plotly[4],\n",
    "        hovertemplate='%{x}<br />lost: %{y} <extra></extra>',\n",
    "    \n",
    "    )\n",
    ")   \n",
    "fig.add_trace(\n",
    "    go.Bar(\n",
    "        x=df_personnel_daily['date'],\n",
    "        y=df_personnel_daily['POW'],\n",
    "        marker_color=clrs.qualitative.Pastel1[4],\n",
    "        hovertemplate='%{x}<br />captured: %{y} <extra></extra>',\n",
    "    )\n",
    ")\n",
    "fig.update_layout(\n",
    "    barmode='stack',\n",
    "    xaxis=dict(\n",
    "        rangeselector=dict(\n",
    "            buttons=list([\n",
    "                dict(count=31, label='last month', step='day', stepmode='backward'),\n",
    "                dict(count=7, label='last week', step='day', stepmode='backward'),\n",
    "                dict(label='all time', step='all')\n",
    "            ]),\n",
    "            bgcolor=clrs.qualitative.Plotly[4]\n",
    "        ),\n",
    "        rangeslider=dict(\n",
    "            visible=True,\n",
    "            thickness=0.05\n",
    "        ),\n",
    "        type='date'\n",
    "    ),\n",
    "    showlegend=False,\n",
    "    height=850         \n",
    ")\n",
    "fig.show()"
   ]
  },
  {
   "cell_type": "code",
   "execution_count": null,
   "id": "f0176b0a",
   "metadata": {},
   "outputs": [],
   "source": []
  },
  {
   "cell_type": "code",
   "execution_count": null,
   "id": "82988b26",
   "metadata": {},
   "outputs": [
    {
     "data": {
      "text/plain": [
       "Index(['aircraft', 'helicopter', 'tank', 'APC', 'field artillery', 'MRL',\n",
       "       'drone', 'naval ship', 'anti-aircraft warfare', 'special equipment',\n",
       "       'mobile SRBM system', 'cruise missiles',\n",
       "       'military and supply vehicles'],\n",
       "      dtype='object')"
      ]
     },
     "execution_count": 118,
     "metadata": {},
     "output_type": "execute_result"
    }
   ],
   "source": [
    "df_equipment_daily.columns[2:]"
   ]
  },
  {
   "cell_type": "code",
   "execution_count": null,
   "metadata": {},
   "outputs": [],
   "source": []
  },
  {
   "cell_type": "code",
   "execution_count": null,
   "id": "23715346",
   "metadata": {},
   "outputs": [
    {
     "data": {
      "text/plain": [
       "datetime.date(2022, 6, 15)"
      ]
     },
     "execution_count": 135,
     "metadata": {},
     "output_type": "execute_result"
    }
   ],
   "source": [
    "date_latest.date()"
   ]
  },
  {
   "cell_type": "code",
   "execution_count": null,
   "id": "021accdd",
   "metadata": {},
   "outputs": [
    {
     "data": {
      "text/plain": [
       "112"
      ]
     },
     "execution_count": 133,
     "metadata": {},
     "output_type": "execute_result"
    }
   ],
   "source": [
    "day_latest"
   ]
  },
  {
   "cell_type": "code",
   "execution_count": 3,
   "id": "2fec2fe8",
   "metadata": {},
   "outputs": [],
   "source": [
    "\n",
    "url_equipment = 'https://raw.githubusercontent.com/PetroIvaniuk/2022-Ukraine-Russia-War-Dataset/main/data/russia_losses_equipment.json'\n",
    "url_personnel = 'https://raw.githubusercontent.com/PetroIvaniuk/2022-Ukraine-Russia-War-Dataset/main/data/russia_losses_personnel.json'\n",
    "\n",
    "response_equipment = requests.get(url_equipment)\n",
    "response_personnel = requests.get(url_personnel)\n",
    "\n",
    "df_equipment = pd.DataFrame(response_equipment.json())\n",
    "df_personnel = pd.DataFrame(response_personnel.json())\n",
    "\n",
    "df_equipment.date = pd.to_datetime(df_equipment.date)\n",
    "df_equipment.day = df_equipment.day.astype(int)\n",
    "\n",
    "to_sum = ['military auto', 'fuel tank', 'vehicles and fuel tanks']\n",
    "to_drop = to_sum + ['greatest losses direction', 'mobile SRBM system']\n",
    "df_equipment['military and supply vehicles'] = df_equipment[to_sum].sum(axis=1)\n",
    "df_equipment = df_equipment.drop(to_drop, axis=1)\n",
    "\n",
    "df_equipment_daily = df_equipment.copy().set_index(['date', 'day'])\n",
    "df_equipment_daily = df_equipment_daily.diff().fillna(df_equipment_daily).fillna(0).reset_index()"
   ]
  },
  {
   "cell_type": "code",
   "execution_count": 15,
   "id": "14f5888e",
   "metadata": {},
   "outputs": [
    {
     "data": {
      "text/plain": [
       "aircraft                         308.0\n",
       "helicopter                       294.0\n",
       "tank                            3736.0\n",
       "APC                             7275.0\n",
       "field artillery                 3039.0\n",
       "MRL                              555.0\n",
       "drone                           2624.0\n",
       "naval ship                        18.0\n",
       "anti-aircraft warfare            308.0\n",
       "special equipment                389.0\n",
       "cruise missiles                  970.0\n",
       "military and supply vehicles    5974.0\n",
       "dtype: float64"
      ]
     },
     "execution_count": 15,
     "metadata": {},
     "output_type": "execute_result"
    }
   ],
   "source": [
    "df_equipment_daily.iloc[:,2:].sum()"
   ]
  },
  {
   "cell_type": "code",
   "execution_count": 16,
   "id": "b100d557",
   "metadata": {},
   "outputs": [
    {
     "data": {
      "text/html": [
       "<div>\n",
       "<style scoped>\n",
       "    .dataframe tbody tr th:only-of-type {\n",
       "        vertical-align: middle;\n",
       "    }\n",
       "\n",
       "    .dataframe tbody tr th {\n",
       "        vertical-align: top;\n",
       "    }\n",
       "\n",
       "    .dataframe thead th {\n",
       "        text-align: right;\n",
       "    }\n",
       "</style>\n",
       "<table border=\"1\" class=\"dataframe\">\n",
       "  <thead>\n",
       "    <tr style=\"text-align: right;\">\n",
       "      <th></th>\n",
       "      <th>date</th>\n",
       "      <th>day</th>\n",
       "      <th>personnel</th>\n",
       "      <th>personnel*</th>\n",
       "      <th>POW</th>\n",
       "    </tr>\n",
       "  </thead>\n",
       "  <tbody>\n",
       "    <tr>\n",
       "      <th>0</th>\n",
       "      <td>2022-02-25</td>\n",
       "      <td>2</td>\n",
       "      <td>2800</td>\n",
       "      <td>about</td>\n",
       "      <td>0.0</td>\n",
       "    </tr>\n",
       "    <tr>\n",
       "      <th>1</th>\n",
       "      <td>2022-02-26</td>\n",
       "      <td>3</td>\n",
       "      <td>4300</td>\n",
       "      <td>about</td>\n",
       "      <td>0.0</td>\n",
       "    </tr>\n",
       "    <tr>\n",
       "      <th>2</th>\n",
       "      <td>2022-02-27</td>\n",
       "      <td>4</td>\n",
       "      <td>4500</td>\n",
       "      <td>about</td>\n",
       "      <td>0.0</td>\n",
       "    </tr>\n",
       "    <tr>\n",
       "      <th>3</th>\n",
       "      <td>2022-02-28</td>\n",
       "      <td>5</td>\n",
       "      <td>5300</td>\n",
       "      <td>about</td>\n",
       "      <td>0.0</td>\n",
       "    </tr>\n",
       "    <tr>\n",
       "      <th>4</th>\n",
       "      <td>2022-03-01</td>\n",
       "      <td>6</td>\n",
       "      <td>5710</td>\n",
       "      <td>about</td>\n",
       "      <td>200.0</td>\n",
       "    </tr>\n",
       "    <tr>\n",
       "      <th>...</th>\n",
       "      <td>...</td>\n",
       "      <td>...</td>\n",
       "      <td>...</td>\n",
       "      <td>...</td>\n",
       "      <td>...</td>\n",
       "    </tr>\n",
       "    <tr>\n",
       "      <th>435</th>\n",
       "      <td>2023-05-06</td>\n",
       "      <td>437</td>\n",
       "      <td>193770</td>\n",
       "      <td>about</td>\n",
       "      <td>NaN</td>\n",
       "    </tr>\n",
       "    <tr>\n",
       "      <th>436</th>\n",
       "      <td>2023-05-07</td>\n",
       "      <td>438</td>\n",
       "      <td>194430</td>\n",
       "      <td>about</td>\n",
       "      <td>NaN</td>\n",
       "    </tr>\n",
       "    <tr>\n",
       "      <th>437</th>\n",
       "      <td>2023-05-08</td>\n",
       "      <td>439</td>\n",
       "      <td>194970</td>\n",
       "      <td>about</td>\n",
       "      <td>NaN</td>\n",
       "    </tr>\n",
       "    <tr>\n",
       "      <th>438</th>\n",
       "      <td>2023-05-09</td>\n",
       "      <td>440</td>\n",
       "      <td>195620</td>\n",
       "      <td>about</td>\n",
       "      <td>NaN</td>\n",
       "    </tr>\n",
       "    <tr>\n",
       "      <th>439</th>\n",
       "      <td>2023-05-10</td>\n",
       "      <td>441</td>\n",
       "      <td>196310</td>\n",
       "      <td>about</td>\n",
       "      <td>NaN</td>\n",
       "    </tr>\n",
       "  </tbody>\n",
       "</table>\n",
       "<p>440 rows × 5 columns</p>\n",
       "</div>"
      ],
      "text/plain": [
       "           date  day  personnel personnel*    POW\n",
       "0    2022-02-25    2       2800      about    0.0\n",
       "1    2022-02-26    3       4300      about    0.0\n",
       "2    2022-02-27    4       4500      about    0.0\n",
       "3    2022-02-28    5       5300      about    0.0\n",
       "4    2022-03-01    6       5710      about  200.0\n",
       "..          ...  ...        ...        ...    ...\n",
       "435  2023-05-06  437     193770      about    NaN\n",
       "436  2023-05-07  438     194430      about    NaN\n",
       "437  2023-05-08  439     194970      about    NaN\n",
       "438  2023-05-09  440     195620      about    NaN\n",
       "439  2023-05-10  441     196310      about    NaN\n",
       "\n",
       "[440 rows x 5 columns]"
      ]
     },
     "execution_count": 16,
     "metadata": {},
     "output_type": "execute_result"
    }
   ],
   "source": [
    "df_personnel"
   ]
  },
  {
   "cell_type": "code",
   "execution_count": 17,
   "id": "b903925d",
   "metadata": {},
   "outputs": [],
   "source": [
    "df_personnel = df_personnel.drop(['personnel*'], axis=1)\n",
    "df_personnel.date = pd.to_datetime(df_personnel.date)\n",
    "\n",
    "df_personnel_daily = df_personnel.copy().set_index(['date', 'day'])\n",
    "df_personnel_daily = df_personnel_daily.diff().fillna(df_personnel_daily).reset_index()\n",
    "\n",
    "df_personnel_last_day = df_personnel_daily.iloc[-1].copy()"
   ]
  },
  {
   "cell_type": "code",
   "execution_count": 18,
   "id": "d92a1d05",
   "metadata": {},
   "outputs": [
    {
     "data": {
      "text/html": [
       "<div>\n",
       "<style scoped>\n",
       "    .dataframe tbody tr th:only-of-type {\n",
       "        vertical-align: middle;\n",
       "    }\n",
       "\n",
       "    .dataframe tbody tr th {\n",
       "        vertical-align: top;\n",
       "    }\n",
       "\n",
       "    .dataframe thead th {\n",
       "        text-align: right;\n",
       "    }\n",
       "</style>\n",
       "<table border=\"1\" class=\"dataframe\">\n",
       "  <thead>\n",
       "    <tr style=\"text-align: right;\">\n",
       "      <th></th>\n",
       "      <th>date</th>\n",
       "      <th>day</th>\n",
       "      <th>personnel</th>\n",
       "      <th>POW</th>\n",
       "    </tr>\n",
       "  </thead>\n",
       "  <tbody>\n",
       "    <tr>\n",
       "      <th>0</th>\n",
       "      <td>2022-02-25</td>\n",
       "      <td>2</td>\n",
       "      <td>2800.0</td>\n",
       "      <td>0.0</td>\n",
       "    </tr>\n",
       "    <tr>\n",
       "      <th>1</th>\n",
       "      <td>2022-02-26</td>\n",
       "      <td>3</td>\n",
       "      <td>1500.0</td>\n",
       "      <td>0.0</td>\n",
       "    </tr>\n",
       "    <tr>\n",
       "      <th>2</th>\n",
       "      <td>2022-02-27</td>\n",
       "      <td>4</td>\n",
       "      <td>200.0</td>\n",
       "      <td>0.0</td>\n",
       "    </tr>\n",
       "    <tr>\n",
       "      <th>3</th>\n",
       "      <td>2022-02-28</td>\n",
       "      <td>5</td>\n",
       "      <td>800.0</td>\n",
       "      <td>0.0</td>\n",
       "    </tr>\n",
       "    <tr>\n",
       "      <th>4</th>\n",
       "      <td>2022-03-01</td>\n",
       "      <td>6</td>\n",
       "      <td>410.0</td>\n",
       "      <td>200.0</td>\n",
       "    </tr>\n",
       "    <tr>\n",
       "      <th>...</th>\n",
       "      <td>...</td>\n",
       "      <td>...</td>\n",
       "      <td>...</td>\n",
       "      <td>...</td>\n",
       "    </tr>\n",
       "    <tr>\n",
       "      <th>435</th>\n",
       "      <td>2023-05-06</td>\n",
       "      <td>437</td>\n",
       "      <td>560.0</td>\n",
       "      <td>NaN</td>\n",
       "    </tr>\n",
       "    <tr>\n",
       "      <th>436</th>\n",
       "      <td>2023-05-07</td>\n",
       "      <td>438</td>\n",
       "      <td>660.0</td>\n",
       "      <td>NaN</td>\n",
       "    </tr>\n",
       "    <tr>\n",
       "      <th>437</th>\n",
       "      <td>2023-05-08</td>\n",
       "      <td>439</td>\n",
       "      <td>540.0</td>\n",
       "      <td>NaN</td>\n",
       "    </tr>\n",
       "    <tr>\n",
       "      <th>438</th>\n",
       "      <td>2023-05-09</td>\n",
       "      <td>440</td>\n",
       "      <td>650.0</td>\n",
       "      <td>NaN</td>\n",
       "    </tr>\n",
       "    <tr>\n",
       "      <th>439</th>\n",
       "      <td>2023-05-10</td>\n",
       "      <td>441</td>\n",
       "      <td>690.0</td>\n",
       "      <td>NaN</td>\n",
       "    </tr>\n",
       "  </tbody>\n",
       "</table>\n",
       "<p>440 rows × 4 columns</p>\n",
       "</div>"
      ],
      "text/plain": [
       "          date  day  personnel    POW\n",
       "0   2022-02-25    2     2800.0    0.0\n",
       "1   2022-02-26    3     1500.0    0.0\n",
       "2   2022-02-27    4      200.0    0.0\n",
       "3   2022-02-28    5      800.0    0.0\n",
       "4   2022-03-01    6      410.0  200.0\n",
       "..         ...  ...        ...    ...\n",
       "435 2023-05-06  437      560.0    NaN\n",
       "436 2023-05-07  438      660.0    NaN\n",
       "437 2023-05-08  439      540.0    NaN\n",
       "438 2023-05-09  440      650.0    NaN\n",
       "439 2023-05-10  441      690.0    NaN\n",
       "\n",
       "[440 rows x 4 columns]"
      ]
     },
     "execution_count": 18,
     "metadata": {},
     "output_type": "execute_result"
    }
   ],
   "source": [
    "df_personnel_daily"
   ]
  },
  {
   "cell_type": "code",
   "execution_count": 20,
   "id": "f795f93c",
   "metadata": {},
   "outputs": [
    {
     "data": {
      "text/plain": [
       "196310.0"
      ]
     },
     "execution_count": 20,
     "metadata": {},
     "output_type": "execute_result"
    }
   ],
   "source": [
    "df_personnel_daily['personnel'].sum()"
   ]
  },
  {
   "cell_type": "code",
   "execution_count": 21,
   "id": "ad546d73",
   "metadata": {},
   "outputs": [],
   "source": [
    "df_equipment_sum = df_equipment_daily.iloc[:,2:].sum()"
   ]
  },
  {
   "cell_type": "code",
   "execution_count": 23,
   "id": "a0428f95",
   "metadata": {},
   "outputs": [
    {
     "data": {
      "text/plain": [
       "25490.0"
      ]
     },
     "execution_count": 23,
     "metadata": {},
     "output_type": "execute_result"
    }
   ],
   "source": [
    "df_equipment_sum.sum()"
   ]
  },
  {
   "cell_type": "code",
   "execution_count": null,
   "id": "33a93e21",
   "metadata": {},
   "outputs": [],
   "source": []
  }
 ],
 "metadata": {
  "interpreter": {
   "hash": "fbe58ca63fe33f9eeae9e71d10368d2b4a57f2b1b395836210cc60d362c66949"
  },
  "kernelspec": {
   "display_name": "Python 3.10.4 64-bit",
   "language": "python",
   "name": "python3"
  },
  "language_info": {
   "codemirror_mode": {
    "name": "ipython",
    "version": 3
   },
   "file_extension": ".py",
   "mimetype": "text/x-python",
   "name": "python",
   "nbconvert_exporter": "python",
   "pygments_lexer": "ipython3",
   "version": "3.10.4"
  }
 },
 "nbformat": 4,
 "nbformat_minor": 5
}
